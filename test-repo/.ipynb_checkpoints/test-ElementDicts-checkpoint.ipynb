{
 "cells": [
  {
   "cell_type": "markdown",
   "id": "ff1d53a5-3f68-4cdf-aa5d-8a12facf257d",
   "metadata": {},
   "source": [
    "# Test for Table Transformer Parser"
   ]
  },
  {
   "cell_type": "code",
   "execution_count": 17,
   "id": "1cfa014f-2703-4a4d-b238-aa1bb1bb833a",
   "metadata": {},
   "outputs": [],
   "source": [
    "exampleTableHtml = \"\"\"<table style=\"border: 2; background: none;\" align=\"center\" class=\"wikitable\">\n",
    "<tbody><tr>\n",
    "<th colspan=\"1\" rowspan=\"2\" style=\"border: 1; background: 1;\">Transmission\n",
    "</th>\n",
    "<th colspan=\"1\" rowspan=\"2\">Clinical Presentation\n",
    "</th>\n",
    "<th colspan=\"1\" rowspan=\"2\">Disease\n",
    "</th>\n",
    "<th colspan=\"2\" rowspan=\"1\">Diagnosis\n",
    "</th>\n",
    "<th colspan=\"2\" rowspan=\"1\">Mother to Child Transmission\n",
    "</th>\n",
    "<th colspan=\"1\" rowspan=\"2\">Most Serious Complications\n",
    "</th></tr>e\n",
    "<tr>\n",
    "<th colspan=\"1\" rowspan=\"1\">Laboratory Studies</th>\n",
    "<th>Clinical Diagnosis</th>\n",
    "<th>Vertical Transmission</th>\n",
    "<th>Trans-vaginal Transmission\n",
    "</th></tr>\n",
    "<tr>\n",
    "<th colspan=\"1\" rowspan=\"13\">Primarily sexually transmitted\n",
    "</th>\n",
    "<th colspan=\"1\" rowspan=\"6\"><b>Genital Dermatological Manifestation <br>(e.g., <a href=\"/index.php/Genital_ulcer\" title=\"Genital ulcer\">ulcers</a>, <a href=\"/index.php/Chancre\" title=\"Chancre\">chancre</a>, vesicles, <a href=\"/index.php/Genital_warts\" title=\"Genital warts\">warts</a>, <a href=\"/index.php/Balanitis\" title=\"Balanitis\">balanitis</a> etc.)</b>\n",
    "</th>\n",
    "<td colspan=\"1\" rowspan=\"1\"><a href=\"/index.php/HPV\" class=\"mw-redirect\" title=\"HPV\">HPV</a></td>\n",
    "<td>✔</td>\n",
    "<td>✔</td>\n",
    "<td></td>\n",
    "<td></td>\n",
    "<td><a href=\"/index.php/Cervical_Cancer\" class=\"mw-redirect\" title=\"Cervical Cancer\">Cervical Cancer</a>\n",
    "</td></tr>\n",
    "<tr>\n",
    "<td colspan=\"1\" rowspan=\"1\"><a href=\"/index.php?title=%27%27Herpes_simplex%27%27&amp;action=edit&amp;redlink=1\" class=\"new\" title=\"''Herpes simplex'' (page does not exist)\">''Herpes simplex''</a> 1 and 2</td>\n",
    "<td>✔</td>\n",
    "<td>✔</td>\n",
    "<td>✔</td>\n",
    "<td>✔</td>\n",
    "<td>Moderate to severe <a href=\"/index.php/Pruritis\" title=\"Pruritis\">pruritis</a>/discomfort, superinfection\n",
    "</td></tr>\n",
    "<tr>\n",
    "<td colspan=\"1\" rowspan=\"1\"><a href=\"/index.php/Syphilis\" title=\"Syphilis\">Syphilis</a></td>\n",
    "<td>✔</td>\n",
    "<td>✔</td>\n",
    "<td>✔</td>\n",
    "<td></td>\n",
    "<td>\n",
    "<ul><li><a href=\"/index.php/Neurosyphilis\" title=\"Neurosyphilis\">Neurosyphilis</a><br></li>\n",
    "<li><a href=\"/index.php/Cardiosyphilis\" class=\"mw-redirect\" title=\"Cardiosyphilis\">Cardiosyphilis</a></li></ul>\n",
    "</td></tr>\n",
    "<tr>\n",
    "<td colspan=\"1\" rowspan=\"1\"><a href=\"/index.php/Scabies\" title=\"Scabies\">Scabies</a></td>\n",
    "<td>✔</td>\n",
    "<td>✔</td>\n",
    "<td></td>\n",
    "<td></td>\n",
    "<td>Moderate to severe <a href=\"/index.php/Pruritis\" title=\"Pruritis\">pruritis</a>/discomfort\n",
    "</td></tr>\n",
    "<tr>\n",
    "<td colspan=\"1\" rowspan=\"1\"><a href=\"/index.php/Pubic_lice\" class=\"mw-redirect\" title=\"Pubic lice\">Pubic lice</a></td>\n",
    "<td>✔</td>\n",
    "<td>✔</td>\n",
    "<td></td>\n",
    "<td></td>\n",
    "<td>Moderate to severe <a href=\"/index.php/Pruritis\" title=\"Pruritis\">pruritis</a>/discomfort\n",
    "</td></tr>\n",
    "<tr>\n",
    "<td colspan=\"1\" rowspan=\"1\"><a href=\"/index.php/Candidiasis\" title=\"Candidiasis\">Candidiasis</a><br>(in males)</td>\n",
    "<td></td>\n",
    "<td>✔</td>\n",
    "<td></td>\n",
    "<td></td>\n",
    "<td>Mild to moderate <a href=\"/index.php/Pruritis\" title=\"Pruritis\">pruritis</a>/discomfort\n",
    "</td></tr>\n",
    "<tr>\n",
    "<th colspan=\"1\" rowspan=\"2\"><b>Generalized Symptoms<br> (e.g., constitutional symptoms)</b>\n",
    "</th>\n",
    "<td colspan=\"1\" rowspan=\"1\"><a href=\"/index.php/HIV\" class=\"mw-redirect\" title=\"HIV\">HIV</a></td>\n",
    "<td>✔</td>\n",
    "<td></td>\n",
    "<td>✔</td>\n",
    "<td></td>\n",
    "<td>\n",
    "<ul><li><a href=\"/index.php/Primary_CNS_Lymphoma\" class=\"mw-redirect\" title=\"Primary CNS Lymphoma\">Primary CNS Lymphoma</a><br></li>\n",
    "<li><a href=\"/index.php/Immunosuppression\" title=\"Immunosuppression\">Immunosuppression</a> (AIDS)</li></ul>\n",
    "</td></tr>\n",
    "<tr>\n",
    "<td colspan=\"1\" rowspan=\"1\"><a href=\"/index.php/Syphilis\" title=\"Syphilis\">Syphilis</a></td>\n",
    "<td>✔</td>\n",
    "<td>✔</td>\n",
    "<td>✔</td>\n",
    "<td></td>\n",
    "<td>\n",
    "<ul><li><a href=\"/index.php/Neurosyphilis\" title=\"Neurosyphilis\">Neurosyphilis<br></a></li>\n",
    "<li><a href=\"/index.php/Syphilis\" title=\"Syphilis\">Cardiosyphilis</a></li></ul>\n",
    "</td></tr>\n",
    "<tr>\n",
    "<th colspan=\"1\" rowspan=\"5\"><b>Urogenital infections<br> (e.g., <a href=\"/index.php/Vaginitis\" title=\"Vaginitis\">Vaginitis</a>, <a href=\"/index.php/Urethritis\" title=\"Urethritis\">Urethritis</a>, <a href=\"/index.php/Cervicitis\" title=\"Cervicitis\">Cervicitis</a>, and <a href=\"/index.php/PID\" title=\"PID\">PID</a>)</b>\n",
    "</th>\n",
    "<td colspan=\"1\" rowspan=\"1\"><a href=\"/index.php/Gonorrhea\" title=\"Gonorrhea\">Gonorrhea</a></td>\n",
    "<td>✔</td>\n",
    "<td>✔</td>\n",
    "<td></td>\n",
    "<td>✔</td>\n",
    "<td><a href=\"/index.php/PID\" title=\"PID\">PID</a>\n",
    "</td></tr>\n",
    "<tr>\n",
    "<td colspan=\"1\" rowspan=\"1\"><a href=\"/index.php/Chlamydia\" class=\"mw-redirect\" title=\"Chlamydia\">Chlamydia</a></td>\n",
    "<td>✔</td>\n",
    "<td>✔</td>\n",
    "<td></td>\n",
    "<td>✔</td>\n",
    "<td><a href=\"/index.php/PID\" title=\"PID\">PID</a>\n",
    "</td></tr>\n",
    "<tr>\n",
    "<td colspan=\"1\" rowspan=\"1\"><a href=\"/index.php/Syphilis\" title=\"Syphilis\">Syphilis</a></td>\n",
    "<td>✔</td>\n",
    "<td>✔</td>\n",
    "<td>✔</td>\n",
    "<td></td>\n",
    "<td>\n",
    "<ul><li><a href=\"/index.php/Neurosyphilis\" title=\"Neurosyphilis\">Neurosyphilis</a></li>\n",
    "<li><a href=\"/index.php/Cardiosyphilis\" class=\"mw-redirect\" title=\"Cardiosyphilis\">Cardiosyphilis</a></li></ul>\n",
    "</td></tr>\n",
    "<tr>\n",
    "<td colspan=\"1\" rowspan=\"1\"><a href=\"/index.php?title=%27%27Mycoplasma_genitalium%27%27_infection&amp;action=edit&amp;redlink=1\" class=\"new\" title=\"''Mycoplasma genitalium'' infection (page does not exist)\"><i>Mycoplasma genitalium</i></a></td>\n",
    "<td>✔</td>\n",
    "<td>✔</td>\n",
    "<td>unknown</td>\n",
    "<td>unknown</td>\n",
    "<td><a href=\"/index.php/PID\" title=\"PID\">PID</a>\n",
    "</td></tr>\n",
    "<tr>\n",
    "<td colspan=\"1\" rowspan=\"1\"><a href=\"/index.php?title=%27%27Trichomonas_vaginalis%27%27&amp;action=edit&amp;redlink=1\" class=\"new\" title=\"''Trichomonas vaginalis'' (page does not exist)\">''Trichomonas vaginalis''</a></td>\n",
    "<td>✔</td>\n",
    "<td>✔</td>\n",
    "<td></td>\n",
    "<td></td>\n",
    "<td><a href=\"/index.php/PID\" title=\"PID\">PID</a>\n",
    "</td></tr>\n",
    "<tr>\n",
    "<th colspan=\"1\" rowspan=\"6\">Less frequently sexually transmitted\n",
    "</th>\n",
    "<th colspan=\"1\" rowspan=\"3\"><b>Generalized Symptoms<br> (e.g., constitutional symptoms)</b>\n",
    "</th>\n",
    "<td colspan=\"1\" rowspan=\"1\"><a href=\"/index.php/Zika_virus_infection\" title=\"Zika virus infection\">Zika Virus</a></td>\n",
    "<td>✔</td>\n",
    "<td></td>\n",
    "<td>✔</td>\n",
    "<td></td>\n",
    "<td><a href=\"/index.php/Vertical_transmission\" title=\"Vertical transmission\">Vertical transmission</a> and congenital abnormalities\n",
    "</td></tr>\n",
    "<tr>\n",
    "<td colspan=\"1\" rowspan=\"1\"><a href=\"/index.php/Hepatitis_B\" title=\"Hepatitis B\">Hepatitis B</a></td>\n",
    "<td>✔</td>\n",
    "<td>✔</td>\n",
    "<td>✔</td>\n",
    "<td></td>\n",
    "<td><a href=\"/index.php/Hepatocellular_Carcinoma\" class=\"mw-redirect\" title=\"Hepatocellular Carcinoma\">Hepatocellular Carcinoma</a>\n",
    "</td></tr>\n",
    "<tr>\n",
    "<td colspan=\"1\" rowspan=\"1\"><a href=\"/index.php/Hepatitis_C\" title=\"Hepatitis C\">Hepatitis C</a></td>\n",
    "<td>✔</td>\n",
    "<td>✔</td>\n",
    "<td>✔</td>\n",
    "<td></td>\n",
    "<td><a href=\"/index.php/Liver_cirrhosis\" class=\"mw-redirect\" title=\"Liver cirrhosis\">Liver cirrhosis</a>, <a href=\"/index.php/Hepatocellular_Carcinoma\" class=\"mw-redirect\" title=\"Hepatocellular Carcinoma\">Hepatocellular Carcinoma</a>\n",
    "</td></tr>\n",
    "<tr>\n",
    "<th colspan=\"1\" rowspan=\"3\"><b>Urogenital Infections <br> (e.g., <a href=\"/index.php/Vaginitis\" title=\"Vaginitis\">Vaginitis</a>, <a href=\"/index.php/Urethritis\" title=\"Urethritis\">Urethritis</a>, <a href=\"/index.php/Cervicitis\" title=\"Cervicitis\">Cervicitis</a>, and <a href=\"/index.php/PID\" title=\"PID\">PID</a>)</b>\n",
    "</th>\n",
    "<td colspan=\"1\" rowspan=\"1\"><a href=\"/index.php?title=%27%27Gardnerella_vaginalis%27%27&amp;action=edit&amp;redlink=1\" class=\"new\" title=\"''Gardnerella vaginalis'' (page does not exist)\">''Gardnerella vaginalis''</a></td>\n",
    "<td>✔</td>\n",
    "<td>✔</td>\n",
    "<td></td>\n",
    "<td></td>\n",
    "<td>Moderate to severe discomfort\n",
    "</td></tr>\n",
    "<tr>\n",
    "<td colspan=\"1\" rowspan=\"1\"><a href=\"/index.php/Candidiasis\" title=\"Candidiasis\">Candidiasis</a><br> (in females)</td>\n",
    "<td></td>\n",
    "<td>✔</td>\n",
    "<td></td>\n",
    "<td></td>\n",
    "<td>Moderate to severe <a href=\"/index.php/Pruritis\" title=\"Pruritis\">pruritis</a>/discomfort\n",
    "</td></tr>\n",
    "<tr>\n",
    "<td colspan=\"1\" rowspan=\"1\"><a href=\"/index.php?title=%27%27Ureaplasma_urealyticum%27%27&amp;action=edit&amp;redlink=1\" class=\"new\" title=\"''Ureaplasma urealyticum'' (page does not exist)\"> <i>Ureaplasma urealyticum</i></a></td>\n",
    "<td>✔</td>\n",
    "<td>✔</td>\n",
    "<td></td>\n",
    "<td></td>\n",
    "<td>Moderate to severe <a href=\"/index.php/Pruritis\" title=\"Pruritis\">pruritis</a>/discomfort\n",
    "</td></tr>\n",
    "</tbody></table>\"\"\""
   ]
  },
  {
   "cell_type": "code",
   "execution_count": 10,
   "id": "c71f9682-1232-4839-8b47-8b0ee552a506",
   "metadata": {
    "jupyter": {
     "source_hidden": true
    }
   },
   "outputs": [],
   "source": [
    "exampleHtmlTable2 = \"\"\"<table class=\"infobox bordered\" style=\"width: 15em; text-align: left; font-size: 90%; background:AliceBlue\">\n",
    "\n",
    "<tbody><tr>\n",
    "<td colspan=\"1\" style=\"text-align:center; background:DarkGray\">\n",
    "<p><b>WikiDoc Resources for Heart</b>\n",
    "</p>\n",
    "</td></tr>\n",
    "<tr bgcolor=\"LightGrey\">\n",
    "<th>\n",
    "<p>Articles\n",
    "</p>\n",
    "</th></tr>\n",
    "<tr>\n",
    "<th>\n",
    "<p><small>\n",
    "<a rel=\"nofollow\" class=\"external text\" href=\"http://www.ncbi.nlm.nih.gov/entrez/query.fcgi?CMD=search&amp;db=pubmed&amp;term=Heart\">Most recent articles on Heart</a>\n",
    "</small></p><p><small><a rel=\"nofollow\" class=\"external text\" href=\"http://scholar.google.com/scholar?ie=UTF-8&amp;oe=utf-8&amp;q=Heart&amp;qt_s=Search&amp;sa=N&amp;tab=ps\">Most cited articles on Heart</a>\n",
    "</small></p><p><small><a rel=\"nofollow\" class=\"external text\" href=\"http://www.ncbi.nlm.nih.gov/sites/entrez?cmd=search&amp;db=pubmed&amp;term=Heart%20AND%20systematic%5Bsb%5D\">Review articles on Heart</a>\n",
    "</small></p><p><small><a rel=\"nofollow\" class=\"external text\" href=\"http://www.ncbi.nlm.nih.gov/entrez/query.fcgi?cmd=search&amp;db=pubmed&amp;term=Heart+AND+%28%28N+Engl+J+Med%5Bta%5D%29+OR+%28Lancet%5Bta%5D%29+OR+%28BMJ%5Bta%5D%29%29\">Articles on Heart in N Eng J Med, Lancet, BMJ</a>\n",
    "</small>\n",
    "</p>\n",
    "</th></tr>\n",
    "<tr bgcolor=\"LightGrey\">\n",
    "<th>\n",
    "<p>Media\n",
    "</p>\n",
    "</th></tr>\n",
    "<tr>\n",
    "<th>\n",
    "<p><small>\n",
    "<a rel=\"nofollow\" class=\"external text\" href=\"http://www.google.com/search?q=Heart+ppt&amp;ie=utf-8&amp;oe=utf-8&amp;aq=t&amp;rls=org.mozilla:en-US:official&amp;client=firefox-a\">Powerpoint slides on Heart</a>\n",
    "</small></p><p><small><a rel=\"nofollow\" class=\"external text\" href=\"http://images.google.com/images?q=Heart&amp;ie=UTF-8&amp;oe=utf-8&amp;rls=org.mozilla:en-US:official&amp;client=firefox-a&amp;um=1&amp;sa=N&amp;tab=wi\">Images of Heart</a>\n",
    "</small></p><p><small><a rel=\"nofollow\" class=\"external text\" href=\"http://picasaweb.google.com/lh/searchbrowse?q=Heart&amp;ie=UTF-8&amp;oe=utf-8&amp;rls=org.mozilla:en-US:official&amp;client=firefox-a&amp;um=1&amp;sa=N&amp;tab=wq#2+1\">Photos of Heart</a>\n",
    "</small></p><p><small><a rel=\"nofollow\" class=\"external text\" href=\"http://www.google.com/search?hl=en&amp;client=firefox-a&amp;rls=org.mozilla%3Aen-US%3Aofficial&amp;hs=hPo&amp;q=Heart+podcasts+OR+MP3&amp;btnG=Search\">Podcasts &amp; MP3s on Heart</a>\n",
    "</small></p><p><small><a rel=\"nofollow\" class=\"external text\" href=\"http://video.google.com/videosearch?q=Heart&amp;ie=UTF-8&amp;oe=utf-8&amp;rls=org.mozilla:en-US:official&amp;um=1&amp;sa=N&amp;tab=fv#\">Videos on Heart</a></small>\n",
    "</p>\n",
    "</th></tr>\n",
    "<tr bgcolor=\"LightGrey\">\n",
    "<th>\n",
    "<p>Evidence Based Medicine\n",
    "</p>\n",
    "</th></tr>\n",
    "<tr>\n",
    "<th>\n",
    "<p><small>\n",
    "<a rel=\"nofollow\" class=\"external text\" href=\"http://www.ncbi.nlm.nih.gov/entrez/query.fcgi?cmd=search&amp;db=pubmed&amp;term=%28Heart%29+AND+%28Cochrane+Database+Syst+Rev%5Bta%5D%29\">Cochrane Collaboration on Heart</a>\n",
    "</small></p><p><small><a rel=\"nofollow\" class=\"external text\" href=\"http://www.jr2.ox.ac.uk/cgi-bin/htsearch?config=bando&amp;restrict=&amp;exclude=&amp;method=and&amp;format=builtin-long&amp;sort=score&amp;words=Heart\">Bandolier on Heart</a>\n",
    "</small></p><p><small><a rel=\"nofollow\" class=\"external text\" href=\"http://www.tripdatabase.com/SearchResults.html?s=1&amp;criteria=Heart&amp;btnG=Search\">TRIP on Heart</a>\n",
    "</small>\n",
    "</p>\n",
    "</th></tr>\n",
    "<tr bgcolor=\"LightGrey\">\n",
    "<th>\n",
    "<p>Clinical Trials\n",
    "</p>\n",
    "</th></tr>\n",
    "<tr>\n",
    "<th>\n",
    "<p><small>\n",
    "<a rel=\"nofollow\" class=\"external text\" href=\"http://clinicaltrials.gov/search/open/condition=Heart\">Ongoing Trials on Heart at Clinical Trials.gov</a>\n",
    "</small></p><p><small><a rel=\"nofollow\" class=\"external text\" href=\"http://www.ncbi.nlm.nih.gov/entrez/query.fcgi?cmd=search&amp;db=pubmed&amp;term=Heart+AND+%28randomized+controlled+trial%5BPublication+Type%5D+OR+%28randomized%5BTitle%2FAbstract%5D+AND+controlled%5BTitle%2FAbstract%5D+AND+trial%5BTitle%2FAbstract%5D%29%29\">Trial results on Heart</a>\n",
    "</small></p><p><small><a rel=\"nofollow\" class=\"external text\" href=\"http://www.google.com/search?hl=en&amp;client=firefox-a&amp;rls=org.mozilla:en-US:official&amp;hs=9X6&amp;q=Heart+more:clinical_trials&amp;cx=disease_for_health_professionals&amp;sa=N&amp;oi=coopctx&amp;resnum=0&amp;ct=col2&amp;cd=3\">Clinical Trials on Heart at Google</a>\n",
    "</small></p><p class=\"mw-empty-elt\">\n",
    "</p>\n",
    "</th></tr>\n",
    "<tr bgcolor=\"LightGrey\">\n",
    "<th>\n",
    "<p>Guidelines / Policies / Govt\n",
    "</p>\n",
    "</th></tr>\n",
    "<tr>\n",
    "<th>\n",
    "<p><small>\n",
    "<a rel=\"nofollow\" class=\"external text\" href=\"http://www.guideline.gov/search/searchresults.aspx?Type=3&amp;txtSearch=Heart&amp;num=20\">US National Guidelines Clearinghouse on Heart</a>\n",
    "</small></p><p><small><a rel=\"nofollow\" class=\"external text\" href=\"http://www.nice.org.uk/search/guidancesearchresults.jsp?keywords=Heart&amp;searchType=guidance\">NICE Guidance on Heart</a>\n",
    "</small></p><p><small><a rel=\"nofollow\" class=\"external text\" href=\"http://www.prodigy.nhs.uk/search?&amp;page=1&amp;q=Heart&amp;site=0\">NHS PRODIGY Guidance</a>\n",
    "</small></p><p><small><a rel=\"nofollow\" class=\"external text\" href=\"http://google2.fda.gov/search?q=Heart&amp;x=0&amp;y=0&amp;client=FDA&amp;site=FDA&amp;lr=&amp;proxystylesheet=FDA&amp;output=xml_no_dtd&amp;getfields=*\">FDA on Heart</a>\n",
    "</small></p><p><small><a rel=\"nofollow\" class=\"external text\" href=\"http://www.cdc.gov/search.do?queryText=Heart&amp;searchButton.x=33&amp;searchButton.y=6&amp;action=search\">CDC on Heart</a>\n",
    "</small></p><p class=\"mw-empty-elt\">\n",
    "</p>\n",
    "</th></tr>\n",
    "<tr bgcolor=\"LightGrey\">\n",
    "<th>\n",
    "<p>Books\n",
    "</p>\n",
    "</th></tr>\n",
    "<tr>\n",
    "<th>\n",
    "<p><small>\n",
    "<a rel=\"nofollow\" class=\"external text\" href=\"http://books.google.com/books?ie=UTF-8&amp;oe=utf-8&amp;q=Heart&amp;qt_s=Search&amp;sa=N&amp;tab=gp\">Books on Heart</a></small>\n",
    "</p>\n",
    "</th></tr>\n",
    "<tr bgcolor=\"LightGrey\">\n",
    "<th>\n",
    "<p>News\n",
    "</p>\n",
    "</th></tr>\n",
    "<tr>\n",
    "<th>\n",
    "<p><small>\n",
    "<a rel=\"nofollow\" class=\"external text\" href=\"http://news.google.com/news?q=Heart&amp;ie=UTF-8&amp;oe=utf-8&amp;rls=org.mozilla:en-US:official&amp;client=firefox-a&amp;um=1&amp;sa=N&amp;tab=wn\">Heart in the news</a>\n",
    "</small></p><p><small><a rel=\"nofollow\" class=\"external text\" href=\"http://www.google.com/alerts/create?hl=en&amp;gl=\">Be alerted to news on Heart</a>\n",
    "</small></p><p><small><a rel=\"nofollow\" class=\"external text\" href=\"http://www.google.com/trends?q=Heart\">News trends on Heart</a></small>\n",
    "</p>\n",
    "</th></tr>\n",
    "<tr bgcolor=\"LightGrey\">\n",
    "<th>\n",
    "<p>Commentary\n",
    "</p>\n",
    "</th></tr>\n",
    "<tr>\n",
    "<th>\n",
    "<p><small>\n",
    "<a rel=\"nofollow\" class=\"external text\" href=\"http://blogsearch.google.com/blogsearch?q=Heart&amp;ie=UTF-8&amp;oe=utf-8&amp;rls=org.mozilla:en-US:official&amp;client=firefox-a&amp;um=1&amp;sa=N&amp;tab=wb\">Blogs on Heart</a></small>\n",
    "</p>\n",
    "</th></tr>\n",
    "<tr bgcolor=\"LightGrey\">\n",
    "<th>\n",
    "<p>Definitions\n",
    "</p>\n",
    "</th></tr>\n",
    "<tr>\n",
    "<th>\n",
    "<p><small>\n",
    "<a rel=\"nofollow\" class=\"external text\" href=\"http://www.google.com/search?hl=en&amp;q=define+Heart&amp;btnG=Search\">Definitions of Heart</a></small>\n",
    "</p>\n",
    "</th></tr>\n",
    "<tr bgcolor=\"LightGrey\">\n",
    "<th>\n",
    "<p>Patient Resources / Community\n",
    "</p>\n",
    "</th></tr>\n",
    "<tr>\n",
    "<th>\n",
    "<p><small>\n",
    "<a rel=\"nofollow\" class=\"external text\" href=\"http://www.google.com/search?hl=en&amp;q=Heart+more:for_patients&amp;cx=disease_for_patients&amp;sa=N&amp;oi=cooptsr&amp;resnum=0&amp;ct=col3&amp;cd=1\">Patient resources on Heart</a>\n",
    "</small></p><p><small><a rel=\"nofollow\" class=\"external text\" href=\"http://groups.google.com/groups/search?ie=UTF-8&amp;oe=utf-8&amp;q=Heart&amp;qt_s=Search\">Discussion groups on Heart</a>\n",
    "</small></p><p><small><a rel=\"nofollow\" class=\"external text\" href=\"http://www.google.com/search?hl=en&amp;client=firefox-a&amp;rls=org.mozilla:en-US:official&amp;q=Heart+more:patient_handouts&amp;cx=disease_for_health_professionals&amp;sa=N&amp;oi=coopctx&amp;resnum=0&amp;ct=col1&amp;cd=3\">Patient Handouts on Heart</a>\n",
    "</small></p><p><small><a rel=\"nofollow\" class=\"external text\" href=\"http://maps.google.com/maps?f=q&amp;hl=en&amp;geocode=&amp;q=Heart&amp;sll=37.0625,-95.677068&amp;sspn=65.008093,112.148438&amp;ie=UTF8&amp;ll=37.0625,-95.677068&amp;spn=91.690419,149.414063&amp;z=2&amp;source=embed\">Directions to Hospitals Treating Heart</a>\n",
    "</small></p><p><small><a rel=\"nofollow\" class=\"external text\" href=\"http://www.google.com/search?hl=en&amp;client=firefox-a&amp;rls=org.mozilla%3Aen-US%3Aofficial&amp;hs=QWo&amp;q=Heart+AND+risk+score+OR+risk+calculator&amp;btnG=Search\">Risk calculators and risk factors for Heart</a>\n",
    "</small></p><p class=\"mw-empty-elt\">\n",
    "</p>\n",
    "</th></tr>\n",
    "<tr bgcolor=\"LightGrey\">\n",
    "<th>\n",
    "<p>Healthcare Provider Resources\n",
    "</p>\n",
    "</th></tr>\n",
    "<tr>\n",
    "<th>\n",
    "<p><small>\n",
    "<a rel=\"nofollow\" class=\"external text\" href=\"http://www.google.com/search?hl=en&amp;q=Heart+more:condition_symptoms&amp;cx=disease_for_patients&amp;sa=N&amp;oi=coopctx&amp;resnum=0&amp;ct=col1&amp;cd=2\">Symptoms of Heart</a>\n",
    "</small></p><p><small><a rel=\"nofollow\" class=\"external text\" href=\"http://www.google.com/search?hl=en&amp;client=firefox-a&amp;rls=org.mozilla:en-US:official&amp;hs=qml&amp;q=Heart+more:causes_risk_factors&amp;cx=disease_for_patients&amp;sa=N&amp;oi=coopctx&amp;resnum=0&amp;ct=col2&amp;cd=1\">Causes &amp; Risk Factors for Heart</a>\n",
    "</small></p><p><small><a rel=\"nofollow\" class=\"external text\" href=\"http://www.google.com/search?hl=en&amp;client=firefox-a&amp;rls=org.mozilla:en-US:official&amp;hs=R7Q&amp;q=Heart+more:tests_diagnosis&amp;cx=disease_for_patients&amp;sa=N&amp;oi=cooptsr&amp;resnum=0&amp;ct=col2&amp;cd=1\">Diagnostic studies for Heart</a>\n",
    "</small></p><p><small><a rel=\"nofollow\" class=\"external text\" href=\"http://www.google.com/search?hl=en&amp;client=firefox-a&amp;rls=org.mozilla:en-US:official&amp;hs=XX6&amp;q=Heart+more:condition_treatment&amp;cx=disease_for_health_professionals&amp;sa=N&amp;oi=coopctx&amp;resnum=0&amp;ct=col1&amp;cd=1\">Treatment of Heart</a>\n",
    "</small>\n",
    "</p>\n",
    "</th></tr>\n",
    "<tr bgcolor=\"LightGrey\">\n",
    "<th>\n",
    "<p>Continuing Medical Education (CME)\n",
    "</p>\n",
    "</th></tr>\n",
    "<tr>\n",
    "<th>\n",
    "<p><small>\n",
    "<a rel=\"nofollow\" class=\"external text\" href=\"http://www.google.com/search?hl=en&amp;client=firefox-a&amp;rls=org.mozilla:en-US:official&amp;q=Heart+more:health_continuing_education&amp;cx=disease_for_health_professionals&amp;sa=N&amp;oi=coopctx&amp;resnum=0&amp;ct=col3&amp;cd=2\">CME Programs on Heart</a>\n",
    "</small>\n",
    "</p>\n",
    "</th></tr>\n",
    "<tr bgcolor=\"LightGrey\">\n",
    "<th>\n",
    "<p>International\n",
    "</p>\n",
    "</th></tr>\n",
    "<tr>\n",
    "<th>\n",
    "<p><small>\n",
    "<a rel=\"nofollow\" class=\"external text\" href=\"http://www.google.com/search?q=Heart+en+espanol&amp;ie=utf-8&amp;oe=utf-8&amp;aq=t&amp;rls=org.mozilla:en-US:official&amp;client=firefox-a\">Heart en Espanol</a>\n",
    "</small></p><p><small><a rel=\"nofollow\" class=\"external text\" href=\"http://www.google.com/search?q=Heart+en+francais&amp;ie=utf-8&amp;oe=utf-8&amp;aq=t&amp;rls=org.mozilla:en-US:official&amp;client=firefox-a\">Heart en Francais</a>\n",
    "</small></p><p class=\"mw-empty-elt\">\n",
    "</p>\n",
    "</th></tr>\n",
    "<tr bgcolor=\"LightGrey\">\n",
    "<th>\n",
    "<p>Business\n",
    "</p>\n",
    "</th></tr>\n",
    "<tr>\n",
    "<th>\n",
    "<p><small>\n",
    "<a rel=\"nofollow\" class=\"external text\" href=\"http://finance.google.com/finance?ie=UTF-8&amp;oe=utf-8&amp;q=Heart&amp;qt_s=Search&amp;sa=N&amp;tab=te\">Heart in the Marketplace</a>\n",
    "</small></p><p><small><a rel=\"nofollow\" class=\"external text\" href=\"http://www.google.com/patents?tab=st&amp;sa=N&amp;ie=UTF-8&amp;oe=utf-8&amp;q=Heart&amp;qt_s=Search&amp;sa=N\">Patents on Heart</a></small>\n",
    "</p>\n",
    "</th></tr>\n",
    "<tr bgcolor=\"LightGrey\">\n",
    "<th>\n",
    "<p>Experimental / Informatics\n",
    "</p>\n",
    "</th></tr>\n",
    "<tr>\n",
    "<th>\n",
    "<p><small>\n",
    "<a rel=\"nofollow\" class=\"external text\" href=\"http://labs.google.com/sets?hl=en&amp;q1=Heart&amp;q2=&amp;q3=&amp;q4=&amp;q5=&amp;btn=Large+Set\">List of terms related to Heart</a>\n",
    "</small>\n",
    "</p>\n",
    "</th></tr>\n",
    "</tbody></table>\"\"\""
   ]
  },
  {
   "cell_type": "code",
   "execution_count": 2,
   "id": "29530dcd-ef0c-45fd-aae2-abfdfcbd42e1",
   "metadata": {},
   "outputs": [
    {
     "name": "stdout",
     "output_type": "stream",
     "text": [
      "Requirement already satisfied: lxml in /opt/homebrew/Caskroom/miniforge/base/envs/scraper/lib/python3.12/site-packages (4.9.3)\n"
     ]
    }
   ],
   "source": [
    "!pip install lxml"
   ]
  },
  {
   "cell_type": "code",
   "execution_count": 18,
   "id": "af4dd60d-2382-4d58-9da8-2c5e87b58145",
   "metadata": {},
   "outputs": [],
   "source": [
    "import sys\n",
    "sys.path.append('/Users/wylliamcheng/Desktop/directories/Quectonic/core/web-production/resource-engineering/mdkengineering')"
   ]
  },
  {
   "cell_type": "code",
   "execution_count": 19,
   "id": "85044da6-475f-4fd3-a1b4-f33476ac3344",
   "metadata": {},
   "outputs": [],
   "source": [
    "from mdkengineering.utils.DataTransformer import HtmlTableTransformer"
   ]
  },
  {
   "cell_type": "code",
   "execution_count": 20,
   "id": "2db61ab5-95f5-43a0-9700-c86fe7c8b22d",
   "metadata": {},
   "outputs": [
    {
     "name": "stdout",
     "output_type": "stream",
     "text": [
      "lxml unusable, switching to html.parser\n"
     ]
    }
   ],
   "source": [
    "example_table_transformer = HtmlTableTransformer(table_html=exampleTableHtml)"
   ]
  },
  {
   "cell_type": "code",
   "execution_count": 21,
   "id": "ebb1a16a-432b-4a11-af4f-e7efb4f69a23",
   "metadata": {},
   "outputs": [
    {
     "name": "stdout",
     "output_type": "stream",
     "text": [
      "21\n"
     ]
    }
   ],
   "source": [
    "print(len(example_table_transformer.table_list))"
   ]
  },
  {
   "cell_type": "code",
   "execution_count": 23,
   "id": "dd45e43f-c5c5-40d7-89cc-5db7803cef4f",
   "metadata": {},
   "outputs": [
    {
     "name": "stdout",
     "output_type": "stream",
     "text": [
      "[['Transmission', 'Clinical Presentation', 'Disease', 'Diagnosis', 'Diagnosis', 'Mother to Child Transmission', 'Mother to Child Transmission', 'Most Serious Complications'], ['Transmission', 'Clinical Presentation', 'Disease', 'Laboratory Studies', 'Clinical Diagnosis', 'Vertical Transmission', 'Trans-vaginal Transmission', 'Most Serious Complications'], ['Primarily sexually transmitted', 'Genital Dermatological Manifestation (e.g., ulcers, chancre, vesicles, warts, balanitis etc.)', 'HPV', '✔', '✔', '', '', 'Cervical Cancer'], ['Primarily sexually transmitted', 'Genital Dermatological Manifestation (e.g., ulcers, chancre, vesicles, warts, balanitis etc.)', \"''Herpes simplex'' 1 and 2\", '✔', '✔', '✔', '✔', 'Moderate to severe pruritis/discomfort, superinfection'], ['Primarily sexually transmitted', 'Genital Dermatological Manifestation (e.g., ulcers, chancre, vesicles, warts, balanitis etc.)', 'Syphilis', '✔', '✔', '✔', '', 'NeurosyphilisCardiosyphilis'], ['Primarily sexually transmitted', 'Genital Dermatological Manifestation (e.g., ulcers, chancre, vesicles, warts, balanitis etc.)', 'Scabies', '✔', '✔', '', '', 'Moderate to severe pruritis/discomfort'], ['Primarily sexually transmitted', 'Genital Dermatological Manifestation (e.g., ulcers, chancre, vesicles, warts, balanitis etc.)', 'Pubic lice', '✔', '✔', '', '', 'Moderate to severe pruritis/discomfort'], ['Primarily sexually transmitted', 'Genital Dermatological Manifestation (e.g., ulcers, chancre, vesicles, warts, balanitis etc.)', 'Candidiasis(in males)', '', '✔', '', '', 'Mild to moderate pruritis/discomfort'], ['Primarily sexually transmitted', 'Generalized Symptoms (e.g., constitutional symptoms)', 'HIV', '✔', '', '✔', '', 'Primary CNS LymphomaImmunosuppression (AIDS)'], ['Primarily sexually transmitted', 'Generalized Symptoms (e.g., constitutional symptoms)', 'Syphilis', '✔', '✔', '✔', '', 'NeurosyphilisCardiosyphilis'], ['Primarily sexually transmitted', 'Urogenital infections (e.g., Vaginitis, Urethritis, Cervicitis, and PID)', 'Gonorrhea', '✔', '✔', '', '✔', 'PID'], ['Primarily sexually transmitted', 'Urogenital infections (e.g., Vaginitis, Urethritis, Cervicitis, and PID)', 'Chlamydia', '✔', '✔', '', '✔', 'PID'], ['Primarily sexually transmitted', 'Urogenital infections (e.g., Vaginitis, Urethritis, Cervicitis, and PID)', 'Syphilis', '✔', '✔', '✔', '', 'NeurosyphilisCardiosyphilis'], ['Primarily sexually transmitted', 'Urogenital infections (e.g., Vaginitis, Urethritis, Cervicitis, and PID)', 'Mycoplasma genitalium', '✔', '✔', 'unknown', 'unknown', 'PID'], ['Primarily sexually transmitted', 'Urogenital infections (e.g., Vaginitis, Urethritis, Cervicitis, and PID)', \"''Trichomonas vaginalis''\", '✔', '✔', '', '', 'PID'], ['Less frequently sexually transmitted', 'Generalized Symptoms (e.g., constitutional symptoms)', 'Zika Virus', '✔', '', '✔', '', 'Vertical transmission and congenital abnormalities'], ['Less frequently sexually transmitted', 'Generalized Symptoms (e.g., constitutional symptoms)', 'Hepatitis B', '✔', '✔', '✔', '', 'Hepatocellular Carcinoma'], ['Less frequently sexually transmitted', 'Generalized Symptoms (e.g., constitutional symptoms)', 'Hepatitis C', '✔', '✔', '✔', '', 'Liver cirrhosis, Hepatocellular Carcinoma'], ['Less frequently sexually transmitted', 'Urogenital Infections  (e.g., Vaginitis, Urethritis, Cervicitis, and PID)', \"''Gardnerella vaginalis''\", '✔', '✔', '', '', 'Moderate to severe discomfort'], ['Less frequently sexually transmitted', 'Urogenital Infections  (e.g., Vaginitis, Urethritis, Cervicitis, and PID)', 'Candidiasis (in females)', '', '✔', '', '', 'Moderate to severe pruritis/discomfort'], ['Less frequently sexually transmitted', 'Urogenital Infections  (e.g., Vaginitis, Urethritis, Cervicitis, and PID)', ' Ureaplasma urealyticum', '✔', '✔', '', '', 'Moderate to severe pruritis/discomfort']]\n"
     ]
    }
   ],
   "source": [
    "print(example_table_transformer.table_list)\n",
    "# for out_idx, out_item in enumerate(example_table_transformer.table_list):\n",
    "#     for in_idx, in_item in enumerate(out_item):\n",
    "#         print(f\"{out_idx} -> {in_idx}: {len(in_item)}\")"
   ]
  },
  {
   "cell_type": "code",
   "execution_count": 31,
   "id": "8bf20b51-8cc6-4f4e-bab0-590a17c7746c",
   "metadata": {
    "scrolled": true
   },
   "outputs": [
    {
     "ename": "AttributeError",
     "evalue": "'ListDict' object has no attribute 'rows'",
     "output_type": "error",
     "traceback": [
      "\u001b[0;31m---------------------------------------------------------------------------\u001b[0m",
      "\u001b[0;31mAttributeError\u001b[0m                            Traceback (most recent call last)",
      "Cell \u001b[0;32mIn[31], line 8\u001b[0m\n\u001b[1;32m      1\u001b[0m \u001b[38;5;66;03m# print(example_table_transformer.table_ED_list[-9][-1])\u001b[39;00m\n\u001b[1;32m      2\u001b[0m \u001b[38;5;66;03m# for out_idx, out_item in enumerate(example_table_transformer.table_ED_list):\u001b[39;00m\n\u001b[1;32m      3\u001b[0m \u001b[38;5;66;03m#     for in_idx, in_item in enumerate(out_item):\u001b[39;00m\n\u001b[1;32m      4\u001b[0m \u001b[38;5;66;03m#         for innermost_item in in_item:\u001b[39;00m\n\u001b[1;32m      5\u001b[0m \u001b[38;5;66;03m#             print(f\"{innermost_item}\")\u001b[39;00m\n\u001b[0;32m----> 8\u001b[0m example_table_transformer\u001b[38;5;241m.\u001b[39mtable_ED_list[\u001b[38;5;241m-\u001b[39m\u001b[38;5;241m9\u001b[39m][\u001b[38;5;241m-\u001b[39m\u001b[38;5;241m1\u001b[39m][\u001b[38;5;241m1\u001b[39m]\u001b[38;5;241m.\u001b[39mrows\n",
      "\u001b[0;31mAttributeError\u001b[0m: 'ListDict' object has no attribute 'rows'"
     ]
    }
   ],
   "source": [
    "# print(example_table_transformer.table_ED_list[-9][-1])\n",
    "# for out_idx, out_item in enumerate(example_table_transformer.table_ED_list):\n",
    "#     for in_idx, in_item in enumerate(out_item):\n",
    "#         for innermost_item in in_item:\n",
    "#             print(f\"{innermost_item}\")\n",
    "\n",
    "\n",
    "example_table_transformer.table_ED_list[-9][-1][1].rows"
   ]
  },
  {
   "cell_type": "code",
   "execution_count": 25,
   "id": "1f16af35-6ed6-4b81-83a1-ac132779dc5f",
   "metadata": {},
   "outputs": [
    {
     "name": "stdout",
     "output_type": "stream",
     "text": [
      "|| Transmission | Clinical Presentation | Disease | Diagnosis | Diagnosis | Mother to Child Transmission | Mother to Child Transmission | Most Serious Complications ||\n",
      "|| Transmission | Clinical Presentation | Disease | Laboratory Studies | Clinical Diagnosis | Vertical Transmission | Trans-vaginal Transmission | Most Serious Complications ||\n",
      "|| Primarily sexually transmitted | Genital Dermatological Manifestation (e.g., ulcers, chancre, vesicles, warts, balanitis etc.) | HPV | ✔ | ✔ |  |  | Cervical Cancer ||\n",
      "|| Primarily sexually transmitted | Genital Dermatological Manifestation (e.g., ulcers, chancre, vesicles, warts, balanitis etc.) | ''Herpes simplex'' 1 and 2 | ✔ | ✔ | ✔ | ✔ | Moderate to severe pruritis/discomfort, superinfection ||\n",
      "|| Primarily sexually transmitted | Genital Dermatological Manifestation (e.g., ulcers, chancre, vesicles, warts, balanitis etc.) | Syphilis | ✔ | ✔ | ✔ |  | NeurosyphilisCardiosyphilis ||\n",
      "|| Primarily sexually transmitted | Genital Dermatological Manifestation (e.g., ulcers, chancre, vesicles, warts, balanitis etc.) | Scabies | ✔ | ✔ |  |  | Moderate to severe pruritis/discomfort ||\n",
      "|| Primarily sexually transmitted | Genital Dermatological Manifestation (e.g., ulcers, chancre, vesicles, warts, balanitis etc.) | Pubic lice | ✔ | ✔ |  |  | Moderate to severe pruritis/discomfort ||\n",
      "|| Primarily sexually transmitted | Genital Dermatological Manifestation (e.g., ulcers, chancre, vesicles, warts, balanitis etc.) | Candidiasis(in males) |  | ✔ |  |  | Mild to moderate pruritis/discomfort ||\n",
      "|| Primarily sexually transmitted | Generalized Symptoms (e.g., constitutional symptoms) | HIV | ✔ |  | ✔ |  | Primary CNS LymphomaImmunosuppression (AIDS) ||\n",
      "|| Primarily sexually transmitted | Generalized Symptoms (e.g., constitutional symptoms) | Syphilis | ✔ | ✔ | ✔ |  | NeurosyphilisCardiosyphilis ||\n",
      "|| Primarily sexually transmitted | Urogenital infections (e.g., Vaginitis, Urethritis, Cervicitis, and PID) | Gonorrhea | ✔ | ✔ |  | ✔ | PID ||\n",
      "|| Primarily sexually transmitted | Urogenital infections (e.g., Vaginitis, Urethritis, Cervicitis, and PID) | Chlamydia | ✔ | ✔ |  | ✔ | PID ||\n",
      "|| Primarily sexually transmitted | Urogenital infections (e.g., Vaginitis, Urethritis, Cervicitis, and PID) | Syphilis | ✔ | ✔ | ✔ |  | NeurosyphilisCardiosyphilis ||\n",
      "|| Primarily sexually transmitted | Urogenital infections (e.g., Vaginitis, Urethritis, Cervicitis, and PID) | Mycoplasma genitalium | ✔ | ✔ | unknown | unknown | PID ||\n",
      "|| Primarily sexually transmitted | Urogenital infections (e.g., Vaginitis, Urethritis, Cervicitis, and PID) | ''Trichomonas vaginalis'' | ✔ | ✔ |  |  | PID ||\n",
      "|| Less frequently sexually transmitted | Generalized Symptoms (e.g., constitutional symptoms) | Zika Virus | ✔ |  | ✔ |  | Vertical transmission and congenital abnormalities ||\n",
      "|| Less frequently sexually transmitted | Generalized Symptoms (e.g., constitutional symptoms) | Hepatitis B | ✔ | ✔ | ✔ |  | Hepatocellular Carcinoma ||\n",
      "|| Less frequently sexually transmitted | Generalized Symptoms (e.g., constitutional symptoms) | Hepatitis C | ✔ | ✔ | ✔ |  | Liver cirrhosis, Hepatocellular Carcinoma ||\n",
      "|| Less frequently sexually transmitted | Urogenital Infections  (e.g., Vaginitis, Urethritis, Cervicitis, and PID) | ''Gardnerella vaginalis'' | ✔ | ✔ |  |  | Moderate to severe discomfort ||\n",
      "|| Less frequently sexually transmitted | Urogenital Infections  (e.g., Vaginitis, Urethritis, Cervicitis, and PID) | Candidiasis (in females) |  | ✔ |  |  | Moderate to severe pruritis/discomfort ||\n",
      "|| Less frequently sexually transmitted | Urogenital Infections  (e.g., Vaginitis, Urethritis, Cervicitis, and PID) |  Ureaplasma urealyticum | ✔ | ✔ |  |  | Moderate to severe pruritis/discomfort ||\n"
     ]
    }
   ],
   "source": [
    "print(example_table_transformer.text)"
   ]
  },
  {
   "cell_type": "markdown",
   "id": "3587e912-11b1-4f35-af9e-441f6f38bcf7",
   "metadata": {},
   "source": [
    "## Transform HTML To ElementDict structure"
   ]
  },
  {
   "cell_type": "code",
   "execution_count": 5,
   "id": "ade16d98-aefc-4ab6-9a66-f86e75017604",
   "metadata": {},
   "outputs": [],
   "source": [
    "from bs4 import BeautifulSoup"
   ]
  },
  {
   "cell_type": "code",
   "execution_count": 6,
   "id": "caa80007-12bf-4c1b-99c6-5f76090b7fed",
   "metadata": {},
   "outputs": [],
   "source": [
    "table_html = BeautifulSoup(exampleTableHtml, 'html.parser')"
   ]
  },
  {
   "cell_type": "code",
   "execution_count": 43,
   "id": "90c3d7a7-92c9-4563-9022-ffd920fd34ff",
   "metadata": {},
   "outputs": [
    {
     "name": "stdout",
     "output_type": "stream",
     "text": [
      "input html: <class 'bs4.BeautifulSoup'>...\n",
      "\n",
      "[[[<mdkengineering.utils.ElementDicts.TextDict object at 0x12eda7690>], [<mdkengineering.utils.ElementDicts.TextDict object at 0x12f137ad0>], [<mdkengineering.utils.ElementDicts.TextDict object at 0x12effcbd0>], [<mdkengineering.utils.ElementDicts.TextDict object at 0x12effcc90>], [<mdkengineering.utils.ElementDicts.TextDict object at 0x12effcc90>], [<mdkengineering.utils.ElementDicts.TextDict object at 0x12effcd50>], [<mdkengineering.utils.ElementDicts.TextDict object at 0x12effcd50>], [<mdkengineering.utils.ElementDicts.TextDict object at 0x12effce50>]], [[<mdkengineering.utils.ElementDicts.TextDict object at 0x12eda7690>], [<mdkengineering.utils.ElementDicts.TextDict object at 0x12f137ad0>], [<mdkengineering.utils.ElementDicts.TextDict object at 0x12effcbd0>], [<mdkengineering.utils.ElementDicts.TextDict object at 0x12edb1450>], [<mdkengineering.utils.ElementDicts.TextDict object at 0x12effca90>], [<mdkengineering.utils.ElementDicts.TextDict object at 0x12f007710>], [<mdkengineering.utils.ElementDicts.TextDict object at 0x12f004690>], [<mdkengineering.utils.ElementDicts.TextDict object at 0x12effce50>]], [[<mdkengineering.utils.ElementDicts.TextDict object at 0x12effd350>], [<mdkengineering.utils.ElementDicts.TextDict object at 0x12f006a90>, <mdkengineering.utils.ElementDicts.TextDict object at 0x12f005cd0>], [<mdkengineering.utils.ElementDicts.LinkDict object at 0x12f007610>], [<mdkengineering.utils.ElementDicts.TextDict object at 0x12e66ffd0>], [<mdkengineering.utils.ElementDicts.TextDict object at 0x12f006750>], [], [], [<mdkengineering.utils.ElementDicts.LinkDict object at 0x12f0ee850>, <mdkengineering.utils.ElementDicts.TextDict object at 0x12f0ef4d0>]], [[<mdkengineering.utils.ElementDicts.TextDict object at 0x12effd350>], [<mdkengineering.utils.ElementDicts.TextDict object at 0x12f006a90>, <mdkengineering.utils.ElementDicts.TextDict object at 0x12f005cd0>], [<mdkengineering.utils.ElementDicts.LinkDict object at 0x12f0ee590>, <mdkengineering.utils.ElementDicts.TextDict object at 0x12f0eff10>], [<mdkengineering.utils.ElementDicts.TextDict object at 0x12f0ee3d0>], [<mdkengineering.utils.ElementDicts.TextDict object at 0x12f0ef190>], [<mdkengineering.utils.ElementDicts.TextDict object at 0x12f0ec590>], [<mdkengineering.utils.ElementDicts.TextDict object at 0x12f0eded0>], [<mdkengineering.utils.ElementDicts.TextDict object at 0x12f0ed6d0>, <mdkengineering.utils.ElementDicts.LinkDict object at 0x12f0ecd10>, <mdkengineering.utils.ElementDicts.TextDict object at 0x12f0ef910>]], [[<mdkengineering.utils.ElementDicts.TextDict object at 0x12effd350>], [<mdkengineering.utils.ElementDicts.TextDict object at 0x12f006a90>, <mdkengineering.utils.ElementDicts.TextDict object at 0x12f005cd0>], [<mdkengineering.utils.ElementDicts.LinkDict object at 0x12f101210>], [<mdkengineering.utils.ElementDicts.TextDict object at 0x12f1013d0>], [<mdkengineering.utils.ElementDicts.TextDict object at 0x12f102d50>], [<mdkengineering.utils.ElementDicts.TextDict object at 0x12f103350>], [], [<mdkengineering.utils.ElementDicts.TextDict object at 0x12f100b90>, <mdkengineering.utils.ElementDicts.ListDict object at 0x12f101e90>, <mdkengineering.utils.ElementDicts.TextDict object at 0x12f102a90>]], [[<mdkengineering.utils.ElementDicts.TextDict object at 0x12effd350>], [<mdkengineering.utils.ElementDicts.TextDict object at 0x12f006a90>, <mdkengineering.utils.ElementDicts.TextDict object at 0x12f005cd0>], [<mdkengineering.utils.ElementDicts.LinkDict object at 0x12f1016d0>], [<mdkengineering.utils.ElementDicts.TextDict object at 0x12f102750>], [<mdkengineering.utils.ElementDicts.TextDict object at 0x12f101d50>], [], [], [<mdkengineering.utils.ElementDicts.TextDict object at 0x12f0dabd0>, <mdkengineering.utils.ElementDicts.LinkDict object at 0x12f0d9250>, <mdkengineering.utils.ElementDicts.TextDict object at 0x12f0d8810>]], [[<mdkengineering.utils.ElementDicts.TextDict object at 0x12effd350>], [<mdkengineering.utils.ElementDicts.TextDict object at 0x12f006a90>, <mdkengineering.utils.ElementDicts.TextDict object at 0x12f005cd0>], [<mdkengineering.utils.ElementDicts.LinkDict object at 0x12f0dae90>], [<mdkengineering.utils.ElementDicts.TextDict object at 0x12f0db1d0>], [<mdkengineering.utils.ElementDicts.TextDict object at 0x12f0da8d0>], [], [], [<mdkengineering.utils.ElementDicts.TextDict object at 0x12f0da3d0>, <mdkengineering.utils.ElementDicts.LinkDict object at 0x12f0d8750>, <mdkengineering.utils.ElementDicts.TextDict object at 0x12f0db910>]], [[<mdkengineering.utils.ElementDicts.TextDict object at 0x12effd350>], [<mdkengineering.utils.ElementDicts.TextDict object at 0x12f006a90>, <mdkengineering.utils.ElementDicts.TextDict object at 0x12f005cd0>], [<mdkengineering.utils.ElementDicts.LinkDict object at 0x12eedd950>, <mdkengineering.utils.ElementDicts.PlaceholderDict object at 0x12eededd0>, <mdkengineering.utils.ElementDicts.TextDict object at 0x12eedf910>], [], [<mdkengineering.utils.ElementDicts.TextDict object at 0x12eebed10>], [], [], [<mdkengineering.utils.ElementDicts.TextDict object at 0x12eebfb90>, <mdkengineering.utils.ElementDicts.LinkDict object at 0x12eebd910>, <mdkengineering.utils.ElementDicts.TextDict object at 0x12eed2d50>]], [[<mdkengineering.utils.ElementDicts.TextDict object at 0x12effd350>], [<mdkengineering.utils.ElementDicts.TextDict object at 0x12eedcd10>, <mdkengineering.utils.ElementDicts.TextDict object at 0x12f0db490>], [<mdkengineering.utils.ElementDicts.LinkDict object at 0x12f11a0d0>], [<mdkengineering.utils.ElementDicts.TextDict object at 0x12f11b910>], [], [<mdkengineering.utils.ElementDicts.TextDict object at 0x12f118c10>], [], [<mdkengineering.utils.ElementDicts.TextDict object at 0x12f118c90>, <mdkengineering.utils.ElementDicts.ListDict object at 0x12f108310>, <mdkengineering.utils.ElementDicts.TextDict object at 0x12f108110>]], [[<mdkengineering.utils.ElementDicts.TextDict object at 0x12effd350>], [<mdkengineering.utils.ElementDicts.TextDict object at 0x12eedcd10>, <mdkengineering.utils.ElementDicts.TextDict object at 0x12f0db490>], [<mdkengineering.utils.ElementDicts.LinkDict object at 0x12f1099d0>], [<mdkengineering.utils.ElementDicts.TextDict object at 0x12dbe0050>], [<mdkengineering.utils.ElementDicts.TextDict object at 0x12dbe0650>], [<mdkengineering.utils.ElementDicts.TextDict object at 0x12f030450>], [], [<mdkengineering.utils.ElementDicts.TextDict object at 0x12f032790>, <mdkengineering.utils.ElementDicts.ListDict object at 0x12f032e50>, <mdkengineering.utils.ElementDicts.TextDict object at 0x12f033450>]], [[<mdkengineering.utils.ElementDicts.TextDict object at 0x12effd350>], [<mdkengineering.utils.ElementDicts.TextDict object at 0x12f109cd0>, <mdkengineering.utils.ElementDicts.TextDict object at 0x12eed3250>], [<mdkengineering.utils.ElementDicts.LinkDict object at 0x12f033b90>], [<mdkengineering.utils.ElementDicts.TextDict object at 0x12f033cd0>], [<mdkengineering.utils.ElementDicts.TextDict object at 0x12f033e50>], [], [<mdkengineering.utils.ElementDicts.TextDict object at 0x12f033ed0>], [<mdkengineering.utils.ElementDicts.LinkDict object at 0x12f032d10>, <mdkengineering.utils.ElementDicts.TextDict object at 0x12f0305d0>]], [[<mdkengineering.utils.ElementDicts.TextDict object at 0x12effd350>], [<mdkengineering.utils.ElementDicts.TextDict object at 0x12f109cd0>, <mdkengineering.utils.ElementDicts.TextDict object at 0x12eed3250>], [<mdkengineering.utils.ElementDicts.LinkDict object at 0x12f0e8c90>], [<mdkengineering.utils.ElementDicts.TextDict object at 0x12f0e9250>], [<mdkengineering.utils.ElementDicts.TextDict object at 0x12f0eb6d0>], [], [<mdkengineering.utils.ElementDicts.TextDict object at 0x12f0e8ed0>], [<mdkengineering.utils.ElementDicts.LinkDict object at 0x12f0eaa10>, <mdkengineering.utils.ElementDicts.TextDict object at 0x12f0e8b10>]], [[<mdkengineering.utils.ElementDicts.TextDict object at 0x12effd350>], [<mdkengineering.utils.ElementDicts.TextDict object at 0x12f109cd0>, <mdkengineering.utils.ElementDicts.TextDict object at 0x12eed3250>], [<mdkengineering.utils.ElementDicts.LinkDict object at 0x12f0e9190>], [<mdkengineering.utils.ElementDicts.TextDict object at 0x12f0e98d0>], [<mdkengineering.utils.ElementDicts.TextDict object at 0x12f0e88d0>], [<mdkengineering.utils.ElementDicts.TextDict object at 0x12f0e9810>], [], [<mdkengineering.utils.ElementDicts.TextDict object at 0x12f0eb350>, <mdkengineering.utils.ElementDicts.ListDict object at 0x12f0e8e10>, <mdkengineering.utils.ElementDicts.TextDict object at 0x12f0ebb90>]], [[<mdkengineering.utils.ElementDicts.TextDict object at 0x12effd350>], [<mdkengineering.utils.ElementDicts.TextDict object at 0x12f109cd0>, <mdkengineering.utils.ElementDicts.TextDict object at 0x12eed3250>], [<mdkengineering.utils.ElementDicts.LinkDict object at 0x12f1670d0>], [<mdkengineering.utils.ElementDicts.TextDict object at 0x12f1671d0>], [<mdkengineering.utils.ElementDicts.TextDict object at 0x12f167c90>], [<mdkengineering.utils.ElementDicts.TextDict object at 0x12f165110>], [<mdkengineering.utils.ElementDicts.TextDict object at 0x12f1667d0>], [<mdkengineering.utils.ElementDicts.LinkDict object at 0x12f167790>, <mdkengineering.utils.ElementDicts.TextDict object at 0x12f164f10>]], [[<mdkengineering.utils.ElementDicts.TextDict object at 0x12effd350>], [<mdkengineering.utils.ElementDicts.TextDict object at 0x12f109cd0>, <mdkengineering.utils.ElementDicts.TextDict object at 0x12eed3250>], [<mdkengineering.utils.ElementDicts.LinkDict object at 0x12f166510>], [<mdkengineering.utils.ElementDicts.TextDict object at 0x12f1647d0>], [<mdkengineering.utils.ElementDicts.TextDict object at 0x12f165490>], [], [], [<mdkengineering.utils.ElementDicts.LinkDict object at 0x12f166d10>, <mdkengineering.utils.ElementDicts.TextDict object at 0x12f166090>]], [[<mdkengineering.utils.ElementDicts.TextDict object at 0x12f1662d0>], [<mdkengineering.utils.ElementDicts.TextDict object at 0x12f164050>, <mdkengineering.utils.ElementDicts.TextDict object at 0x12f0ba710>], [<mdkengineering.utils.ElementDicts.LinkDict object at 0x12f0b8050>], [<mdkengineering.utils.ElementDicts.TextDict object at 0x12f0b93d0>], [], [<mdkengineering.utils.ElementDicts.TextDict object at 0x12f0b92d0>], [], [<mdkengineering.utils.ElementDicts.LinkDict object at 0x12f0b8bd0>, <mdkengineering.utils.ElementDicts.TextDict object at 0x12f0b9450>]], [[<mdkengineering.utils.ElementDicts.TextDict object at 0x12f1662d0>], [<mdkengineering.utils.ElementDicts.TextDict object at 0x12f164050>, <mdkengineering.utils.ElementDicts.TextDict object at 0x12f0ba710>], [<mdkengineering.utils.ElementDicts.LinkDict object at 0x12f0b9910>], [<mdkengineering.utils.ElementDicts.TextDict object at 0x12f0ba350>], [<mdkengineering.utils.ElementDicts.TextDict object at 0x12f0badd0>], [<mdkengineering.utils.ElementDicts.TextDict object at 0x12f0b89d0>], [], [<mdkengineering.utils.ElementDicts.LinkDict object at 0x12f0baa50>, <mdkengineering.utils.ElementDicts.TextDict object at 0x12f0bbc50>]], [[<mdkengineering.utils.ElementDicts.TextDict object at 0x12f1662d0>], [<mdkengineering.utils.ElementDicts.TextDict object at 0x12f164050>, <mdkengineering.utils.ElementDicts.TextDict object at 0x12f0ba710>], [<mdkengineering.utils.ElementDicts.LinkDict object at 0x12f0b96d0>], [<mdkengineering.utils.ElementDicts.TextDict object at 0x12f0b9ad0>], [<mdkengineering.utils.ElementDicts.TextDict object at 0x12f0ba490>], [<mdkengineering.utils.ElementDicts.TextDict object at 0x12f0bae90>], [], [<mdkengineering.utils.ElementDicts.LinkDict object at 0x12f131150>, <mdkengineering.utils.ElementDicts.TextDict object at 0x12f131e50>, <mdkengineering.utils.ElementDicts.LinkDict object at 0x12f132d50>, <mdkengineering.utils.ElementDicts.TextDict object at 0x12f1316d0>]], [[<mdkengineering.utils.ElementDicts.TextDict object at 0x12f1662d0>], [<mdkengineering.utils.ElementDicts.TextDict object at 0x12f0bab50>, <mdkengineering.utils.ElementDicts.TextDict object at 0x12f0ba550>], [<mdkengineering.utils.ElementDicts.LinkDict object at 0x12f130d90>], [<mdkengineering.utils.ElementDicts.TextDict object at 0x12f132f50>], [<mdkengineering.utils.ElementDicts.TextDict object at 0x12f130a10>], [], [], [<mdkengineering.utils.ElementDicts.TextDict object at 0x12f1332d0>]], [[<mdkengineering.utils.ElementDicts.TextDict object at 0x12f1662d0>], [<mdkengineering.utils.ElementDicts.TextDict object at 0x12f0bab50>, <mdkengineering.utils.ElementDicts.TextDict object at 0x12f0ba550>], [<mdkengineering.utils.ElementDicts.LinkDict object at 0x12f133350>, <mdkengineering.utils.ElementDicts.PlaceholderDict object at 0x12f131410>, <mdkengineering.utils.ElementDicts.TextDict object at 0x12f1322d0>], [], [<mdkengineering.utils.ElementDicts.TextDict object at 0x12f131fd0>], [], [], [<mdkengineering.utils.ElementDicts.TextDict object at 0x12f049490>, <mdkengineering.utils.ElementDicts.LinkDict object at 0x12f048bd0>, <mdkengineering.utils.ElementDicts.TextDict object at 0x12f049110>]], [[<mdkengineering.utils.ElementDicts.TextDict object at 0x12f1662d0>], [<mdkengineering.utils.ElementDicts.TextDict object at 0x12f0bab50>, <mdkengineering.utils.ElementDicts.TextDict object at 0x12f0ba550>], [<mdkengineering.utils.ElementDicts.LinkDict object at 0x12f04a150>], [<mdkengineering.utils.ElementDicts.TextDict object at 0x12f04a010>], [<mdkengineering.utils.ElementDicts.TextDict object at 0x12f04a090>], [], [], [<mdkengineering.utils.ElementDicts.TextDict object at 0x12f04a250>, <mdkengineering.utils.ElementDicts.LinkDict object at 0x12f049590>, <mdkengineering.utils.ElementDicts.TextDict object at 0x12f0499d0>]]]\n"
     ]
    }
   ],
   "source": [
    "def parser_(html):\n",
    "    from mdkengineering.utils.Parse import transform_tag_to_ElementDict\n",
    "\n",
    "    print(f\"input html: {type(html)}...\\n\")\n",
    "    table_list = [] # The \"row\" field value\n",
    "    row_spans = {}\n",
    "    try:\n",
    "        for row_idx, row in enumerate(html.find_all(('tr'))): ## html to be replaced by self.tablehtml\n",
    "            \n",
    "            cells = []\n",
    "            col_idx = 0\n",
    "            \n",
    "            for cell_idx, cell in enumerate(row.find_all(['th', 'td'])):\n",
    "\n",
    "                # print(f\"found th / tr: {cell_idx}\")\n",
    "                \n",
    "                while col_idx in row_spans and row_spans[col_idx]['count'] > 0:\n",
    "                    \n",
    "                    ## Considering how many cells the row should skip for the next value\n",
    "\n",
    "                    # print(f\"appending row_spans[col_idx]['value']: {row_spans[col_idx]['value']}\\n\")\n",
    "                    \n",
    "                    cells.append(row_spans[col_idx]['value'])\n",
    "                    row_spans[col_idx]['count'] -= 1\n",
    "                    if row_spans[col_idx]['count'] == 0:\n",
    "                        del row_spans[col_idx]\n",
    "                    col_idx += 1\n",
    "                    \n",
    "                    \n",
    "                cell_content = []\n",
    "                \n",
    "                for item in cell.contents:\n",
    "                    cell_content.append(transform_tag_to_ElementDict(item))\n",
    "                \n",
    "                \n",
    "                rowspan = int(cell.get('rowspan', 1))\n",
    "                colspan = int(cell.get('colspan', 1))\n",
    "                \n",
    "                \n",
    "                for _ in range(colspan):\n",
    "                    cells.append(cell_content) ## APPEND CURRENT CELL CONTENT!!!\n",
    "                    col_idx += 1\n",
    "                \n",
    "                if rowspan > 1:\n",
    "                    for i in range(colspan):\n",
    "                        row_spans[col_idx - colspan + i] = {'value': cell_content, 'count': rowspan - 1}\n",
    "                        \n",
    "            while col_idx in row_spans and row_spans[col_idx]['count'] > 0:\n",
    "                cells.append(row_spans[col_idx]['value'])\n",
    "                row_spans[col_idx]['count'] -= 1\n",
    "                if row_spans[col_idx]['count'] == 0:\n",
    "                    del row_spans[col_idx]\n",
    "                col_idx += 1\n",
    "                \n",
    "            table_list.append(cells)\n",
    "            \n",
    "        return table_list\n",
    "    except Exception as e:\n",
    "        raise ValueError(f'table parsing error: {e}')\n",
    "\n",
    "ED_list = parser_(table_html)\n",
    "print(ED_list)"
   ]
  },
  {
   "cell_type": "markdown",
   "id": "a465b244-4259-4d29-9ee1-9caec6e4c924",
   "metadata": {},
   "source": [
    "# Test for Paragraph Parsing into Dictionary"
   ]
  },
  {
   "cell_type": "code",
   "execution_count": null,
   "id": "f7c09087-b203-4b92-8839-642f2c998dda",
   "metadata": {},
   "outputs": [],
   "source": [
    "import sys\n",
    "sys.path.append('/Users/wylliamcheng/Desktop/Quectonic/core/web-production/resource-engineering/mdkengineering')\n",
    "from mdkengineering.utils.ElementDicts import *"
   ]
  },
  {
   "cell_type": "code",
   "execution_count": null,
   "id": "5a7fd8f6-3b9c-455b-beb2-8b58469dc57b",
   "metadata": {},
   "outputs": [],
   "source": [
    "exampleText1 = TextDict(\n",
    "    level=2,\n",
    "    content=\"This is an introductory paragraph discussing the \"\n",
    ")\n",
    "exampleText2 = TextDict(\n",
    "    level=3,\n",
    "    content=\"importance of testing\"\n",
    ")\n",
    "exampleText3 = TextDict(\n",
    "    level=2,\n",
    "    content=\" in software development.\"\n",
    ")\n",
    "exampleLink1 = LinkDict(\n",
    "    level=2,\n",
    "    url=\"https://www.example.com/\",\n",
    "    content=[exampleText2]\n",
    ")\n",
    "examplePara1 = ParagraphDict(\n",
    "    level=1,\n",
    "    content=[\n",
    "        exampleText1,\n",
    "        exampleLink1,\n",
    "        exampleText3\n",
    "    ]\n",
    ")"
   ]
  },
  {
   "cell_type": "code",
   "execution_count": null,
   "id": "6cd6be55-0364-44ed-a037-2b0b02ea39f2",
   "metadata": {},
   "outputs": [],
   "source": [
    "## Test Paragraph\n",
    "\n",
    "content_, flattened_content, content_string = examplePara1.prettify()\n",
    "print(f'content:\\n{list(content_)}')\n",
    "print(f'flattened content:\\n{list(flattened_content)}')\n",
    "print(f'content string:\\n{content_string}')"
   ]
  },
  {
   "cell_type": "code",
   "execution_count": null,
   "id": "d0d69c35-500b-4c99-8eba-6f23662bfa2c",
   "metadata": {},
   "outputs": [],
   "source": [
    "## Test Link\n",
    "content_, flattened_content, content_string = exampleLink1.prettify()\n",
    "print(f'content:\\n{list(content_)}')\n",
    "print(f'flattened content:\\n{list(flattened_content)}')\n",
    "print(f'content string:\\n{content_string}')"
   ]
  },
  {
   "cell_type": "code",
   "execution_count": null,
   "id": "fbb30c37-bd63-4eb6-b227-45a4906fd246",
   "metadata": {},
   "outputs": [],
   "source": [
    "## Test Text\n",
    "content_format_, content_ = exampleText1.prettify()\n",
    "print(f'content:\\n{content_}')"
   ]
  },
  {
   "cell_type": "markdown",
   "id": "ee0ad287-7a5f-4a5a-ad7e-0a0bb27f3059",
   "metadata": {},
   "source": [
    "# Test for Table Parsing into Dictionary"
   ]
  },
  {
   "cell_type": "code",
   "execution_count": 1,
   "id": "dbcd96d9-60fe-4343-8ad7-7350300f836b",
   "metadata": {},
   "outputs": [],
   "source": [
    "import sys\n",
    "sys.path.append('/Users/wylliamcheng/Desktop/Quectonic/core/web-production/resource-engineering/mdkengineering')"
   ]
  },
  {
   "cell_type": "code",
   "execution_count": 2,
   "id": "d15a81be-c654-4487-a14d-f9986f33ae27",
   "metadata": {},
   "outputs": [
    {
     "name": "stdout",
     "output_type": "stream",
     "text": [
      "Intel MKL WARNING: Support of Intel(R) Streaming SIMD Extensions 4.2 (Intel(R) SSE4.2) enabled only processors has been deprecated. Intel oneAPI Math Kernel Library 2025.0 will require Intel(R) Advanced Vector Extensions (Intel(R) AVX) instructions.\n",
      "Intel MKL WARNING: Support of Intel(R) Streaming SIMD Extensions 4.2 (Intel(R) SSE4.2) enabled only processors has been deprecated. Intel oneAPI Math Kernel Library 2025.0 will require Intel(R) Advanced Vector Extensions (Intel(R) AVX) instructions.\n"
     ]
    }
   ],
   "source": [
    "from mdkengineering.utils.ElementDicts import *"
   ]
  },
  {
   "cell_type": "code",
   "execution_count": 10,
   "id": "6d1969aa-492b-4b60-abd3-c92fdc7f21a7",
   "metadata": {},
   "outputs": [],
   "source": [
    "exampleDescriptionText1 = TextDict(level=2, content=\"Table 1 provides an overview of key metrics.\")\n",
    "\n",
    "exampleText1 = TextDict(level=2, content=\"Metric\")\n",
    "exampleText2 = TextDict(level=2, content=\"Value of Field\")\n",
    "exampleText3 = TextDict(level=2, content=\"Accuracy\")\n",
    "exampleText4 = TextDict(level=2, content=\"95%\")\n",
    "exampleText5 = TextDict(level=2, content=\"Precision\")\n",
    "exampleText6 = TextDict(level=3, content=\"92%\")\n",
    "exampleText7 = TextDict(level=2, content=\"approximately\")\n",
    "exampleLink1 = LinkDict(level=2, url=\"https://example.com/precision\", content=[exampleText6])\n",
    "\n",
    "exampleTable1 = TableDict(level=1, description=[exampleDescriptionText1], row=[[[exampleText1], [exampleText2]], [[exampleText3], [exampleText4]], [[exampleText5],[exampleText7, exampleLink1]]])"
   ]
  },
  {
   "cell_type": "code",
   "execution_count": null,
   "id": "62c5190d-94f1-42fd-9513-d7b29e327dce",
   "metadata": {},
   "outputs": [],
   "source": [
    "content = list(ElementDict.flatten(nested_iterable=exampleTable1.extract_content()))\n",
    "print(content)\n",
    "\n",
    "print()\n",
    "\n",
    "print(list(exampleTable1.extract_content()))"
   ]
  },
  {
   "cell_type": "code",
   "execution_count": null,
   "id": "c3abe702-4a15-4755-98a1-4623612404ef",
   "metadata": {},
   "outputs": [],
   "source": [
    "## Test Table\n",
    "content_, flattened_content, content_string = exampleTable1.prettify()\n",
    "print(f'content:\\n{list(content_)}')\n",
    "print(f'flattened content:\\n{list(flattened_content)}')\n",
    "print(f'content string:\\n{content_string}')"
   ]
  },
  {
   "cell_type": "markdown",
   "id": "ca64782c-6662-4911-8a15-fc73d5bf9ac3",
   "metadata": {},
   "source": [
    "# Test for Moderate Complexity with Link, Table, Paragraph, Heading"
   ]
  },
  {
   "cell_type": "code",
   "execution_count": 1,
   "id": "eba7cbad-f3cf-4e8c-b1b6-c0843660f532",
   "metadata": {},
   "outputs": [],
   "source": [
    "import sys\n",
    "sys.path.append('/Users/wylliamcheng/Desktop/Quectonic/core/web-production/resource-engineering/mdkengineering')"
   ]
  },
  {
   "cell_type": "code",
   "execution_count": 2,
   "id": "1793a4b6-f0bb-43b5-991b-3d5905e21e77",
   "metadata": {},
   "outputs": [
    {
     "name": "stdout",
     "output_type": "stream",
     "text": [
      "Intel MKL WARNING: Support of Intel(R) Streaming SIMD Extensions 4.2 (Intel(R) SSE4.2) enabled only processors has been deprecated. Intel oneAPI Math Kernel Library 2025.0 will require Intel(R) Advanced Vector Extensions (Intel(R) AVX) instructions.\n",
      "Intel MKL WARNING: Support of Intel(R) Streaming SIMD Extensions 4.2 (Intel(R) SSE4.2) enabled only processors has been deprecated. Intel oneAPI Math Kernel Library 2025.0 will require Intel(R) Advanced Vector Extensions (Intel(R) AVX) instructions.\n"
     ]
    }
   ],
   "source": [
    "from mdkengineering.utils.ElementDicts import *"
   ]
  },
  {
   "cell_type": "code",
   "execution_count": 3,
   "id": "0ce7fb28-5db0-4275-9337-9a4354e874cc",
   "metadata": {},
   "outputs": [],
   "source": [
    "exampleDescriptionText1 = TextDict(level=3, content=\"Table 1 provides an overview of key metrics.\")\n",
    "\n",
    "exampleText1 = TextDict(\n",
    "    level=2,\n",
    "    content=\"This is an introductory paragraph discussing the \"\n",
    ")\n",
    "exampleText2 = TextDict(\n",
    "    level=3,\n",
    "    content=\"importance of testing\"\n",
    ")\n",
    "exampleText3 = TextDict(\n",
    "    level=2,\n",
    "    content=\" in software development.\"\n",
    ")\n",
    "exampleLink1 = LinkDict(\n",
    "    level=2,\n",
    "    url=\"https://www.example.com/\",\n",
    "    content=[exampleText2]\n",
    ")\n",
    "examplePara1 = ParagraphDict(\n",
    "    level=1,\n",
    "    content=[\n",
    "        exampleText1,\n",
    "        exampleLink1,\n",
    "        exampleText3\n",
    "    ]\n",
    ")\n",
    "\n",
    "exampleText1 = TextDict(level=3, content=\"Metric\")\n",
    "exampleText2 = TextDict(level=3, content=\"Value of Field\")\n",
    "exampleText3 = TextDict(level=3, content=\"Accuracy\")\n",
    "exampleText4 = TextDict(level=3, content=\"95%\")\n",
    "exampleText5 = TextDict(level=3, content=\"Precision\")\n",
    "exampleText6 = TextDict(level=4, content=\"92%\")\n",
    "exampleText7 = TextDict(level=3, content=\"approximately\")\n",
    "exampleLink1 = LinkDict(level=3, url=\"https://example.com/precision\", content=[exampleText6])\n",
    "\n",
    "exampleHeadingText1 = TextDict(level=2, content=\"Heading here!\")\n",
    "\n",
    "exampleTable1 = TableDict(level=2, description=[exampleDescriptionText1], row=[[[exampleText1], [exampleText2]], [[exampleText3], [exampleText4]], [[exampleText5],[exampleText7, exampleLink1]]])\n",
    "\n",
    "exampleHeading1 = HeadingDict(level=1, content=[exampleHeadingText1], children=[examplePara1, exampleTable1])\n"
   ]
  },
  {
   "cell_type": "code",
   "execution_count": 4,
   "id": "c4cf1c6d-8559-43b5-92a7-cfb840c45b28",
   "metadata": {
    "scrolled": true
   },
   "outputs": [
    {
     "name": "stdout",
     "output_type": "stream",
     "text": [
      "content:\n",
      "['\\n\\n\\n', ['Heading here!'], '\\n\\n', [['This is an introductory paragraph discussing the '], [['importance of testing'], '(refer to https://www.example.com/ for more explanation)'], [' in software development.']], ['\\n\\n', '<table>', [[['Metric'], ['Value of Field']], [['Accuracy'], ['95%']], [['Precision'], [['92%'], '(refer to https://example.com/precision for more explanation)']]], '\\n', 'Description of table: ', ['Table 1 provides an overview of key metrics.'], '\\n\\n'], '\\n\\n\\n']\n",
      "\n",
      "flattened content:\n",
      "['\\n\\n\\n', 'Heading here!', '\\n\\n', 'This is an introductory paragraph discussing the ', 'importance of testing', '(refer to https://www.example.com/ for more explanation)', ' in software development.', '\\n\\n', '<table>', [[['Metric'], ['Value of Field']], [['Accuracy'], ['95%']], [['Precision'], [['92%'], '(refer to https://example.com/precision for more explanation)']]], '\\n', 'Description of table: ', 'Table 1 provides an overview of key metrics.', '\\n\\n', '\\n\\n\\n']\n",
      "\n",
      "content string:\n",
      "\n",
      "\n",
      "\n",
      "Heading here!\n",
      "\n",
      "This is an introductory paragraph discussing the importance of testing(refer to https://www.example.com/ for more explanation) in software development.\n",
      "\n",
      "|| Metric | Value of Field ||\n",
      "|| Accuracy | 95% ||\n",
      "|| Precision | 92%(refer to https://example.com/precision for more explanation) ||\n",
      "Description of table: Table 1 provides an overview of key metrics.\n",
      "\n",
      "\n",
      "\n",
      "\n",
      "\n"
     ]
    }
   ],
   "source": [
    "content_, flattened_content, content_string = exampleHeading1.prettify()\n",
    "print(f'content:\\n{list(content_)}\\n')\n",
    "print(f'flattened content:\\n{list(flattened_content)}\\n')\n",
    "print(f'content string:\\n{content_string}')"
   ]
  },
  {
   "cell_type": "code",
   "execution_count": 5,
   "id": "3322dc49-c037-487c-beb6-c9d983ffcbe6",
   "metadata": {
    "scrolled": true
   },
   "outputs": [
    {
     "name": "stdout",
     "output_type": "stream",
     "text": [
      "{\n",
      "    \"type\": \"heading\",\n",
      "    \"level\": 1,\n",
      "    \"children\": [\n",
      "        {\n",
      "            \"type\": \"paragraph\",\n",
      "            \"level\": 1,\n",
      "            \"content\": [\n",
      "                {\n",
      "                    \"type\": \"text\",\n",
      "                    \"level\": 2,\n",
      "                    \"content\": \"This is an introductory paragraph discussing the \"\n",
      "                },\n",
      "                {\n",
      "                    \"type\": \"link\",\n",
      "                    \"level\": 2,\n",
      "                    \"content\": [\n",
      "                        {\n",
      "                            \"type\": \"text\",\n",
      "                            \"level\": 3,\n",
      "                            \"content\": \"importance of testing\"\n",
      "                        }\n",
      "                    ]\n",
      "                },\n",
      "                {\n",
      "                    \"type\": \"text\",\n",
      "                    \"level\": 2,\n",
      "                    \"content\": \" in software development.\"\n",
      "                }\n",
      "            ]\n",
      "        },\n",
      "        {\n",
      "            \"type\": \"table\",\n",
      "            \"level\": 2,\n",
      "            \"description\": [\n",
      "                {\n",
      "                    \"type\": \"text\",\n",
      "                    \"level\": 3,\n",
      "                    \"content\": \"Table 1 provides an overview of key metrics.\"\n",
      "                }\n",
      "            ],\n",
      "            \"content\": [\n",
      "                [\n",
      "                    [\n",
      "                        {\n",
      "                            \"type\": \"text\",\n",
      "                            \"level\": 3,\n",
      "                            \"content\": \"Metric\"\n",
      "                        }\n",
      "                    ],\n",
      "                    [\n",
      "                        {\n",
      "                            \"type\": \"text\",\n",
      "                            \"level\": 3,\n",
      "                            \"content\": \"Value of Field\"\n",
      "                        }\n",
      "                    ]\n",
      "                ],\n",
      "                [\n",
      "                    [\n",
      "                        {\n",
      "                            \"type\": \"text\",\n",
      "                            \"level\": 3,\n",
      "                            \"content\": \"Accuracy\"\n",
      "                        }\n",
      "                    ],\n",
      "                    [\n",
      "                        {\n",
      "                            \"type\": \"text\",\n",
      "                            \"level\": 3,\n",
      "                            \"content\": \"95%\"\n",
      "                        }\n",
      "                    ]\n",
      "                ],\n",
      "                [\n",
      "                    [\n",
      "                        {\n",
      "                            \"type\": \"text\",\n",
      "                            \"level\": 3,\n",
      "                            \"content\": \"Precision\"\n",
      "                        }\n",
      "                    ],\n",
      "                    [\n",
      "                        {\n",
      "                            \"type\": \"text\",\n",
      "                            \"level\": 3,\n",
      "                            \"content\": \"approximately\"\n",
      "                        },\n",
      "                        {\n",
      "                            \"type\": \"link\",\n",
      "                            \"level\": 3,\n",
      "                            \"content\": [\n",
      "                                {\n",
      "                                    \"type\": \"text\",\n",
      "                                    \"level\": 4,\n",
      "                                    \"content\": \"92%\"\n",
      "                                }\n",
      "                            ]\n",
      "                        }\n",
      "                    ]\n",
      "                ]\n",
      "            ]\n",
      "        }\n",
      "    ],\n",
      "    \"content\": [\n",
      "        {\n",
      "            \"type\": \"text\",\n",
      "            \"level\": 2,\n",
      "            \"content\": \"Heading here!\"\n",
      "        }\n",
      "    ]\n",
      "}\n"
     ]
    }
   ],
   "source": [
    "print(exampleHeading1)"
   ]
  },
  {
   "cell_type": "markdown",
   "id": "9311f70b-cabf-4c82-8bd0-02d2391ae1c4",
   "metadata": {},
   "source": [
    "# Test for Factory Constructor of ElementDict"
   ]
  },
  {
   "cell_type": "code",
   "execution_count": 1,
   "id": "b8f45cc0-8d6f-41de-8927-79ec7c30dd68",
   "metadata": {},
   "outputs": [
    {
     "ename": "ModuleNotFoundError",
     "evalue": "No module named 'mdkengineering'",
     "output_type": "error",
     "traceback": [
      "\u001b[0;31m---------------------------------------------------------------------------\u001b[0m",
      "\u001b[0;31mModuleNotFoundError\u001b[0m                       Traceback (most recent call last)",
      "Cell \u001b[0;32mIn[1], line 1\u001b[0m\n\u001b[0;32m----> 1\u001b[0m \u001b[38;5;28;01mfrom\u001b[39;00m \u001b[38;5;21;01mmdkengineering\u001b[39;00m\u001b[38;5;21;01m.\u001b[39;00m\u001b[38;5;21;01mutils\u001b[39;00m\u001b[38;5;21;01m.\u001b[39;00m\u001b[38;5;21;01mElementDicts\u001b[39;00m \u001b[38;5;28;01mimport\u001b[39;00m \u001b[38;5;241m*\u001b[39m\n",
      "\u001b[0;31mModuleNotFoundError\u001b[0m: No module named 'mdkengineering'"
     ]
    }
   ],
   "source": [
    "from mdkengineering.utils.ElementDicts import *"
   ]
  },
  {
   "cell_type": "code",
   "execution_count": null,
   "id": "3c073a52-9842-4938-a936-c852da243649",
   "metadata": {},
   "outputs": [],
   "source": [
    "examplePara1 = ElementDict.create_ElementDict(level=1, type='paragraph', content)"
   ]
  },
  {
   "cell_type": "code",
   "execution_count": null,
   "id": "e8b4c37f-1393-466a-8c65-cfc3b9661433",
   "metadata": {},
   "outputs": [],
   "source": [
    "print(type(examplePara1))"
   ]
  },
  {
   "cell_type": "markdown",
   "id": "ff4bb8a3-256a-45c3-b9be-c180e973a723",
   "metadata": {},
   "source": [
    "# Test for Recursion Dictionary Method"
   ]
  },
  {
   "cell_type": "code",
   "execution_count": 2,
   "id": "9a9cdc28-53d0-4f05-8633-5dc5a803ff64",
   "metadata": {},
   "outputs": [],
   "source": [
    "import sys \n",
    "sys.path.append('/Users/wylliamcheng/Desktop/Quectonic/core/web-production/resource-engineering/mdkengineering')"
   ]
  },
  {
   "cell_type": "code",
   "execution_count": 3,
   "id": "a0471245-4ad5-4ede-91b5-e1dabee49238",
   "metadata": {},
   "outputs": [
    {
     "name": "stdout",
     "output_type": "stream",
     "text": [
      "Intel MKL WARNING: Support of Intel(R) Streaming SIMD Extensions 4.2 (Intel(R) SSE4.2) enabled only processors has been deprecated. Intel oneAPI Math Kernel Library 2025.0 will require Intel(R) Advanced Vector Extensions (Intel(R) AVX) instructions.\n",
      "Intel MKL WARNING: Support of Intel(R) Streaming SIMD Extensions 4.2 (Intel(R) SSE4.2) enabled only processors has been deprecated. Intel oneAPI Math Kernel Library 2025.0 will require Intel(R) Advanced Vector Extensions (Intel(R) AVX) instructions.\n"
     ]
    }
   ],
   "source": [
    "from mdkengineering.utils.ElementDicts import *"
   ]
  },
  {
   "cell_type": "code",
   "execution_count": 4,
   "id": "0108dd6f-9a0b-46da-9207-cd0fee851069",
   "metadata": {},
   "outputs": [],
   "source": [
    "exampleList1 = ListDict(level=1, item=[\n",
    "    [TextDict(level=2, content=\"Hello\")],\n",
    "    [TextDict(level=2, content=\"World\")]\n",
    "])"
   ]
  },
  {
   "cell_type": "code",
   "execution_count": 5,
   "id": "d641a81d-8af4-4dcd-aa8a-411075ada70f",
   "metadata": {},
   "outputs": [
    {
     "name": "stdout",
     "output_type": "stream",
     "text": [
      "{\n",
      "    \"type\": \"list\",\n",
      "    \"level\": 1,\n",
      "    \"item\": [\n",
      "        [\n",
      "            {\n",
      "                \"type\": \"text\",\n",
      "                \"level\": 2,\n",
      "                \"content\": \"Hello\"\n",
      "            }\n",
      "        ],\n",
      "        [\n",
      "            {\n",
      "                \"type\": \"text\",\n",
      "                \"level\": 2,\n",
      "                \"content\": \"World\"\n",
      "            }\n",
      "        ]\n",
      "    ]\n",
      "}\n"
     ]
    }
   ],
   "source": [
    "print(exampleList1)"
   ]
  },
  {
   "cell_type": "code",
   "execution_count": 7,
   "id": "705d8943-799a-40e0-a202-2edae4c18d31",
   "metadata": {},
   "outputs": [],
   "source": [
    "exampleDescriptionText1 = TextDict(level=3, content=\"Table 1 provides an overview of key metrics.\")\n",
    "\n",
    "exampleText1 = TextDict(level=3, content=\"Metric\")\n",
    "exampleText2 = TextDict(level=3, content=\"Value of Field\")\n",
    "exampleText3 = TextDict(level=3, content=\"Accuracy\")\n",
    "exampleText4 = TextDict(level=3, content=\"95%\")\n",
    "exampleText5 = TextDict(level=3, content=\"Precision\")\n",
    "exampleText6 = TextDict(level=4, content=\"92%\")\n",
    "exampleText7 = TextDict(level=3, content=\"approximately\")\n",
    "exampleLink1 = LinkDict(level=3, url=\"https://example.com/precision\", content=[exampleText6])\n",
    "\n",
    "exampleHeadingText1 = TextDict(level=2, content=\"Heading here!\")\n",
    "\n",
    "exampleTable1 = TableDict(level=2, description=[exampleDescriptionText1], row=[[[exampleText1], [exampleText2]], [[exampleText3], [exampleText4]], [[exampleText5],[exampleText7, exampleLink1]]])\n"
   ]
  },
  {
   "cell_type": "code",
   "execution_count": 8,
   "id": "e0e58489-d5e0-4195-8125-eb18f012a522",
   "metadata": {},
   "outputs": [
    {
     "name": "stdout",
     "output_type": "stream",
     "text": [
      "{\n",
      "    \"type\": \"table\",\n",
      "    \"level\": 2,\n",
      "    \"description\": [\n",
      "        {\n",
      "            \"type\": \"text\",\n",
      "            \"level\": 3,\n",
      "            \"content\": \"Table 1 provides an overview of key metrics.\"\n",
      "        }\n",
      "    ],\n",
      "    \"row\": [\n",
      "        [\n",
      "            [\n",
      "                {\n",
      "                    \"type\": \"text\",\n",
      "                    \"level\": 3,\n",
      "                    \"content\": \"Metric\"\n",
      "                }\n",
      "            ],\n",
      "            [\n",
      "                {\n",
      "                    \"type\": \"text\",\n",
      "                    \"level\": 3,\n",
      "                    \"content\": \"Value of Field\"\n",
      "                }\n",
      "            ]\n",
      "        ],\n",
      "        [\n",
      "            [\n",
      "                {\n",
      "                    \"type\": \"text\",\n",
      "                    \"level\": 3,\n",
      "                    \"content\": \"Accuracy\"\n",
      "                }\n",
      "            ],\n",
      "            [\n",
      "                {\n",
      "                    \"type\": \"text\",\n",
      "                    \"level\": 3,\n",
      "                    \"content\": \"95%\"\n",
      "                }\n",
      "            ]\n",
      "        ],\n",
      "        [\n",
      "            [\n",
      "                {\n",
      "                    \"type\": \"text\",\n",
      "                    \"level\": 3,\n",
      "                    \"content\": \"Precision\"\n",
      "                }\n",
      "            ],\n",
      "            [\n",
      "                {\n",
      "                    \"type\": \"text\",\n",
      "                    \"level\": 3,\n",
      "                    \"content\": \"approximately\"\n",
      "                },\n",
      "                {\n",
      "                    \"type\": \"link\",\n",
      "                    \"level\": 3,\n",
      "                    \"url\": \"https://example.com/precision\",\n",
      "                    \"content\": [\n",
      "                        {\n",
      "                            \"type\": \"text\",\n",
      "                            \"level\": 4,\n",
      "                            \"content\": \"92%\"\n",
      "                        }\n",
      "                    ]\n",
      "                }\n",
      "            ]\n",
      "        ]\n",
      "    ]\n",
      "}\n"
     ]
    }
   ],
   "source": [
    "print(exampleTable1)"
   ]
  }
 ],
 "metadata": {
  "kernelspec": {
   "display_name": "Python 3 (ipykernel)",
   "language": "python",
   "name": "python3"
  },
  "language_info": {
   "codemirror_mode": {
    "name": "ipython",
    "version": 3
   },
   "file_extension": ".py",
   "mimetype": "text/x-python",
   "name": "python",
   "nbconvert_exporter": "python",
   "pygments_lexer": "ipython3",
   "version": "3.11.7"
  }
 },
 "nbformat": 4,
 "nbformat_minor": 5
}
