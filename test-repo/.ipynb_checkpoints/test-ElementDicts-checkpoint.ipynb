{
 "cells": [
  {
   "cell_type": "markdown",
   "id": "ff1d53a5-3f68-4cdf-aa5d-8a12facf257d",
   "metadata": {},
   "source": [
    "# Test for Table Transformer Parser"
   ]
  },
  {
   "cell_type": "code",
   "execution_count": null,
   "id": "1cfa014f-2703-4a4d-b238-aa1bb1bb833a",
   "metadata": {},
   "outputs": [],
   "source": [
    "exampleTableHtml = \"\"\"<table style=\"border: 2; background: none;\" align=\"center\" class=\"wikitable\">\n",
    "<tbody><tr>\n",
    "<th colspan=\"1\" rowspan=\"2\" style=\"border: 1; background: 1;\">Transmission\n",
    "</th>\n",
    "<th colspan=\"1\" rowspan=\"2\">Clinical Presentation\n",
    "</th>\n",
    "<th colspan=\"1\" rowspan=\"2\">Disease\n",
    "</th>\n",
    "<th colspan=\"2\" rowspan=\"1\">Diagnosis\n",
    "</th>\n",
    "<th colspan=\"2\" rowspan=\"1\">Mother to Child Transmission\n",
    "</th>\n",
    "<th colspan=\"1\" rowspan=\"2\">Most Serious Complications\n",
    "</th></tr>e\n",
    "<tr>\n",
    "<th colspan=\"1\" rowspan=\"1\">Laboratory Studies</th>\n",
    "<th>Clinical Diagnosis</th>\n",
    "<th>Vertical Transmission</th>\n",
    "<th>Trans-vaginal Transmission\n",
    "</th></tr>\n",
    "<tr>\n",
    "<th colspan=\"1\" rowspan=\"13\">Primarily sexually transmitted\n",
    "</th>\n",
    "<th colspan=\"1\" rowspan=\"6\"><b>Genital Dermatological Manifestation <br>(e.g., <a href=\"/index.php/Genital_ulcer\" title=\"Genital ulcer\">ulcers</a>, <a href=\"/index.php/Chancre\" title=\"Chancre\">chancre</a>, vesicles, <a href=\"/index.php/Genital_warts\" title=\"Genital warts\">warts</a>, <a href=\"/index.php/Balanitis\" title=\"Balanitis\">balanitis</a> etc.)</b>\n",
    "</th>\n",
    "<td colspan=\"1\" rowspan=\"1\"><a href=\"/index.php/HPV\" class=\"mw-redirect\" title=\"HPV\">HPV</a></td>\n",
    "<td>✔</td>\n",
    "<td>✔</td>\n",
    "<td></td>\n",
    "<td></td>\n",
    "<td><a href=\"/index.php/Cervical_Cancer\" class=\"mw-redirect\" title=\"Cervical Cancer\">Cervical Cancer</a>\n",
    "</td></tr>\n",
    "<tr>\n",
    "<td colspan=\"1\" rowspan=\"1\"><a href=\"/index.php?title=%27%27Herpes_simplex%27%27&amp;action=edit&amp;redlink=1\" class=\"new\" title=\"''Herpes simplex'' (page does not exist)\">''Herpes simplex''</a> 1 and 2</td>\n",
    "<td>✔</td>\n",
    "<td>✔</td>\n",
    "<td>✔</td>\n",
    "<td>✔</td>\n",
    "<td>Moderate to severe <a href=\"/index.php/Pruritis\" title=\"Pruritis\">pruritis</a>/discomfort, superinfection\n",
    "</td></tr>\n",
    "<tr>\n",
    "<td colspan=\"1\" rowspan=\"1\"><a href=\"/index.php/Syphilis\" title=\"Syphilis\">Syphilis</a></td>\n",
    "<td>✔</td>\n",
    "<td>✔</td>\n",
    "<td>✔</td>\n",
    "<td></td>\n",
    "<td>\n",
    "<ul><li><a href=\"/index.php/Neurosyphilis\" title=\"Neurosyphilis\">Neurosyphilis</a><br></li>\n",
    "<li><a href=\"/index.php/Cardiosyphilis\" class=\"mw-redirect\" title=\"Cardiosyphilis\">Cardiosyphilis</a></li></ul>\n",
    "</td></tr>\n",
    "<tr>\n",
    "<td colspan=\"1\" rowspan=\"1\"><a href=\"/index.php/Scabies\" title=\"Scabies\">Scabies</a></td>\n",
    "<td>✔</td>\n",
    "<td>✔</td>\n",
    "<td></td>\n",
    "<td></td>\n",
    "<td>Moderate to severe <a href=\"/index.php/Pruritis\" title=\"Pruritis\">pruritis</a>/discomfort\n",
    "</td></tr>\n",
    "<tr>\n",
    "<td colspan=\"1\" rowspan=\"1\"><a href=\"/index.php/Pubic_lice\" class=\"mw-redirect\" title=\"Pubic lice\">Pubic lice</a></td>\n",
    "<td>✔</td>\n",
    "<td>✔</td>\n",
    "<td></td>\n",
    "<td></td>\n",
    "<td>Moderate to severe <a href=\"/index.php/Pruritis\" title=\"Pruritis\">pruritis</a>/discomfort\n",
    "</td></tr>\n",
    "<tr>\n",
    "<td colspan=\"1\" rowspan=\"1\"><a href=\"/index.php/Candidiasis\" title=\"Candidiasis\">Candidiasis</a><br>(in males)</td>\n",
    "<td></td>\n",
    "<td>✔</td>\n",
    "<td></td>\n",
    "<td></td>\n",
    "<td>Mild to moderate <a href=\"/index.php/Pruritis\" title=\"Pruritis\">pruritis</a>/discomfort\n",
    "</td></tr>\n",
    "<tr>\n",
    "<th colspan=\"1\" rowspan=\"2\"><b>Generalized Symptoms<br> (e.g., constitutional symptoms)</b>\n",
    "</th>\n",
    "<td colspan=\"1\" rowspan=\"1\"><a href=\"/index.php/HIV\" class=\"mw-redirect\" title=\"HIV\">HIV</a></td>\n",
    "<td>✔</td>\n",
    "<td></td>\n",
    "<td>✔</td>\n",
    "<td></td>\n",
    "<td>\n",
    "<ul><li><a href=\"/index.php/Primary_CNS_Lymphoma\" class=\"mw-redirect\" title=\"Primary CNS Lymphoma\">Primary CNS Lymphoma</a><br></li>\n",
    "<li><a href=\"/index.php/Immunosuppression\" title=\"Immunosuppression\">Immunosuppression</a> (AIDS)</li></ul>\n",
    "</td></tr>\n",
    "<tr>\n",
    "<td colspan=\"1\" rowspan=\"1\"><a href=\"/index.php/Syphilis\" title=\"Syphilis\">Syphilis</a></td>\n",
    "<td>✔</td>\n",
    "<td>✔</td>\n",
    "<td>✔</td>\n",
    "<td></td>\n",
    "<td>\n",
    "<ul><li><a href=\"/index.php/Neurosyphilis\" title=\"Neurosyphilis\">Neurosyphilis<br></a></li>\n",
    "<li><a href=\"/index.php/Syphilis\" title=\"Syphilis\">Cardiosyphilis</a></li></ul>\n",
    "</td></tr>\n",
    "<tr>\n",
    "<th colspan=\"1\" rowspan=\"5\"><b>Urogenital infections<br> (e.g., <a href=\"/index.php/Vaginitis\" title=\"Vaginitis\">Vaginitis</a>, <a href=\"/index.php/Urethritis\" title=\"Urethritis\">Urethritis</a>, <a href=\"/index.php/Cervicitis\" title=\"Cervicitis\">Cervicitis</a>, and <a href=\"/index.php/PID\" title=\"PID\">PID</a>)</b>\n",
    "</th>\n",
    "<td colspan=\"1\" rowspan=\"1\"><a href=\"/index.php/Gonorrhea\" title=\"Gonorrhea\">Gonorrhea</a></td>\n",
    "<td>✔</td>\n",
    "<td>✔</td>\n",
    "<td></td>\n",
    "<td>✔</td>\n",
    "<td><a href=\"/index.php/PID\" title=\"PID\">PID</a>\n",
    "</td></tr>\n",
    "<tr>\n",
    "<td colspan=\"1\" rowspan=\"1\"><a href=\"/index.php/Chlamydia\" class=\"mw-redirect\" title=\"Chlamydia\">Chlamydia</a></td>\n",
    "<td>✔</td>\n",
    "<td>✔</td>\n",
    "<td></td>\n",
    "<td>✔</td>\n",
    "<td><a href=\"/index.php/PID\" title=\"PID\">PID</a>\n",
    "</td></tr>\n",
    "<tr>\n",
    "<td colspan=\"1\" rowspan=\"1\"><a href=\"/index.php/Syphilis\" title=\"Syphilis\">Syphilis</a></td>\n",
    "<td>✔</td>\n",
    "<td>✔</td>\n",
    "<td>✔</td>\n",
    "<td></td>\n",
    "<td>\n",
    "<ul><li><a href=\"/index.php/Neurosyphilis\" title=\"Neurosyphilis\">Neurosyphilis</a></li>\n",
    "<li><a href=\"/index.php/Cardiosyphilis\" class=\"mw-redirect\" title=\"Cardiosyphilis\">Cardiosyphilis</a></li></ul>\n",
    "</td></tr>\n",
    "<tr>\n",
    "<td colspan=\"1\" rowspan=\"1\"><a href=\"/index.php?title=%27%27Mycoplasma_genitalium%27%27_infection&amp;action=edit&amp;redlink=1\" class=\"new\" title=\"''Mycoplasma genitalium'' infection (page does not exist)\"><i>Mycoplasma genitalium</i></a></td>\n",
    "<td>✔</td>\n",
    "<td>✔</td>\n",
    "<td>unknown</td>\n",
    "<td>unknown</td>\n",
    "<td><a href=\"/index.php/PID\" title=\"PID\">PID</a>\n",
    "</td></tr>\n",
    "<tr>\n",
    "<td colspan=\"1\" rowspan=\"1\"><a href=\"/index.php?title=%27%27Trichomonas_vaginalis%27%27&amp;action=edit&amp;redlink=1\" class=\"new\" title=\"''Trichomonas vaginalis'' (page does not exist)\">''Trichomonas vaginalis''</a></td>\n",
    "<td>✔</td>\n",
    "<td>✔</td>\n",
    "<td></td>\n",
    "<td></td>\n",
    "<td><a href=\"/index.php/PID\" title=\"PID\">PID</a>\n",
    "</td></tr>\n",
    "<tr>\n",
    "<th colspan=\"1\" rowspan=\"6\">Less frequently sexually transmitted\n",
    "</th>\n",
    "<th colspan=\"1\" rowspan=\"3\"><b>Generalized Symptoms<br> (e.g., constitutional symptoms)</b>\n",
    "</th>\n",
    "<td colspan=\"1\" rowspan=\"1\"><a href=\"/index.php/Zika_virus_infection\" title=\"Zika virus infection\">Zika Virus</a></td>\n",
    "<td>✔</td>\n",
    "<td></td>\n",
    "<td>✔</td>\n",
    "<td></td>\n",
    "<td><a href=\"/index.php/Vertical_transmission\" title=\"Vertical transmission\">Vertical transmission</a> and congenital abnormalities\n",
    "</td></tr>\n",
    "<tr>\n",
    "<td colspan=\"1\" rowspan=\"1\"><a href=\"/index.php/Hepatitis_B\" title=\"Hepatitis B\">Hepatitis B</a></td>\n",
    "<td>✔</td>\n",
    "<td>✔</td>\n",
    "<td>✔</td>\n",
    "<td></td>\n",
    "<td><a href=\"/index.php/Hepatocellular_Carcinoma\" class=\"mw-redirect\" title=\"Hepatocellular Carcinoma\">Hepatocellular Carcinoma</a>\n",
    "</td></tr>\n",
    "<tr>\n",
    "<td colspan=\"1\" rowspan=\"1\"><a href=\"/index.php/Hepatitis_C\" title=\"Hepatitis C\">Hepatitis C</a></td>\n",
    "<td>✔</td>\n",
    "<td>✔</td>\n",
    "<td>✔</td>\n",
    "<td></td>\n",
    "<td><a href=\"/index.php/Liver_cirrhosis\" class=\"mw-redirect\" title=\"Liver cirrhosis\">Liver cirrhosis</a>, <a href=\"/index.php/Hepatocellular_Carcinoma\" class=\"mw-redirect\" title=\"Hepatocellular Carcinoma\">Hepatocellular Carcinoma</a>\n",
    "</td></tr>\n",
    "<tr>\n",
    "<th colspan=\"1\" rowspan=\"3\"><b>Urogenital Infections <br> (e.g., <a href=\"/index.php/Vaginitis\" title=\"Vaginitis\">Vaginitis</a>, <a href=\"/index.php/Urethritis\" title=\"Urethritis\">Urethritis</a>, <a href=\"/index.php/Cervicitis\" title=\"Cervicitis\">Cervicitis</a>, and <a href=\"/index.php/PID\" title=\"PID\">PID</a>)</b>\n",
    "</th>\n",
    "<td colspan=\"1\" rowspan=\"1\"><a href=\"/index.php?title=%27%27Gardnerella_vaginalis%27%27&amp;action=edit&amp;redlink=1\" class=\"new\" title=\"''Gardnerella vaginalis'' (page does not exist)\">''Gardnerella vaginalis''</a></td>\n",
    "<td>✔</td>\n",
    "<td>✔</td>\n",
    "<td></td>\n",
    "<td></td>\n",
    "<td>Moderate to severe discomfort\n",
    "</td></tr>\n",
    "<tr>\n",
    "<td colspan=\"1\" rowspan=\"1\"><a href=\"/index.php/Candidiasis\" title=\"Candidiasis\">Candidiasis</a><br> (in females)</td>\n",
    "<td></td>\n",
    "<td>✔</td>\n",
    "<td></td>\n",
    "<td></td>\n",
    "<td>Moderate to severe <a href=\"/index.php/Pruritis\" title=\"Pruritis\">pruritis</a>/discomfort\n",
    "</td></tr>\n",
    "<tr>\n",
    "<td colspan=\"1\" rowspan=\"1\"><a href=\"/index.php?title=%27%27Ureaplasma_urealyticum%27%27&amp;action=edit&amp;redlink=1\" class=\"new\" title=\"''Ureaplasma urealyticum'' (page does not exist)\"> <i>Ureaplasma urealyticum</i></a></td>\n",
    "<td>✔</td>\n",
    "<td>✔</td>\n",
    "<td></td>\n",
    "<td></td>\n",
    "<td>Moderate to severe <a href=\"/index.php/Pruritis\" title=\"Pruritis\">pruritis</a>/discomfort\n",
    "</td></tr>\n",
    "</tbody></table>\"\"\""
   ]
  },
  {
   "cell_type": "code",
   "execution_count": null,
   "id": "29530dcd-ef0c-45fd-aae2-abfdfcbd42e1",
   "metadata": {},
   "outputs": [],
   "source": [
    "!pip install lxml"
   ]
  },
  {
   "cell_type": "code",
   "execution_count": null,
   "id": "af4dd60d-2382-4d58-9da8-2c5e87b58145",
   "metadata": {},
   "outputs": [],
   "source": [
    "import sys\n",
    "sys.path.append('/Users/wylliamcheng/Desktop/Quectonic/core/web-production/resource-engineering/mdkengineering')"
   ]
  },
  {
   "cell_type": "code",
   "execution_count": null,
   "id": "85044da6-475f-4fd3-a1b4-f33476ac3344",
   "metadata": {},
   "outputs": [],
   "source": [
    "from mdkengineering.utils.DataTransformer import HtmlTableTransformer"
   ]
  },
  {
   "cell_type": "code",
   "execution_count": null,
   "id": "2db61ab5-95f5-43a0-9700-c86fe7c8b22d",
   "metadata": {},
   "outputs": [],
   "source": [
    "example_table_transformer = HtmlTableTransformer(table_html=exampleTableHtml)"
   ]
  },
  {
   "cell_type": "code",
   "execution_count": null,
   "id": "ebb1a16a-432b-4a11-af4f-e7efb4f69a23",
   "metadata": {},
   "outputs": [],
   "source": [
    "print(len(example_table_transformer.table_list))"
   ]
  },
  {
   "cell_type": "code",
   "execution_count": null,
   "id": "dd45e43f-c5c5-40d7-89cc-5db7803cef4f",
   "metadata": {},
   "outputs": [],
   "source": [
    "print(example_table_transformer.text)"
   ]
  },
  {
   "cell_type": "markdown",
   "id": "a465b244-4259-4d29-9ee1-9caec6e4c924",
   "metadata": {},
   "source": [
    "# Test for Paragraph Parsing into Dictionary"
   ]
  },
  {
   "cell_type": "code",
   "execution_count": null,
   "id": "f7c09087-b203-4b92-8839-642f2c998dda",
   "metadata": {},
   "outputs": [],
   "source": [
    "import sys\n",
    "sys.path.append('/Users/wylliamcheng/Desktop/Quectonic/core/web-production/resource-engineering/mdkengineering')\n",
    "from mdkengineering.utils.ElementDicts import *"
   ]
  },
  {
   "cell_type": "code",
   "execution_count": null,
   "id": "5a7fd8f6-3b9c-455b-beb2-8b58469dc57b",
   "metadata": {},
   "outputs": [],
   "source": [
    "exampleText1 = TextDict(\n",
    "    level=2,\n",
    "    content=\"This is an introductory paragraph discussing the \"\n",
    ")\n",
    "exampleText2 = TextDict(\n",
    "    level=3,\n",
    "    content=\"importance of testing\"\n",
    ")\n",
    "exampleText3 = TextDict(\n",
    "    level=2,\n",
    "    content=\" in software development.\"\n",
    ")\n",
    "exampleLink1 = LinkDict(\n",
    "    level=2,\n",
    "    url=\"https://www.example.com/\",\n",
    "    content=[exampleText2]\n",
    ")\n",
    "examplePara1 = ParagraphDict(\n",
    "    level=1,\n",
    "    content=[\n",
    "        exampleText1,\n",
    "        exampleLink1,\n",
    "        exampleText3\n",
    "    ]\n",
    ")"
   ]
  },
  {
   "cell_type": "code",
   "execution_count": null,
   "id": "6cd6be55-0364-44ed-a037-2b0b02ea39f2",
   "metadata": {},
   "outputs": [],
   "source": [
    "## Test Paragraph\n",
    "\n",
    "content_, flattened_content, content_string = examplePara1.prettify()\n",
    "print(f'content:\\n{list(content_)}')\n",
    "print(f'flattened content:\\n{list(flattened_content)}')\n",
    "print(f'content string:\\n{content_string}')"
   ]
  },
  {
   "cell_type": "code",
   "execution_count": null,
   "id": "d0d69c35-500b-4c99-8eba-6f23662bfa2c",
   "metadata": {},
   "outputs": [],
   "source": [
    "## Test Link\n",
    "content_, flattened_content, content_string = exampleLink1.prettify()\n",
    "print(f'content:\\n{list(content_)}')\n",
    "print(f'flattened content:\\n{list(flattened_content)}')\n",
    "print(f'content string:\\n{content_string}')"
   ]
  },
  {
   "cell_type": "code",
   "execution_count": null,
   "id": "fbb30c37-bd63-4eb6-b227-45a4906fd246",
   "metadata": {},
   "outputs": [],
   "source": [
    "## Test Text\n",
    "content_format_, content_ = exampleText1.prettify()\n",
    "print(f'content:\\n{content_}')"
   ]
  },
  {
   "cell_type": "markdown",
   "id": "ee0ad287-7a5f-4a5a-ad7e-0a0bb27f3059",
   "metadata": {},
   "source": [
    "# Test for Table Parsing into Dictionary"
   ]
  },
  {
   "cell_type": "code",
   "execution_count": 1,
   "id": "dbcd96d9-60fe-4343-8ad7-7350300f836b",
   "metadata": {},
   "outputs": [],
   "source": [
    "import sys\n",
    "sys.path.append('/Users/wylliamcheng/Desktop/Quectonic/core/web-production/resource-engineering/mdkengineering')"
   ]
  },
  {
   "cell_type": "code",
   "execution_count": 2,
   "id": "d15a81be-c654-4487-a14d-f9986f33ae27",
   "metadata": {},
   "outputs": [
    {
     "name": "stdout",
     "output_type": "stream",
     "text": [
      "Intel MKL WARNING: Support of Intel(R) Streaming SIMD Extensions 4.2 (Intel(R) SSE4.2) enabled only processors has been deprecated. Intel oneAPI Math Kernel Library 2025.0 will require Intel(R) Advanced Vector Extensions (Intel(R) AVX) instructions.\n",
      "Intel MKL WARNING: Support of Intel(R) Streaming SIMD Extensions 4.2 (Intel(R) SSE4.2) enabled only processors has been deprecated. Intel oneAPI Math Kernel Library 2025.0 will require Intel(R) Advanced Vector Extensions (Intel(R) AVX) instructions.\n"
     ]
    }
   ],
   "source": [
    "from mdkengineering.utils.ElementDicts import *"
   ]
  },
  {
   "cell_type": "code",
   "execution_count": 10,
   "id": "6d1969aa-492b-4b60-abd3-c92fdc7f21a7",
   "metadata": {},
   "outputs": [],
   "source": [
    "exampleDescriptionText1 = TextDict(level=2, content=\"Table 1 provides an overview of key metrics.\")\n",
    "\n",
    "exampleText1 = TextDict(level=2, content=\"Metric\")\n",
    "exampleText2 = TextDict(level=2, content=\"Value of Field\")\n",
    "exampleText3 = TextDict(level=2, content=\"Accuracy\")\n",
    "exampleText4 = TextDict(level=2, content=\"95%\")\n",
    "exampleText5 = TextDict(level=2, content=\"Precision\")\n",
    "exampleText6 = TextDict(level=3, content=\"92%\")\n",
    "exampleText7 = TextDict(level=2, content=\"approximately\")\n",
    "exampleLink1 = LinkDict(level=2, url=\"https://example.com/precision\", content=[exampleText6])\n",
    "\n",
    "exampleTable1 = TableDict(level=1, description=[exampleDescriptionText1], row=[[[exampleText1], [exampleText2]], [[exampleText3], [exampleText4]], [[exampleText5],[exampleText7, exampleLink1]]])"
   ]
  },
  {
   "cell_type": "code",
   "execution_count": null,
   "id": "62c5190d-94f1-42fd-9513-d7b29e327dce",
   "metadata": {},
   "outputs": [],
   "source": [
    "content = list(ElementDict.flatten(nested_iterable=exampleTable1.extract_content()))\n",
    "print(content)\n",
    "\n",
    "print()\n",
    "\n",
    "print(list(exampleTable1.extract_content()))"
   ]
  },
  {
   "cell_type": "code",
   "execution_count": null,
   "id": "c3abe702-4a15-4755-98a1-4623612404ef",
   "metadata": {},
   "outputs": [],
   "source": [
    "## Test Table\n",
    "content_, flattened_content, content_string = exampleTable1.prettify()\n",
    "print(f'content:\\n{list(content_)}')\n",
    "print(f'flattened content:\\n{list(flattened_content)}')\n",
    "print(f'content string:\\n{content_string}')"
   ]
  },
  {
   "cell_type": "markdown",
   "id": "ca64782c-6662-4911-8a15-fc73d5bf9ac3",
   "metadata": {},
   "source": [
    "# Test for Moderate Complexity with Link, Table, Paragraph, Heading"
   ]
  },
  {
   "cell_type": "code",
   "execution_count": 1,
   "id": "eba7cbad-f3cf-4e8c-b1b6-c0843660f532",
   "metadata": {},
   "outputs": [],
   "source": [
    "import sys\n",
    "sys.path.append('/Users/wylliamcheng/Desktop/Quectonic/core/web-production/resource-engineering/mdkengineering')"
   ]
  },
  {
   "cell_type": "code",
   "execution_count": 2,
   "id": "1793a4b6-f0bb-43b5-991b-3d5905e21e77",
   "metadata": {},
   "outputs": [
    {
     "name": "stdout",
     "output_type": "stream",
     "text": [
      "Intel MKL WARNING: Support of Intel(R) Streaming SIMD Extensions 4.2 (Intel(R) SSE4.2) enabled only processors has been deprecated. Intel oneAPI Math Kernel Library 2025.0 will require Intel(R) Advanced Vector Extensions (Intel(R) AVX) instructions.\n",
      "Intel MKL WARNING: Support of Intel(R) Streaming SIMD Extensions 4.2 (Intel(R) SSE4.2) enabled only processors has been deprecated. Intel oneAPI Math Kernel Library 2025.0 will require Intel(R) Advanced Vector Extensions (Intel(R) AVX) instructions.\n"
     ]
    }
   ],
   "source": [
    "from mdkengineering.utils.ElementDicts import *"
   ]
  },
  {
   "cell_type": "code",
   "execution_count": 3,
   "id": "0ce7fb28-5db0-4275-9337-9a4354e874cc",
   "metadata": {},
   "outputs": [],
   "source": [
    "exampleDescriptionText1 = TextDict(level=3, content=\"Table 1 provides an overview of key metrics.\")\n",
    "\n",
    "exampleText1 = TextDict(\n",
    "    level=2,\n",
    "    content=\"This is an introductory paragraph discussing the \"\n",
    ")\n",
    "exampleText2 = TextDict(\n",
    "    level=3,\n",
    "    content=\"importance of testing\"\n",
    ")\n",
    "exampleText3 = TextDict(\n",
    "    level=2,\n",
    "    content=\" in software development.\"\n",
    ")\n",
    "exampleLink1 = LinkDict(\n",
    "    level=2,\n",
    "    url=\"https://www.example.com/\",\n",
    "    content=[exampleText2]\n",
    ")\n",
    "examplePara1 = ParagraphDict(\n",
    "    level=1,\n",
    "    content=[\n",
    "        exampleText1,\n",
    "        exampleLink1,\n",
    "        exampleText3\n",
    "    ]\n",
    ")\n",
    "\n",
    "exampleText1 = TextDict(level=3, content=\"Metric\")\n",
    "exampleText2 = TextDict(level=3, content=\"Value of Field\")\n",
    "exampleText3 = TextDict(level=3, content=\"Accuracy\")\n",
    "exampleText4 = TextDict(level=3, content=\"95%\")\n",
    "exampleText5 = TextDict(level=3, content=\"Precision\")\n",
    "exampleText6 = TextDict(level=4, content=\"92%\")\n",
    "exampleText7 = TextDict(level=3, content=\"approximately\")\n",
    "exampleLink1 = LinkDict(level=3, url=\"https://example.com/precision\", content=[exampleText6])\n",
    "\n",
    "exampleHeadingText1 = TextDict(level=2, content=\"Heading here!\")\n",
    "\n",
    "exampleTable1 = TableDict(level=2, description=[exampleDescriptionText1], row=[[[exampleText1], [exampleText2]], [[exampleText3], [exampleText4]], [[exampleText5],[exampleText7, exampleLink1]]])\n",
    "\n",
    "exampleHeading1 = HeadingDict(level=1, content=[exampleHeadingText1], children=[examplePara1, exampleTable1])\n"
   ]
  },
  {
   "cell_type": "code",
   "execution_count": 4,
   "id": "c4cf1c6d-8559-43b5-92a7-cfb840c45b28",
   "metadata": {
    "scrolled": true
   },
   "outputs": [
    {
     "name": "stdout",
     "output_type": "stream",
     "text": [
      "content:\n",
      "['\\n\\n\\n', ['Heading here!'], '\\n\\n', [['This is an introductory paragraph discussing the '], [['importance of testing'], '(refer to https://www.example.com/ for more explanation)'], [' in software development.']], ['\\n\\n', '<table>', [[['Metric'], ['Value of Field']], [['Accuracy'], ['95%']], [['Precision'], [['92%'], '(refer to https://example.com/precision for more explanation)']]], '\\n', 'Description of table: ', ['Table 1 provides an overview of key metrics.'], '\\n\\n'], '\\n\\n\\n']\n",
      "\n",
      "flattened content:\n",
      "['\\n\\n\\n', 'Heading here!', '\\n\\n', 'This is an introductory paragraph discussing the ', 'importance of testing', '(refer to https://www.example.com/ for more explanation)', ' in software development.', '\\n\\n', '<table>', [[['Metric'], ['Value of Field']], [['Accuracy'], ['95%']], [['Precision'], [['92%'], '(refer to https://example.com/precision for more explanation)']]], '\\n', 'Description of table: ', 'Table 1 provides an overview of key metrics.', '\\n\\n', '\\n\\n\\n']\n",
      "\n",
      "content string:\n",
      "\n",
      "\n",
      "\n",
      "Heading here!\n",
      "\n",
      "This is an introductory paragraph discussing the importance of testing(refer to https://www.example.com/ for more explanation) in software development.\n",
      "\n",
      "|| Metric | Value of Field ||\n",
      "|| Accuracy | 95% ||\n",
      "|| Precision | 92%(refer to https://example.com/precision for more explanation) ||\n",
      "Description of table: Table 1 provides an overview of key metrics.\n",
      "\n",
      "\n",
      "\n",
      "\n",
      "\n"
     ]
    }
   ],
   "source": [
    "content_, flattened_content, content_string = exampleHeading1.prettify()\n",
    "print(f'content:\\n{list(content_)}\\n')\n",
    "print(f'flattened content:\\n{list(flattened_content)}\\n')\n",
    "print(f'content string:\\n{content_string}')"
   ]
  },
  {
   "cell_type": "code",
   "execution_count": 5,
   "id": "3322dc49-c037-487c-beb6-c9d983ffcbe6",
   "metadata": {
    "scrolled": true
   },
   "outputs": [
    {
     "name": "stdout",
     "output_type": "stream",
     "text": [
      "{\n",
      "    \"type\": \"heading\",\n",
      "    \"level\": 1,\n",
      "    \"children\": [\n",
      "        {\n",
      "            \"type\": \"paragraph\",\n",
      "            \"level\": 1,\n",
      "            \"content\": [\n",
      "                {\n",
      "                    \"type\": \"text\",\n",
      "                    \"level\": 2,\n",
      "                    \"content\": \"This is an introductory paragraph discussing the \"\n",
      "                },\n",
      "                {\n",
      "                    \"type\": \"link\",\n",
      "                    \"level\": 2,\n",
      "                    \"content\": [\n",
      "                        {\n",
      "                            \"type\": \"text\",\n",
      "                            \"level\": 3,\n",
      "                            \"content\": \"importance of testing\"\n",
      "                        }\n",
      "                    ]\n",
      "                },\n",
      "                {\n",
      "                    \"type\": \"text\",\n",
      "                    \"level\": 2,\n",
      "                    \"content\": \" in software development.\"\n",
      "                }\n",
      "            ]\n",
      "        },\n",
      "        {\n",
      "            \"type\": \"table\",\n",
      "            \"level\": 2,\n",
      "            \"description\": [\n",
      "                {\n",
      "                    \"type\": \"text\",\n",
      "                    \"level\": 3,\n",
      "                    \"content\": \"Table 1 provides an overview of key metrics.\"\n",
      "                }\n",
      "            ],\n",
      "            \"content\": [\n",
      "                [\n",
      "                    [\n",
      "                        {\n",
      "                            \"type\": \"text\",\n",
      "                            \"level\": 3,\n",
      "                            \"content\": \"Metric\"\n",
      "                        }\n",
      "                    ],\n",
      "                    [\n",
      "                        {\n",
      "                            \"type\": \"text\",\n",
      "                            \"level\": 3,\n",
      "                            \"content\": \"Value of Field\"\n",
      "                        }\n",
      "                    ]\n",
      "                ],\n",
      "                [\n",
      "                    [\n",
      "                        {\n",
      "                            \"type\": \"text\",\n",
      "                            \"level\": 3,\n",
      "                            \"content\": \"Accuracy\"\n",
      "                        }\n",
      "                    ],\n",
      "                    [\n",
      "                        {\n",
      "                            \"type\": \"text\",\n",
      "                            \"level\": 3,\n",
      "                            \"content\": \"95%\"\n",
      "                        }\n",
      "                    ]\n",
      "                ],\n",
      "                [\n",
      "                    [\n",
      "                        {\n",
      "                            \"type\": \"text\",\n",
      "                            \"level\": 3,\n",
      "                            \"content\": \"Precision\"\n",
      "                        }\n",
      "                    ],\n",
      "                    [\n",
      "                        {\n",
      "                            \"type\": \"text\",\n",
      "                            \"level\": 3,\n",
      "                            \"content\": \"approximately\"\n",
      "                        },\n",
      "                        {\n",
      "                            \"type\": \"link\",\n",
      "                            \"level\": 3,\n",
      "                            \"content\": [\n",
      "                                {\n",
      "                                    \"type\": \"text\",\n",
      "                                    \"level\": 4,\n",
      "                                    \"content\": \"92%\"\n",
      "                                }\n",
      "                            ]\n",
      "                        }\n",
      "                    ]\n",
      "                ]\n",
      "            ]\n",
      "        }\n",
      "    ],\n",
      "    \"content\": [\n",
      "        {\n",
      "            \"type\": \"text\",\n",
      "            \"level\": 2,\n",
      "            \"content\": \"Heading here!\"\n",
      "        }\n",
      "    ]\n",
      "}\n"
     ]
    }
   ],
   "source": [
    "print(exampleHeading1)"
   ]
  },
  {
   "cell_type": "markdown",
   "id": "9311f70b-cabf-4c82-8bd0-02d2391ae1c4",
   "metadata": {},
   "source": [
    "# Test for Factory Constructor of ElementDict"
   ]
  },
  {
   "cell_type": "code",
   "execution_count": 1,
   "id": "b8f45cc0-8d6f-41de-8927-79ec7c30dd68",
   "metadata": {},
   "outputs": [
    {
     "ename": "ModuleNotFoundError",
     "evalue": "No module named 'mdkengineering'",
     "output_type": "error",
     "traceback": [
      "\u001b[0;31m---------------------------------------------------------------------------\u001b[0m",
      "\u001b[0;31mModuleNotFoundError\u001b[0m                       Traceback (most recent call last)",
      "Cell \u001b[0;32mIn[1], line 1\u001b[0m\n\u001b[0;32m----> 1\u001b[0m \u001b[38;5;28;01mfrom\u001b[39;00m \u001b[38;5;21;01mmdkengineering\u001b[39;00m\u001b[38;5;21;01m.\u001b[39;00m\u001b[38;5;21;01mutils\u001b[39;00m\u001b[38;5;21;01m.\u001b[39;00m\u001b[38;5;21;01mElementDicts\u001b[39;00m \u001b[38;5;28;01mimport\u001b[39;00m \u001b[38;5;241m*\u001b[39m\n",
      "\u001b[0;31mModuleNotFoundError\u001b[0m: No module named 'mdkengineering'"
     ]
    }
   ],
   "source": [
    "from mdkengineering.utils.ElementDicts import *"
   ]
  },
  {
   "cell_type": "code",
   "execution_count": null,
   "id": "3c073a52-9842-4938-a936-c852da243649",
   "metadata": {},
   "outputs": [],
   "source": [
    "examplePara1 = ElementDict.create_ElementDict(level=1, type='paragraph', content)"
   ]
  },
  {
   "cell_type": "code",
   "execution_count": null,
   "id": "e8b4c37f-1393-466a-8c65-cfc3b9661433",
   "metadata": {},
   "outputs": [],
   "source": [
    "print(type(examplePara1))"
   ]
  },
  {
   "cell_type": "markdown",
   "id": "ff4bb8a3-256a-45c3-b9be-c180e973a723",
   "metadata": {},
   "source": [
    "# Test for Recursion Dictionary Method"
   ]
  },
  {
   "cell_type": "code",
   "execution_count": 2,
   "id": "9a9cdc28-53d0-4f05-8633-5dc5a803ff64",
   "metadata": {},
   "outputs": [],
   "source": [
    "import sys \n",
    "sys.path.append('/Users/wylliamcheng/Desktop/Quectonic/core/web-production/resource-engineering/mdkengineering')"
   ]
  },
  {
   "cell_type": "code",
   "execution_count": 3,
   "id": "a0471245-4ad5-4ede-91b5-e1dabee49238",
   "metadata": {},
   "outputs": [
    {
     "name": "stdout",
     "output_type": "stream",
     "text": [
      "Intel MKL WARNING: Support of Intel(R) Streaming SIMD Extensions 4.2 (Intel(R) SSE4.2) enabled only processors has been deprecated. Intel oneAPI Math Kernel Library 2025.0 will require Intel(R) Advanced Vector Extensions (Intel(R) AVX) instructions.\n",
      "Intel MKL WARNING: Support of Intel(R) Streaming SIMD Extensions 4.2 (Intel(R) SSE4.2) enabled only processors has been deprecated. Intel oneAPI Math Kernel Library 2025.0 will require Intel(R) Advanced Vector Extensions (Intel(R) AVX) instructions.\n"
     ]
    }
   ],
   "source": [
    "from mdkengineering.utils.ElementDicts import *"
   ]
  },
  {
   "cell_type": "code",
   "execution_count": 4,
   "id": "0108dd6f-9a0b-46da-9207-cd0fee851069",
   "metadata": {},
   "outputs": [],
   "source": [
    "exampleList1 = ListDict(level=1, item=[\n",
    "    [TextDict(level=2, content=\"Hello\")],\n",
    "    [TextDict(level=2, content=\"World\")]\n",
    "])"
   ]
  },
  {
   "cell_type": "code",
   "execution_count": 5,
   "id": "d641a81d-8af4-4dcd-aa8a-411075ada70f",
   "metadata": {},
   "outputs": [
    {
     "name": "stdout",
     "output_type": "stream",
     "text": [
      "{\n",
      "    \"type\": \"list\",\n",
      "    \"level\": 1,\n",
      "    \"item\": [\n",
      "        [\n",
      "            {\n",
      "                \"type\": \"text\",\n",
      "                \"level\": 2,\n",
      "                \"content\": \"Hello\"\n",
      "            }\n",
      "        ],\n",
      "        [\n",
      "            {\n",
      "                \"type\": \"text\",\n",
      "                \"level\": 2,\n",
      "                \"content\": \"World\"\n",
      "            }\n",
      "        ]\n",
      "    ]\n",
      "}\n"
     ]
    }
   ],
   "source": [
    "print(exampleList1)"
   ]
  },
  {
   "cell_type": "code",
   "execution_count": 7,
   "id": "705d8943-799a-40e0-a202-2edae4c18d31",
   "metadata": {},
   "outputs": [],
   "source": [
    "exampleDescriptionText1 = TextDict(level=3, content=\"Table 1 provides an overview of key metrics.\")\n",
    "\n",
    "exampleText1 = TextDict(level=3, content=\"Metric\")\n",
    "exampleText2 = TextDict(level=3, content=\"Value of Field\")\n",
    "exampleText3 = TextDict(level=3, content=\"Accuracy\")\n",
    "exampleText4 = TextDict(level=3, content=\"95%\")\n",
    "exampleText5 = TextDict(level=3, content=\"Precision\")\n",
    "exampleText6 = TextDict(level=4, content=\"92%\")\n",
    "exampleText7 = TextDict(level=3, content=\"approximately\")\n",
    "exampleLink1 = LinkDict(level=3, url=\"https://example.com/precision\", content=[exampleText6])\n",
    "\n",
    "exampleHeadingText1 = TextDict(level=2, content=\"Heading here!\")\n",
    "\n",
    "exampleTable1 = TableDict(level=2, description=[exampleDescriptionText1], row=[[[exampleText1], [exampleText2]], [[exampleText3], [exampleText4]], [[exampleText5],[exampleText7, exampleLink1]]])\n"
   ]
  },
  {
   "cell_type": "code",
   "execution_count": 8,
   "id": "e0e58489-d5e0-4195-8125-eb18f012a522",
   "metadata": {},
   "outputs": [
    {
     "name": "stdout",
     "output_type": "stream",
     "text": [
      "{\n",
      "    \"type\": \"table\",\n",
      "    \"level\": 2,\n",
      "    \"description\": [\n",
      "        {\n",
      "            \"type\": \"text\",\n",
      "            \"level\": 3,\n",
      "            \"content\": \"Table 1 provides an overview of key metrics.\"\n",
      "        }\n",
      "    ],\n",
      "    \"row\": [\n",
      "        [\n",
      "            [\n",
      "                {\n",
      "                    \"type\": \"text\",\n",
      "                    \"level\": 3,\n",
      "                    \"content\": \"Metric\"\n",
      "                }\n",
      "            ],\n",
      "            [\n",
      "                {\n",
      "                    \"type\": \"text\",\n",
      "                    \"level\": 3,\n",
      "                    \"content\": \"Value of Field\"\n",
      "                }\n",
      "            ]\n",
      "        ],\n",
      "        [\n",
      "            [\n",
      "                {\n",
      "                    \"type\": \"text\",\n",
      "                    \"level\": 3,\n",
      "                    \"content\": \"Accuracy\"\n",
      "                }\n",
      "            ],\n",
      "            [\n",
      "                {\n",
      "                    \"type\": \"text\",\n",
      "                    \"level\": 3,\n",
      "                    \"content\": \"95%\"\n",
      "                }\n",
      "            ]\n",
      "        ],\n",
      "        [\n",
      "            [\n",
      "                {\n",
      "                    \"type\": \"text\",\n",
      "                    \"level\": 3,\n",
      "                    \"content\": \"Precision\"\n",
      "                }\n",
      "            ],\n",
      "            [\n",
      "                {\n",
      "                    \"type\": \"text\",\n",
      "                    \"level\": 3,\n",
      "                    \"content\": \"approximately\"\n",
      "                },\n",
      "                {\n",
      "                    \"type\": \"link\",\n",
      "                    \"level\": 3,\n",
      "                    \"url\": \"https://example.com/precision\",\n",
      "                    \"content\": [\n",
      "                        {\n",
      "                            \"type\": \"text\",\n",
      "                            \"level\": 4,\n",
      "                            \"content\": \"92%\"\n",
      "                        }\n",
      "                    ]\n",
      "                }\n",
      "            ]\n",
      "        ]\n",
      "    ]\n",
      "}\n"
     ]
    }
   ],
   "source": [
    "print(exampleTable1)"
   ]
  }
 ],
 "metadata": {
  "kernelspec": {
   "display_name": "Python 3 (ipykernel)",
   "language": "python",
   "name": "python3"
  },
  "language_info": {
   "codemirror_mode": {
    "name": "ipython",
    "version": 3
   },
   "file_extension": ".py",
   "mimetype": "text/x-python",
   "name": "python",
   "nbconvert_exporter": "python",
   "pygments_lexer": "ipython3",
   "version": "3.11.7"
  }
 },
 "nbformat": 4,
 "nbformat_minor": 5
}
