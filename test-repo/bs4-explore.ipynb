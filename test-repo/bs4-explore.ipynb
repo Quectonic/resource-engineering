{
 "cells": [
  {
   "cell_type": "code",
   "execution_count": 1,
   "id": "af388b1c-e4b7-48ef-b556-26b6b9a16f6a",
   "metadata": {},
   "outputs": [],
   "source": [
    "from bs4 import BeautifulSoup"
   ]
  },
  {
   "cell_type": "code",
   "execution_count": 2,
   "id": "338e15fb-6061-4727-a46a-3b29bda4462a",
   "metadata": {},
   "outputs": [],
   "source": [
    "exampleHtml = \"\"\"\n",
    "    <html>\n",
    "        <body>\n",
    "            <p>text is very <a href=\"https://www.example.com\">important</a> for instruction tuning.</p>\n",
    "        </body>\n",
    "    </html>\n",
    "\"\"\""
   ]
  },
  {
   "cell_type": "code",
   "execution_count": 3,
   "id": "d2cd70fd-1f84-4dcc-88e0-46dc96c956fc",
   "metadata": {},
   "outputs": [],
   "source": [
    "soup = BeautifulSoup(exampleHtml, 'html.parser')"
   ]
  },
  {
   "cell_type": "code",
   "execution_count": 32,
   "id": "bd659b44-06bd-428e-b3ee-134404a416b3",
   "metadata": {},
   "outputs": [],
   "source": [
    "body_tag = soup.find('body')\n",
    "p_tag = soup.find('p')"
   ]
  },
  {
   "cell_type": "code",
   "execution_count": 33,
   "id": "d3ee0520-4d3a-4a8c-a541-ccff67622c37",
   "metadata": {},
   "outputs": [
    {
     "data": {
      "text/plain": [
       "<body>\n",
       "<p>text is very <a href=\"https://www.example.com\">important</a> for instruction tuning.</p>\n",
       "</body>"
      ]
     },
     "execution_count": 33,
     "metadata": {},
     "output_type": "execute_result"
    }
   ],
   "source": [
    "body_tag"
   ]
  },
  {
   "cell_type": "code",
   "execution_count": 34,
   "id": "bbf118b6-179c-4474-8cd5-f9a4b6d31798",
   "metadata": {},
   "outputs": [
    {
     "name": "stdout",
     "output_type": "stream",
     "text": [
      "\n",
      "\n",
      "<p>text is very <a href=\"https://www.example.com\">important</a> for instruction tuning.</p>\n",
      "\n",
      "\n"
     ]
    }
   ],
   "source": [
    "for element in body_tag.children:\n",
    "    print(element)"
   ]
  },
  {
   "cell_type": "code",
   "execution_count": 35,
   "id": "2a9cce4e-880c-42a1-919d-451ec8745e27",
   "metadata": {},
   "outputs": [
    {
     "name": "stdout",
     "output_type": "stream",
     "text": [
      "\n",
      "\n",
      "<p>text is very <a href=\"https://www.example.com\">important</a> for instruction tuning.</p>\n",
      "text is very \n",
      "<a href=\"https://www.example.com\">important</a>\n",
      "important\n",
      " for instruction tuning.\n",
      "\n",
      "\n"
     ]
    }
   ],
   "source": [
    "for element in body_tag.descendants:\n",
    "    print(element)"
   ]
  },
  {
   "cell_type": "code",
   "execution_count": 36,
   "id": "94b2f1e7-c459-41c9-88f1-24511a638ec0",
   "metadata": {},
   "outputs": [
    {
     "name": "stdout",
     "output_type": "stream",
     "text": [
      "\n",
      "\n",
      "<p>text is very <a href=\"https://www.example.com\">important</a> for instruction tuning.</p>\n",
      "\n",
      "\n"
     ]
    }
   ],
   "source": [
    "for element in body_tag.contents:\n",
    "    print(element)"
   ]
  },
  {
   "cell_type": "code",
   "execution_count": 37,
   "id": "44a7ac42-09a0-4ce7-a334-008d6bdc5b4e",
   "metadata": {},
   "outputs": [
    {
     "name": "stdout",
     "output_type": "stream",
     "text": [
      "\n",
      "\n",
      "text is very \n",
      "important\n",
      " for instruction tuning.\n",
      "\n",
      "\n"
     ]
    }
   ],
   "source": [
    "for element in body_tag.strings:\n",
    "    print(element)"
   ]
  },
  {
   "cell_type": "code",
   "execution_count": 38,
   "id": "6bec8800-9369-4c1c-bdef-c951afcb7c8a",
   "metadata": {},
   "outputs": [
    {
     "name": "stdout",
     "output_type": "stream",
     "text": [
      "\n",
      "\n",
      "p\n",
      "\n",
      "\n"
     ]
    }
   ],
   "source": [
    "for element in body_tag.children:\n",
    "    if element.name:\n",
    "        print(element.name)\n",
    "    else:\n",
    "        print(element)"
   ]
  },
  {
   "cell_type": "code",
   "execution_count": 39,
   "id": "1234df1d-8f06-4e7d-ac3e-95104d8679fd",
   "metadata": {},
   "outputs": [],
   "source": [
    "def recursive_print(element, indent=0):\n",
    "    indent_str = ' ' * indent\n",
    "    if element.name:\n",
    "        print(f\"{indent_str}Tag: {element.name}, Content: {element.get_text()}\")\n",
    "        for child in element.children:\n",
    "            recursive_print(child, indent + 4)"
   ]
  },
  {
   "cell_type": "code",
   "execution_count": 40,
   "id": "a1af40e3-a2a5-4a3b-9e07-1d6a47df6d2c",
   "metadata": {},
   "outputs": [
    {
     "name": "stdout",
     "output_type": "stream",
     "text": [
      "Tag: body, Content: \n",
      "text is very important for instruction tuning.\n",
      "\n",
      "    Tag: p, Content: text is very important for instruction tuning.\n",
      "        Tag: a, Content: important\n"
     ]
    }
   ],
   "source": [
    "recursive_print(body_tag)"
   ]
  },
  {
   "cell_type": "code",
   "execution_count": 41,
   "id": "98309441-addf-4c33-a6c4-4cf7a6379e76",
   "metadata": {},
   "outputs": [
    {
     "name": "stdout",
     "output_type": "stream",
     "text": [
      "0 [None], [<class 'bs4.element.NavigableString'>]: \n",
      "\n",
      "0 [p], [<class 'bs4.element.Tag'>]: <p>text is very <a href=\"https://www.example.com\">important</a> for instruction tuning.</p>\n",
      "0 [None], [<class 'bs4.element.NavigableString'>]: \n",
      "\n"
     ]
    }
   ],
   "source": [
    "item = 0\n",
    "for element in body_tag.contents:\n",
    "    print(f'{item} [{element.name}], [{type(element)}]: {element}')"
   ]
  },
  {
   "cell_type": "code",
   "execution_count": 42,
   "id": "bd294df4-d700-4a45-ada0-b2c9145593e9",
   "metadata": {},
   "outputs": [
    {
     "name": "stdout",
     "output_type": "stream",
     "text": [
      "0 [None], [<class 'bs4.element.NavigableString'>]: text is very \n",
      "0 [a], [<class 'bs4.element.Tag'>]: <a href=\"https://www.example.com\">important</a>\n",
      "0 [None], [<class 'bs4.element.NavigableString'>]:  for instruction tuning.\n"
     ]
    }
   ],
   "source": [
    "item = 0\n",
    "for element in p_tag.contents:\n",
    "    print(f'{item} [{element.name}], [{type(element)}]: {element}')"
   ]
  },
  {
   "cell_type": "code",
   "execution_count": 43,
   "id": "a929fc38-c628-43b4-b074-9d8908d42fe2",
   "metadata": {},
   "outputs": [],
   "source": [
    "from typing import List"
   ]
  },
  {
   "cell_type": "code",
   "execution_count": 44,
   "id": "5c24c810-fa17-4c68-a311-5a90a2386864",
   "metadata": {},
   "outputs": [
    {
     "ename": "TypeError",
     "evalue": "can only concatenate str (not \"int\") to str",
     "output_type": "error",
     "traceback": [
      "\u001b[0;31m---------------------------------------------------------------------------\u001b[0m",
      "\u001b[0;31mTypeError\u001b[0m                                 Traceback (most recent call last)",
      "Cell \u001b[0;32mIn[44], line 4\u001b[0m\n\u001b[1;32m      1\u001b[0m \u001b[38;5;28;01mdef\u001b[39;00m \u001b[38;5;21mf\u001b[39m(some_list: List[\u001b[38;5;28mint\u001b[39m]) \u001b[38;5;241m-\u001b[39m\u001b[38;5;241m>\u001b[39m List[\u001b[38;5;28mint\u001b[39m]:\n\u001b[1;32m      2\u001b[0m     \u001b[38;5;28;01mreturn\u001b[39;00m [i\u001b[38;5;241m+\u001b[39m\u001b[38;5;241m2\u001b[39m \u001b[38;5;28;01mfor\u001b[39;00m i \u001b[38;5;129;01min\u001b[39;00m some_list]\n\u001b[0;32m----> 4\u001b[0m f([\u001b[38;5;124m'\u001b[39m\u001b[38;5;124ma\u001b[39m\u001b[38;5;124m'\u001b[39m, \u001b[38;5;124m'\u001b[39m\u001b[38;5;124mb\u001b[39m\u001b[38;5;124m'\u001b[39m, \u001b[38;5;124m'\u001b[39m\u001b[38;5;124mc\u001b[39m\u001b[38;5;124m'\u001b[39m])\n",
      "Cell \u001b[0;32mIn[44], line 2\u001b[0m, in \u001b[0;36mf\u001b[0;34m(some_list)\u001b[0m\n\u001b[1;32m      1\u001b[0m \u001b[38;5;28;01mdef\u001b[39;00m \u001b[38;5;21mf\u001b[39m(some_list: List[\u001b[38;5;28mint\u001b[39m]) \u001b[38;5;241m-\u001b[39m\u001b[38;5;241m>\u001b[39m List[\u001b[38;5;28mint\u001b[39m]:\n\u001b[0;32m----> 2\u001b[0m     \u001b[38;5;28;01mreturn\u001b[39;00m [i\u001b[38;5;241m+\u001b[39m\u001b[38;5;241m2\u001b[39m \u001b[38;5;28;01mfor\u001b[39;00m i \u001b[38;5;129;01min\u001b[39;00m some_list]\n",
      "Cell \u001b[0;32mIn[44], line 2\u001b[0m, in \u001b[0;36m<listcomp>\u001b[0;34m(.0)\u001b[0m\n\u001b[1;32m      1\u001b[0m \u001b[38;5;28;01mdef\u001b[39;00m \u001b[38;5;21mf\u001b[39m(some_list: List[\u001b[38;5;28mint\u001b[39m]) \u001b[38;5;241m-\u001b[39m\u001b[38;5;241m>\u001b[39m List[\u001b[38;5;28mint\u001b[39m]:\n\u001b[0;32m----> 2\u001b[0m     \u001b[38;5;28;01mreturn\u001b[39;00m [i\u001b[38;5;241m+\u001b[39m\u001b[38;5;241m2\u001b[39m \u001b[38;5;28;01mfor\u001b[39;00m i \u001b[38;5;129;01min\u001b[39;00m some_list]\n",
      "\u001b[0;31mTypeError\u001b[0m: can only concatenate str (not \"int\") to str"
     ]
    }
   ],
   "source": [
    "from typing import TypeVar\n",
    "\n",
    "T = TypeVar('T')\n",
    "\n",
    "def first_element(elements: list[T]) -> T:\n",
    "    return elements[0]"
   ]
  },
  {
   "cell_type": "code",
   "execution_count": 45,
   "id": "4540091c-e5cf-423e-8b16-89cbea8fb4b8",
   "metadata": {},
   "outputs": [
    {
     "ename": "TypeError",
     "evalue": "can only concatenate str (not \"int\") to str",
     "output_type": "error",
     "traceback": [
      "\u001b[0;31m---------------------------------------------------------------------------\u001b[0m",
      "\u001b[0;31mTypeError\u001b[0m                                 Traceback (most recent call last)",
      "Cell \u001b[0;32mIn[45], line 4\u001b[0m\n\u001b[1;32m      1\u001b[0m \u001b[38;5;28;01mdef\u001b[39;00m \u001b[38;5;21mf\u001b[39m(some_list: \u001b[38;5;28mlist\u001b[39m):\n\u001b[1;32m      2\u001b[0m     \u001b[38;5;28;01mreturn\u001b[39;00m [i\u001b[38;5;241m+\u001b[39m\u001b[38;5;241m2\u001b[39m \u001b[38;5;28;01mfor\u001b[39;00m i \u001b[38;5;129;01min\u001b[39;00m some_list]\n\u001b[0;32m----> 4\u001b[0m f([\u001b[38;5;124m'\u001b[39m\u001b[38;5;124ma\u001b[39m\u001b[38;5;124m'\u001b[39m, \u001b[38;5;124m'\u001b[39m\u001b[38;5;124mb\u001b[39m\u001b[38;5;124m'\u001b[39m, \u001b[38;5;124m'\u001b[39m\u001b[38;5;124mc\u001b[39m\u001b[38;5;124m'\u001b[39m])\n",
      "Cell \u001b[0;32mIn[45], line 2\u001b[0m, in \u001b[0;36mf\u001b[0;34m(some_list)\u001b[0m\n\u001b[1;32m      1\u001b[0m \u001b[38;5;28;01mdef\u001b[39;00m \u001b[38;5;21mf\u001b[39m(some_list: \u001b[38;5;28mlist\u001b[39m):\n\u001b[0;32m----> 2\u001b[0m     \u001b[38;5;28;01mreturn\u001b[39;00m [i\u001b[38;5;241m+\u001b[39m\u001b[38;5;241m2\u001b[39m \u001b[38;5;28;01mfor\u001b[39;00m i \u001b[38;5;129;01min\u001b[39;00m some_list]\n",
      "Cell \u001b[0;32mIn[45], line 2\u001b[0m, in \u001b[0;36m<listcomp>\u001b[0;34m(.0)\u001b[0m\n\u001b[1;32m      1\u001b[0m \u001b[38;5;28;01mdef\u001b[39;00m \u001b[38;5;21mf\u001b[39m(some_list: \u001b[38;5;28mlist\u001b[39m):\n\u001b[0;32m----> 2\u001b[0m     \u001b[38;5;28;01mreturn\u001b[39;00m [i\u001b[38;5;241m+\u001b[39m\u001b[38;5;241m2\u001b[39m \u001b[38;5;28;01mfor\u001b[39;00m i \u001b[38;5;129;01min\u001b[39;00m some_list]\n",
      "\u001b[0;31mTypeError\u001b[0m: can only concatenate str (not \"int\") to str"
     ]
    }
   ],
   "source": [
    "def f(some_list: list):\n",
    "    return [i+2 for i in some_list]\n",
    "\n",
    "f(['a', 'b', 'c'])"
   ]
  },
  {
   "cell_type": "code",
   "execution_count": null,
   "id": "42cd5542-9053-4cec-91f7-c8642343bcbe",
   "metadata": {},
   "outputs": [],
   "source": []
  }
 ],
 "metadata": {
  "kernelspec": {
   "display_name": "Python 3 (ipykernel)",
   "language": "python",
   "name": "python3"
  },
  "language_info": {
   "codemirror_mode": {
    "name": "ipython",
    "version": 3
   },
   "file_extension": ".py",
   "mimetype": "text/x-python",
   "name": "python",
   "nbconvert_exporter": "python",
   "pygments_lexer": "ipython3",
   "version": "3.11.7"
  }
 },
 "nbformat": 4,
 "nbformat_minor": 5
}
