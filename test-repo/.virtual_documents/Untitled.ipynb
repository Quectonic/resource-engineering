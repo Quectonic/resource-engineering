!pwd


import sys
sys.path.append('/Users/wylliamcheng/Desktop/Quectonic/core/web-production/resource-engineering/mdkengineering')


from mdkengineering.utils.ElementDicts import *


exampleText1 = TextDict(
    level=2,
    content="This is an introductory paragraph discussing the "
)
exampleText2 = TextDict(
    level=3,
    content="importance of testing"
)
exampleText3 = TextDict(
    level=2,
    content=" in software development."
)
exampleLink1 = LinkDict(
    level=2,
    url="https://www.wikipedia.com/example",
    content=[exampleText2]
)
examplePara1 = ParagraphDict(
    level=1,
    content=[
        exampleText1,
        exampleLink1,
        exampleText3
    ]
)


## Test Paragraph

content_format_, content_ = examplePara1.prettify()
print(f'content format: {list(content_format_)}')
print(f'content: {content_}')


## Test Link
content_format_, content_ = exampleLink1.prettify()
print(f'content type: {type(content_format_)}')
# print(f'content format: {content}')
print(f'content:\n{content_}')


## Test Text
content_format_, content_ = exampleText1.prettify()
print(f'content:\n{content_}')


exampleDescriptionText1 = TextDict(level=2, content="Table 1 provides an overview of key metrics.")
    
exampleText1 = TextDict(level=2, content="Metric")
exampleText2 = TextDict(level=2, content="Value")
exampleText3 = TextDict(level=2, content="Accuracy")
exampleText4 = TextDict(level=2, content="95%")
exampleText5 = TextDict(level=2, content="Precision")
exampleText6 = TextDict(level=3, content="92%")
exampleText7 = TextDict(level=2, content="approximately")
exampleLink1 = LinkDict(level=2, url="https://example.com/precision", content=[exampleText6])

exampleTable1 = TableDict(level=1, description=[exampleDescriptionText1], content=[[[exampleText1], [exampleText2]], [[exampleText3], [exampleText4]], [[exampleText5],[exampleText7, exampleLink1]]])


## Test Table
content_format_, content_ = exampleTable1.prettify()
print(f'content:\n{content_}')



