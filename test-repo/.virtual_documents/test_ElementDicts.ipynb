import sys
sys.path.append('/Users/wylliamcheng/Desktop/Quectonic/core/web-production/resource-engineering/mdkengineering')





exampleTableHtml = """<table style="border: 2; background: none;" align="center" class="wikitable">
<tbody><tr>
<th colspan="1" rowspan="2" style="border: 1; background: 1;">Transmission
</th>
<th colspan="1" rowspan="2">Clinical Presentation
</th>
<th colspan="1" rowspan="2">Disease
</th>
<th colspan="2" rowspan="1">Diagnosis
</th>
<th colspan="2" rowspan="1">Mother to Child Transmission
</th>
<th colspan="1" rowspan="2">Most Serious Complications
</th></tr>e
<tr>
<th colspan="1" rowspan="1">Laboratory Studies</th>
<th>Clinical Diagnosis</th>
<th>Vertical Transmission</th>
<th>Trans-vaginal Transmission
</th></tr>
<tr>
<th colspan="1" rowspan="13">Primarily sexually transmitted
</th>
<th colspan="1" rowspan="6"><b>Genital Dermatological Manifestation <br>(e.g., <a href="/index.php/Genital_ulcer" title="Genital ulcer">ulcers</a>, <a href="/index.php/Chancre" title="Chancre">chancre</a>, vesicles, <a href="/index.php/Genital_warts" title="Genital warts">warts</a>, <a href="/index.php/Balanitis" title="Balanitis">balanitis</a> etc.)</b>
</th>
<td colspan="1" rowspan="1"><a href="/index.php/HPV" class="mw-redirect" title="HPV">HPV</a></td>
<td>✔</td>
<td>✔</td>
<td></td>
<td></td>
<td><a href="/index.php/Cervical_Cancer" class="mw-redirect" title="Cervical Cancer">Cervical Cancer</a>
</td></tr>
<tr>
<td colspan="1" rowspan="1"><a href="/index.php?title=%27%27Herpes_simplex%27%27&amp;action=edit&amp;redlink=1" class="new" title="''Herpes simplex'' (page does not exist)">''Herpes simplex''</a> 1 and 2</td>
<td>✔</td>
<td>✔</td>
<td>✔</td>
<td>✔</td>
<td>Moderate to severe <a href="/index.php/Pruritis" title="Pruritis">pruritis</a>/discomfort, superinfection
</td></tr>
<tr>
<td colspan="1" rowspan="1"><a href="/index.php/Syphilis" title="Syphilis">Syphilis</a></td>
<td>✔</td>
<td>✔</td>
<td>✔</td>
<td></td>
<td>
<ul><li><a href="/index.php/Neurosyphilis" title="Neurosyphilis">Neurosyphilis</a><br></li>
<li><a href="/index.php/Cardiosyphilis" class="mw-redirect" title="Cardiosyphilis">Cardiosyphilis</a></li></ul>
</td></tr>
<tr>
<td colspan="1" rowspan="1"><a href="/index.php/Scabies" title="Scabies">Scabies</a></td>
<td>✔</td>
<td>✔</td>
<td></td>
<td></td>
<td>Moderate to severe <a href="/index.php/Pruritis" title="Pruritis">pruritis</a>/discomfort
</td></tr>
<tr>
<td colspan="1" rowspan="1"><a href="/index.php/Pubic_lice" class="mw-redirect" title="Pubic lice">Pubic lice</a></td>
<td>✔</td>
<td>✔</td>
<td></td>
<td></td>
<td>Moderate to severe <a href="/index.php/Pruritis" title="Pruritis">pruritis</a>/discomfort
</td></tr>
<tr>
<td colspan="1" rowspan="1"><a href="/index.php/Candidiasis" title="Candidiasis">Candidiasis</a><br>(in males)</td>
<td></td>
<td>✔</td>
<td></td>
<td></td>
<td>Mild to moderate <a href="/index.php/Pruritis" title="Pruritis">pruritis</a>/discomfort
</td></tr>
<tr>
<th colspan="1" rowspan="2"><b>Generalized Symptoms<br> (e.g., constitutional symptoms)</b>
</th>
<td colspan="1" rowspan="1"><a href="/index.php/HIV" class="mw-redirect" title="HIV">HIV</a></td>
<td>✔</td>
<td></td>
<td>✔</td>
<td></td>
<td>
<ul><li><a href="/index.php/Primary_CNS_Lymphoma" class="mw-redirect" title="Primary CNS Lymphoma">Primary CNS Lymphoma</a><br></li>
<li><a href="/index.php/Immunosuppression" title="Immunosuppression">Immunosuppression</a> (AIDS)</li></ul>
</td></tr>
<tr>
<td colspan="1" rowspan="1"><a href="/index.php/Syphilis" title="Syphilis">Syphilis</a></td>
<td>✔</td>
<td>✔</td>
<td>✔</td>
<td></td>
<td>
<ul><li><a href="/index.php/Neurosyphilis" title="Neurosyphilis">Neurosyphilis<br></a></li>
<li><a href="/index.php/Syphilis" title="Syphilis">Cardiosyphilis</a></li></ul>
</td></tr>
<tr>
<th colspan="1" rowspan="5"><b>Urogenital infections<br> (e.g., <a href="/index.php/Vaginitis" title="Vaginitis">Vaginitis</a>, <a href="/index.php/Urethritis" title="Urethritis">Urethritis</a>, <a href="/index.php/Cervicitis" title="Cervicitis">Cervicitis</a>, and <a href="/index.php/PID" title="PID">PID</a>)</b>
</th>
<td colspan="1" rowspan="1"><a href="/index.php/Gonorrhea" title="Gonorrhea">Gonorrhea</a></td>
<td>✔</td>
<td>✔</td>
<td></td>
<td>✔</td>
<td><a href="/index.php/PID" title="PID">PID</a>
</td></tr>
<tr>
<td colspan="1" rowspan="1"><a href="/index.php/Chlamydia" class="mw-redirect" title="Chlamydia">Chlamydia</a></td>
<td>✔</td>
<td>✔</td>
<td></td>
<td>✔</td>
<td><a href="/index.php/PID" title="PID">PID</a>
</td></tr>
<tr>
<td colspan="1" rowspan="1"><a href="/index.php/Syphilis" title="Syphilis">Syphilis</a></td>
<td>✔</td>
<td>✔</td>
<td>✔</td>
<td></td>
<td>
<ul><li><a href="/index.php/Neurosyphilis" title="Neurosyphilis">Neurosyphilis</a></li>
<li><a href="/index.php/Cardiosyphilis" class="mw-redirect" title="Cardiosyphilis">Cardiosyphilis</a></li></ul>
</td></tr>
<tr>
<td colspan="1" rowspan="1"><a href="/index.php?title=%27%27Mycoplasma_genitalium%27%27_infection&amp;action=edit&amp;redlink=1" class="new" title="''Mycoplasma genitalium'' infection (page does not exist)"><i>Mycoplasma genitalium</i></a></td>
<td>✔</td>
<td>✔</td>
<td>unknown</td>
<td>unknown</td>
<td><a href="/index.php/PID" title="PID">PID</a>
</td></tr>
<tr>
<td colspan="1" rowspan="1"><a href="/index.php?title=%27%27Trichomonas_vaginalis%27%27&amp;action=edit&amp;redlink=1" class="new" title="''Trichomonas vaginalis'' (page does not exist)">''Trichomonas vaginalis''</a></td>
<td>✔</td>
<td>✔</td>
<td></td>
<td></td>
<td><a href="/index.php/PID" title="PID">PID</a>
</td></tr>
<tr>
<th colspan="1" rowspan="6">Less frequently sexually transmitted
</th>
<th colspan="1" rowspan="3"><b>Generalized Symptoms<br> (e.g., constitutional symptoms)</b>
</th>
<td colspan="1" rowspan="1"><a href="/index.php/Zika_virus_infection" title="Zika virus infection">Zika Virus</a></td>
<td>✔</td>
<td></td>
<td>✔</td>
<td></td>
<td><a href="/index.php/Vertical_transmission" title="Vertical transmission">Vertical transmission</a> and congenital abnormalities
</td></tr>
<tr>
<td colspan="1" rowspan="1"><a href="/index.php/Hepatitis_B" title="Hepatitis B">Hepatitis B</a></td>
<td>✔</td>
<td>✔</td>
<td>✔</td>
<td></td>
<td><a href="/index.php/Hepatocellular_Carcinoma" class="mw-redirect" title="Hepatocellular Carcinoma">Hepatocellular Carcinoma</a>
</td></tr>
<tr>
<td colspan="1" rowspan="1"><a href="/index.php/Hepatitis_C" title="Hepatitis C">Hepatitis C</a></td>
<td>✔</td>
<td>✔</td>
<td>✔</td>
<td></td>
<td><a href="/index.php/Liver_cirrhosis" class="mw-redirect" title="Liver cirrhosis">Liver cirrhosis</a>, <a href="/index.php/Hepatocellular_Carcinoma" class="mw-redirect" title="Hepatocellular Carcinoma">Hepatocellular Carcinoma</a>
</td></tr>
<tr>
<th colspan="1" rowspan="3"><b>Urogenital Infections <br> (e.g., <a href="/index.php/Vaginitis" title="Vaginitis">Vaginitis</a>, <a href="/index.php/Urethritis" title="Urethritis">Urethritis</a>, <a href="/index.php/Cervicitis" title="Cervicitis">Cervicitis</a>, and <a href="/index.php/PID" title="PID">PID</a>)</b>
</th>
<td colspan="1" rowspan="1"><a href="/index.php?title=%27%27Gardnerella_vaginalis%27%27&amp;action=edit&amp;redlink=1" class="new" title="''Gardnerella vaginalis'' (page does not exist)">''Gardnerella vaginalis''</a></td>
<td>✔</td>
<td>✔</td>
<td></td>
<td></td>
<td>Moderate to severe discomfort
</td></tr>
<tr>
<td colspan="1" rowspan="1"><a href="/index.php/Candidiasis" title="Candidiasis">Candidiasis</a><br> (in females)</td>
<td></td>
<td>✔</td>
<td></td>
<td></td>
<td>Moderate to severe <a href="/index.php/Pruritis" title="Pruritis">pruritis</a>/discomfort
</td></tr>
<tr>
<td colspan="1" rowspan="1"><a href="/index.php?title=%27%27Ureaplasma_urealyticum%27%27&amp;action=edit&amp;redlink=1" class="new" title="''Ureaplasma urealyticum'' (page does not exist)"> <i>Ureaplasma urealyticum</i></a></td>
<td>✔</td>
<td>✔</td>
<td></td>
<td></td>
<td>Moderate to severe <a href="/index.php/Pruritis" title="Pruritis">pruritis</a>/discomfort
</td></tr>
</tbody></table>"""


!pip install lxml


from mdkengineering.utils.DataTransformer import HtmlTableTransformer


example_table_transformer = HtmlTableTransformer(table_html=exampleTableHtml)


print(example_table_transformer.rows)


print(example_table_transformer.text)





from mdkengineering.utils.ElementDicts import *


exampleText1 = TextDict(
    level=2,
    content="This is an introductory paragraph discussing the "
)
exampleText2 = TextDict(
    level=3,
    content="importance of testing"
)
exampleText3 = TextDict(
    level=2,
    content=" in software development."
)
exampleLink1 = LinkDict(
    level=2,
    url="https://www.example.com/",
    content=[exampleText2]
)
examplePara1 = ParagraphDict(
    level=1,
    content=[
        exampleText1,
        exampleLink1,
        exampleText3
    ]
)


## Test Paragraph

content_, flattened_content, content_string = examplePara1.prettify()
print(f'content:\n{list(content_)}')
print(f'flattened content:\n{list(flattened_content)}')
print(f'content string:\n{content_string}')


## Test Link
content_format_, content_ = exampleLink1.prettify()
print(f'content type: {type(content_format_)}')
# print(f'content format: {content}')
print(f'content:\n{content_}')


## Test Text
content_format_, content_ = exampleText1.prettify()
print(f'content:\n{content_}')


exampleDescriptionText1 = TextDict(level=2, content="Table 1 provides an overview of key metrics.")
    
exampleText1 = TextDict(level=2, content="Metric")
exampleText2 = TextDict(level=2, content="Value")
exampleText3 = TextDict(level=2, content="Accuracy")
exampleText4 = TextDict(level=2, content="95%")
exampleText5 = TextDict(level=2, content="Precision")
exampleText6 = TextDict(level=3, content="92%")
exampleText7 = TextDict(level=2, content="approximately")
exampleLink1 = LinkDict(level=2, url="https://example.com/precision", content=[exampleText6])

exampleTable1 = TableDict(level=1, description=[exampleDescriptionText1], content=[[[exampleText1], [exampleText2]], [[exampleText3], [exampleText4]], [[exampleText5],[exampleText7, exampleLink1]]])


## Test Table
content_format_, content_ = exampleTable1.prettify()
print(f'content:\n{content_}')



