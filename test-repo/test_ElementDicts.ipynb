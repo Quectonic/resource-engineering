{
 "cells": [
  {
   "cell_type": "code",
   "execution_count": 1,
   "id": "6dd23015-ab8f-4351-9e12-e27709f19e01",
   "metadata": {},
   "outputs": [],
   "source": [
    "import sys\n",
    "sys.path.append('/Users/wylliamcheng/Desktop/Quectonic/core/web-production/resource-engineering/mdkengineering')"
   ]
  },
  {
   "cell_type": "markdown",
   "id": "ff1d53a5-3f68-4cdf-aa5d-8a12facf257d",
   "metadata": {},
   "source": [
    "# Test for Table Transformer Parser"
   ]
  },
  {
   "cell_type": "code",
   "execution_count": 2,
   "id": "1cfa014f-2703-4a4d-b238-aa1bb1bb833a",
   "metadata": {},
   "outputs": [],
   "source": [
    "exampleTableHtml = \"\"\"<table style=\"border: 2; background: none;\" align=\"center\" class=\"wikitable\">\n",
    "<tbody><tr>\n",
    "<th colspan=\"1\" rowspan=\"2\" style=\"border: 1; background: 1;\">Transmission\n",
    "</th>\n",
    "<th colspan=\"1\" rowspan=\"2\">Clinical Presentation\n",
    "</th>\n",
    "<th colspan=\"1\" rowspan=\"2\">Disease\n",
    "</th>\n",
    "<th colspan=\"2\" rowspan=\"1\">Diagnosis\n",
    "</th>\n",
    "<th colspan=\"2\" rowspan=\"1\">Mother to Child Transmission\n",
    "</th>\n",
    "<th colspan=\"1\" rowspan=\"2\">Most Serious Complications\n",
    "</th></tr>e\n",
    "<tr>\n",
    "<th colspan=\"1\" rowspan=\"1\">Laboratory Studies</th>\n",
    "<th>Clinical Diagnosis</th>\n",
    "<th>Vertical Transmission</th>\n",
    "<th>Trans-vaginal Transmission\n",
    "</th></tr>\n",
    "<tr>\n",
    "<th colspan=\"1\" rowspan=\"13\">Primarily sexually transmitted\n",
    "</th>\n",
    "<th colspan=\"1\" rowspan=\"6\"><b>Genital Dermatological Manifestation <br>(e.g., <a href=\"/index.php/Genital_ulcer\" title=\"Genital ulcer\">ulcers</a>, <a href=\"/index.php/Chancre\" title=\"Chancre\">chancre</a>, vesicles, <a href=\"/index.php/Genital_warts\" title=\"Genital warts\">warts</a>, <a href=\"/index.php/Balanitis\" title=\"Balanitis\">balanitis</a> etc.)</b>\n",
    "</th>\n",
    "<td colspan=\"1\" rowspan=\"1\"><a href=\"/index.php/HPV\" class=\"mw-redirect\" title=\"HPV\">HPV</a></td>\n",
    "<td>✔</td>\n",
    "<td>✔</td>\n",
    "<td></td>\n",
    "<td></td>\n",
    "<td><a href=\"/index.php/Cervical_Cancer\" class=\"mw-redirect\" title=\"Cervical Cancer\">Cervical Cancer</a>\n",
    "</td></tr>\n",
    "<tr>\n",
    "<td colspan=\"1\" rowspan=\"1\"><a href=\"/index.php?title=%27%27Herpes_simplex%27%27&amp;action=edit&amp;redlink=1\" class=\"new\" title=\"''Herpes simplex'' (page does not exist)\">''Herpes simplex''</a> 1 and 2</td>\n",
    "<td>✔</td>\n",
    "<td>✔</td>\n",
    "<td>✔</td>\n",
    "<td>✔</td>\n",
    "<td>Moderate to severe <a href=\"/index.php/Pruritis\" title=\"Pruritis\">pruritis</a>/discomfort, superinfection\n",
    "</td></tr>\n",
    "<tr>\n",
    "<td colspan=\"1\" rowspan=\"1\"><a href=\"/index.php/Syphilis\" title=\"Syphilis\">Syphilis</a></td>\n",
    "<td>✔</td>\n",
    "<td>✔</td>\n",
    "<td>✔</td>\n",
    "<td></td>\n",
    "<td>\n",
    "<ul><li><a href=\"/index.php/Neurosyphilis\" title=\"Neurosyphilis\">Neurosyphilis</a><br></li>\n",
    "<li><a href=\"/index.php/Cardiosyphilis\" class=\"mw-redirect\" title=\"Cardiosyphilis\">Cardiosyphilis</a></li></ul>\n",
    "</td></tr>\n",
    "<tr>\n",
    "<td colspan=\"1\" rowspan=\"1\"><a href=\"/index.php/Scabies\" title=\"Scabies\">Scabies</a></td>\n",
    "<td>✔</td>\n",
    "<td>✔</td>\n",
    "<td></td>\n",
    "<td></td>\n",
    "<td>Moderate to severe <a href=\"/index.php/Pruritis\" title=\"Pruritis\">pruritis</a>/discomfort\n",
    "</td></tr>\n",
    "<tr>\n",
    "<td colspan=\"1\" rowspan=\"1\"><a href=\"/index.php/Pubic_lice\" class=\"mw-redirect\" title=\"Pubic lice\">Pubic lice</a></td>\n",
    "<td>✔</td>\n",
    "<td>✔</td>\n",
    "<td></td>\n",
    "<td></td>\n",
    "<td>Moderate to severe <a href=\"/index.php/Pruritis\" title=\"Pruritis\">pruritis</a>/discomfort\n",
    "</td></tr>\n",
    "<tr>\n",
    "<td colspan=\"1\" rowspan=\"1\"><a href=\"/index.php/Candidiasis\" title=\"Candidiasis\">Candidiasis</a><br>(in males)</td>\n",
    "<td></td>\n",
    "<td>✔</td>\n",
    "<td></td>\n",
    "<td></td>\n",
    "<td>Mild to moderate <a href=\"/index.php/Pruritis\" title=\"Pruritis\">pruritis</a>/discomfort\n",
    "</td></tr>\n",
    "<tr>\n",
    "<th colspan=\"1\" rowspan=\"2\"><b>Generalized Symptoms<br> (e.g., constitutional symptoms)</b>\n",
    "</th>\n",
    "<td colspan=\"1\" rowspan=\"1\"><a href=\"/index.php/HIV\" class=\"mw-redirect\" title=\"HIV\">HIV</a></td>\n",
    "<td>✔</td>\n",
    "<td></td>\n",
    "<td>✔</td>\n",
    "<td></td>\n",
    "<td>\n",
    "<ul><li><a href=\"/index.php/Primary_CNS_Lymphoma\" class=\"mw-redirect\" title=\"Primary CNS Lymphoma\">Primary CNS Lymphoma</a><br></li>\n",
    "<li><a href=\"/index.php/Immunosuppression\" title=\"Immunosuppression\">Immunosuppression</a> (AIDS)</li></ul>\n",
    "</td></tr>\n",
    "<tr>\n",
    "<td colspan=\"1\" rowspan=\"1\"><a href=\"/index.php/Syphilis\" title=\"Syphilis\">Syphilis</a></td>\n",
    "<td>✔</td>\n",
    "<td>✔</td>\n",
    "<td>✔</td>\n",
    "<td></td>\n",
    "<td>\n",
    "<ul><li><a href=\"/index.php/Neurosyphilis\" title=\"Neurosyphilis\">Neurosyphilis<br></a></li>\n",
    "<li><a href=\"/index.php/Syphilis\" title=\"Syphilis\">Cardiosyphilis</a></li></ul>\n",
    "</td></tr>\n",
    "<tr>\n",
    "<th colspan=\"1\" rowspan=\"5\"><b>Urogenital infections<br> (e.g., <a href=\"/index.php/Vaginitis\" title=\"Vaginitis\">Vaginitis</a>, <a href=\"/index.php/Urethritis\" title=\"Urethritis\">Urethritis</a>, <a href=\"/index.php/Cervicitis\" title=\"Cervicitis\">Cervicitis</a>, and <a href=\"/index.php/PID\" title=\"PID\">PID</a>)</b>\n",
    "</th>\n",
    "<td colspan=\"1\" rowspan=\"1\"><a href=\"/index.php/Gonorrhea\" title=\"Gonorrhea\">Gonorrhea</a></td>\n",
    "<td>✔</td>\n",
    "<td>✔</td>\n",
    "<td></td>\n",
    "<td>✔</td>\n",
    "<td><a href=\"/index.php/PID\" title=\"PID\">PID</a>\n",
    "</td></tr>\n",
    "<tr>\n",
    "<td colspan=\"1\" rowspan=\"1\"><a href=\"/index.php/Chlamydia\" class=\"mw-redirect\" title=\"Chlamydia\">Chlamydia</a></td>\n",
    "<td>✔</td>\n",
    "<td>✔</td>\n",
    "<td></td>\n",
    "<td>✔</td>\n",
    "<td><a href=\"/index.php/PID\" title=\"PID\">PID</a>\n",
    "</td></tr>\n",
    "<tr>\n",
    "<td colspan=\"1\" rowspan=\"1\"><a href=\"/index.php/Syphilis\" title=\"Syphilis\">Syphilis</a></td>\n",
    "<td>✔</td>\n",
    "<td>✔</td>\n",
    "<td>✔</td>\n",
    "<td></td>\n",
    "<td>\n",
    "<ul><li><a href=\"/index.php/Neurosyphilis\" title=\"Neurosyphilis\">Neurosyphilis</a></li>\n",
    "<li><a href=\"/index.php/Cardiosyphilis\" class=\"mw-redirect\" title=\"Cardiosyphilis\">Cardiosyphilis</a></li></ul>\n",
    "</td></tr>\n",
    "<tr>\n",
    "<td colspan=\"1\" rowspan=\"1\"><a href=\"/index.php?title=%27%27Mycoplasma_genitalium%27%27_infection&amp;action=edit&amp;redlink=1\" class=\"new\" title=\"''Mycoplasma genitalium'' infection (page does not exist)\"><i>Mycoplasma genitalium</i></a></td>\n",
    "<td>✔</td>\n",
    "<td>✔</td>\n",
    "<td>unknown</td>\n",
    "<td>unknown</td>\n",
    "<td><a href=\"/index.php/PID\" title=\"PID\">PID</a>\n",
    "</td></tr>\n",
    "<tr>\n",
    "<td colspan=\"1\" rowspan=\"1\"><a href=\"/index.php?title=%27%27Trichomonas_vaginalis%27%27&amp;action=edit&amp;redlink=1\" class=\"new\" title=\"''Trichomonas vaginalis'' (page does not exist)\">''Trichomonas vaginalis''</a></td>\n",
    "<td>✔</td>\n",
    "<td>✔</td>\n",
    "<td></td>\n",
    "<td></td>\n",
    "<td><a href=\"/index.php/PID\" title=\"PID\">PID</a>\n",
    "</td></tr>\n",
    "<tr>\n",
    "<th colspan=\"1\" rowspan=\"6\">Less frequently sexually transmitted\n",
    "</th>\n",
    "<th colspan=\"1\" rowspan=\"3\"><b>Generalized Symptoms<br> (e.g., constitutional symptoms)</b>\n",
    "</th>\n",
    "<td colspan=\"1\" rowspan=\"1\"><a href=\"/index.php/Zika_virus_infection\" title=\"Zika virus infection\">Zika Virus</a></td>\n",
    "<td>✔</td>\n",
    "<td></td>\n",
    "<td>✔</td>\n",
    "<td></td>\n",
    "<td><a href=\"/index.php/Vertical_transmission\" title=\"Vertical transmission\">Vertical transmission</a> and congenital abnormalities\n",
    "</td></tr>\n",
    "<tr>\n",
    "<td colspan=\"1\" rowspan=\"1\"><a href=\"/index.php/Hepatitis_B\" title=\"Hepatitis B\">Hepatitis B</a></td>\n",
    "<td>✔</td>\n",
    "<td>✔</td>\n",
    "<td>✔</td>\n",
    "<td></td>\n",
    "<td><a href=\"/index.php/Hepatocellular_Carcinoma\" class=\"mw-redirect\" title=\"Hepatocellular Carcinoma\">Hepatocellular Carcinoma</a>\n",
    "</td></tr>\n",
    "<tr>\n",
    "<td colspan=\"1\" rowspan=\"1\"><a href=\"/index.php/Hepatitis_C\" title=\"Hepatitis C\">Hepatitis C</a></td>\n",
    "<td>✔</td>\n",
    "<td>✔</td>\n",
    "<td>✔</td>\n",
    "<td></td>\n",
    "<td><a href=\"/index.php/Liver_cirrhosis\" class=\"mw-redirect\" title=\"Liver cirrhosis\">Liver cirrhosis</a>, <a href=\"/index.php/Hepatocellular_Carcinoma\" class=\"mw-redirect\" title=\"Hepatocellular Carcinoma\">Hepatocellular Carcinoma</a>\n",
    "</td></tr>\n",
    "<tr>\n",
    "<th colspan=\"1\" rowspan=\"3\"><b>Urogenital Infections <br> (e.g., <a href=\"/index.php/Vaginitis\" title=\"Vaginitis\">Vaginitis</a>, <a href=\"/index.php/Urethritis\" title=\"Urethritis\">Urethritis</a>, <a href=\"/index.php/Cervicitis\" title=\"Cervicitis\">Cervicitis</a>, and <a href=\"/index.php/PID\" title=\"PID\">PID</a>)</b>\n",
    "</th>\n",
    "<td colspan=\"1\" rowspan=\"1\"><a href=\"/index.php?title=%27%27Gardnerella_vaginalis%27%27&amp;action=edit&amp;redlink=1\" class=\"new\" title=\"''Gardnerella vaginalis'' (page does not exist)\">''Gardnerella vaginalis''</a></td>\n",
    "<td>✔</td>\n",
    "<td>✔</td>\n",
    "<td></td>\n",
    "<td></td>\n",
    "<td>Moderate to severe discomfort\n",
    "</td></tr>\n",
    "<tr>\n",
    "<td colspan=\"1\" rowspan=\"1\"><a href=\"/index.php/Candidiasis\" title=\"Candidiasis\">Candidiasis</a><br> (in females)</td>\n",
    "<td></td>\n",
    "<td>✔</td>\n",
    "<td></td>\n",
    "<td></td>\n",
    "<td>Moderate to severe <a href=\"/index.php/Pruritis\" title=\"Pruritis\">pruritis</a>/discomfort\n",
    "</td></tr>\n",
    "<tr>\n",
    "<td colspan=\"1\" rowspan=\"1\"><a href=\"/index.php?title=%27%27Ureaplasma_urealyticum%27%27&amp;action=edit&amp;redlink=1\" class=\"new\" title=\"''Ureaplasma urealyticum'' (page does not exist)\"> <i>Ureaplasma urealyticum</i></a></td>\n",
    "<td>✔</td>\n",
    "<td>✔</td>\n",
    "<td></td>\n",
    "<td></td>\n",
    "<td>Moderate to severe <a href=\"/index.php/Pruritis\" title=\"Pruritis\">pruritis</a>/discomfort\n",
    "</td></tr>\n",
    "</tbody></table>\"\"\""
   ]
  },
  {
   "cell_type": "code",
   "execution_count": 3,
   "id": "29530dcd-ef0c-45fd-aae2-abfdfcbd42e1",
   "metadata": {},
   "outputs": [
    {
     "name": "stdout",
     "output_type": "stream",
     "text": [
      "Requirement already satisfied: lxml in /opt/homebrew/Caskroom/miniforge/base/lib/python3.10/site-packages (5.1.0)\n"
     ]
    }
   ],
   "source": [
    "!pip install lxml"
   ]
  },
  {
   "cell_type": "code",
   "execution_count": 4,
   "id": "af4dd60d-2382-4d58-9da8-2c5e87b58145",
   "metadata": {},
   "outputs": [
    {
     "name": "stdout",
     "output_type": "stream",
     "text": [
      "Intel MKL WARNING: Support of Intel(R) Streaming SIMD Extensions 4.2 (Intel(R) SSE4.2) enabled only processors has been deprecated. Intel oneAPI Math Kernel Library 2025.0 will require Intel(R) Advanced Vector Extensions (Intel(R) AVX) instructions.\n",
      "Intel MKL WARNING: Support of Intel(R) Streaming SIMD Extensions 4.2 (Intel(R) SSE4.2) enabled only processors has been deprecated. Intel oneAPI Math Kernel Library 2025.0 will require Intel(R) Advanced Vector Extensions (Intel(R) AVX) instructions.\n"
     ]
    }
   ],
   "source": [
    "from mdkengineering.utils.DataTransformer import HtmlTableTransformer"
   ]
  },
  {
   "cell_type": "code",
   "execution_count": 5,
   "id": "2db61ab5-95f5-43a0-9700-c86fe7c8b22d",
   "metadata": {},
   "outputs": [
    {
     "name": "stdout",
     "output_type": "stream",
     "text": [
      "lxml unusable, switching to html.parser\n"
     ]
    }
   ],
   "source": [
    "example_table_transformer = HtmlTableTransformer(table_html=exampleTableHtml)"
   ]
  },
  {
   "cell_type": "code",
   "execution_count": 6,
   "id": "ebb1a16a-432b-4a11-af4f-e7efb4f69a23",
   "metadata": {},
   "outputs": [
    {
     "name": "stdout",
     "output_type": "stream",
     "text": [
      "[['Transmission', 'Clinical Presentation', 'Disease', 'Diagnosis', 'Diagnosis', 'Mother to Child Transmission', 'Mother to Child Transmission', 'Most Serious Complications'], ['Transmission', 'Clinical Presentation', 'Disease', 'Laboratory Studies', 'Clinical Diagnosis', 'Vertical Transmission', 'Trans-vaginal Transmission', 'Most Serious Complications'], ['Primarily sexually transmitted', 'Genital Dermatological Manifestation (e.g., ulcers, chancre, vesicles, warts, balanitis etc.)', 'HPV', '✔', '✔', '', '', 'Cervical Cancer'], ['Primarily sexually transmitted', 'Genital Dermatological Manifestation (e.g., ulcers, chancre, vesicles, warts, balanitis etc.)', \"''Herpes simplex'' 1 and 2\", '✔', '✔', '✔', '✔', 'Moderate to severe pruritis/discomfort, superinfection'], ['Primarily sexually transmitted', 'Genital Dermatological Manifestation (e.g., ulcers, chancre, vesicles, warts, balanitis etc.)', 'Syphilis', '✔', '✔', '✔', '', 'NeurosyphilisCardiosyphilis'], ['Primarily sexually transmitted', 'Genital Dermatological Manifestation (e.g., ulcers, chancre, vesicles, warts, balanitis etc.)', 'Scabies', '✔', '✔', '', '', 'Moderate to severe pruritis/discomfort'], ['Primarily sexually transmitted', 'Genital Dermatological Manifestation (e.g., ulcers, chancre, vesicles, warts, balanitis etc.)', 'Pubic lice', '✔', '✔', '', '', 'Moderate to severe pruritis/discomfort'], ['Primarily sexually transmitted', 'Genital Dermatological Manifestation (e.g., ulcers, chancre, vesicles, warts, balanitis etc.)', 'Candidiasis(in males)', '', '✔', '', '', 'Mild to moderate pruritis/discomfort'], ['Primarily sexually transmitted', 'Generalized Symptoms (e.g., constitutional symptoms)', 'HIV', '✔', '', '✔', '', 'Primary CNS LymphomaImmunosuppression (AIDS)'], ['Primarily sexually transmitted', 'Generalized Symptoms (e.g., constitutional symptoms)', 'Syphilis', '✔', '✔', '✔', '', 'NeurosyphilisCardiosyphilis'], ['Primarily sexually transmitted', 'Urogenital infections (e.g., Vaginitis, Urethritis, Cervicitis, and PID)', 'Gonorrhea', '✔', '✔', '', '✔', 'PID'], ['Primarily sexually transmitted', 'Urogenital infections (e.g., Vaginitis, Urethritis, Cervicitis, and PID)', 'Chlamydia', '✔', '✔', '', '✔', 'PID'], ['Primarily sexually transmitted', 'Urogenital infections (e.g., Vaginitis, Urethritis, Cervicitis, and PID)', 'Syphilis', '✔', '✔', '✔', '', 'NeurosyphilisCardiosyphilis'], ['Primarily sexually transmitted', 'Urogenital infections (e.g., Vaginitis, Urethritis, Cervicitis, and PID)', 'Mycoplasma genitalium', '✔', '✔', 'unknown', 'unknown', 'PID'], ['Primarily sexually transmitted', 'Urogenital infections (e.g., Vaginitis, Urethritis, Cervicitis, and PID)', \"''Trichomonas vaginalis''\", '✔', '✔', '', '', 'PID'], ['Less frequently sexually transmitted', 'Generalized Symptoms (e.g., constitutional symptoms)', 'Zika Virus', '✔', '', '✔', '', 'Vertical transmission and congenital abnormalities'], ['Less frequently sexually transmitted', 'Generalized Symptoms (e.g., constitutional symptoms)', 'Hepatitis B', '✔', '✔', '✔', '', 'Hepatocellular Carcinoma'], ['Less frequently sexually transmitted', 'Generalized Symptoms (e.g., constitutional symptoms)', 'Hepatitis C', '✔', '✔', '✔', '', 'Liver cirrhosis, Hepatocellular Carcinoma'], ['Less frequently sexually transmitted', 'Urogenital Infections  (e.g., Vaginitis, Urethritis, Cervicitis, and PID)', \"''Gardnerella vaginalis''\", '✔', '✔', '', '', 'Moderate to severe discomfort'], ['Less frequently sexually transmitted', 'Urogenital Infections  (e.g., Vaginitis, Urethritis, Cervicitis, and PID)', 'Candidiasis (in females)', '', '✔', '', '', 'Moderate to severe pruritis/discomfort'], ['Less frequently sexually transmitted', 'Urogenital Infections  (e.g., Vaginitis, Urethritis, Cervicitis, and PID)', ' Ureaplasma urealyticum', '✔', '✔', '', '', 'Moderate to severe pruritis/discomfort']]\n"
     ]
    }
   ],
   "source": [
    "print(example_table_transformer.rows)"
   ]
  },
  {
   "cell_type": "code",
   "execution_count": 7,
   "id": "dd45e43f-c5c5-40d7-89cc-5db7803cef4f",
   "metadata": {},
   "outputs": [
    {
     "name": "stdout",
     "output_type": "stream",
     "text": [
      "|| Transmission | Clinical Presentation | Disease | Diagnosis | Diagnosis | Mother to Child Transmission | Mother to Child Transmission | Most Serious Complications ||\n",
      "|| Transmission | Clinical Presentation | Disease | Laboratory Studies | Clinical Diagnosis | Vertical Transmission | Trans-vaginal Transmission | Most Serious Complications ||\n",
      "|| Primarily sexually transmitted | Genital Dermatological Manifestation (e.g., ulcers, chancre, vesicles, warts, balanitis etc.) | HPV | ✔ | ✔ |  |  | Cervical Cancer ||\n",
      "|| Primarily sexually transmitted | Genital Dermatological Manifestation (e.g., ulcers, chancre, vesicles, warts, balanitis etc.) | ''Herpes simplex'' 1 and 2 | ✔ | ✔ | ✔ | ✔ | Moderate to severe pruritis/discomfort, superinfection ||\n",
      "|| Primarily sexually transmitted | Genital Dermatological Manifestation (e.g., ulcers, chancre, vesicles, warts, balanitis etc.) | Syphilis | ✔ | ✔ | ✔ |  | NeurosyphilisCardiosyphilis ||\n",
      "|| Primarily sexually transmitted | Genital Dermatological Manifestation (e.g., ulcers, chancre, vesicles, warts, balanitis etc.) | Scabies | ✔ | ✔ |  |  | Moderate to severe pruritis/discomfort ||\n",
      "|| Primarily sexually transmitted | Genital Dermatological Manifestation (e.g., ulcers, chancre, vesicles, warts, balanitis etc.) | Pubic lice | ✔ | ✔ |  |  | Moderate to severe pruritis/discomfort ||\n",
      "|| Primarily sexually transmitted | Genital Dermatological Manifestation (e.g., ulcers, chancre, vesicles, warts, balanitis etc.) | Candidiasis(in males) |  | ✔ |  |  | Mild to moderate pruritis/discomfort ||\n",
      "|| Primarily sexually transmitted | Generalized Symptoms (e.g., constitutional symptoms) | HIV | ✔ |  | ✔ |  | Primary CNS LymphomaImmunosuppression (AIDS) ||\n",
      "|| Primarily sexually transmitted | Generalized Symptoms (e.g., constitutional symptoms) | Syphilis | ✔ | ✔ | ✔ |  | NeurosyphilisCardiosyphilis ||\n",
      "|| Primarily sexually transmitted | Urogenital infections (e.g., Vaginitis, Urethritis, Cervicitis, and PID) | Gonorrhea | ✔ | ✔ |  | ✔ | PID ||\n",
      "|| Primarily sexually transmitted | Urogenital infections (e.g., Vaginitis, Urethritis, Cervicitis, and PID) | Chlamydia | ✔ | ✔ |  | ✔ | PID ||\n",
      "|| Primarily sexually transmitted | Urogenital infections (e.g., Vaginitis, Urethritis, Cervicitis, and PID) | Syphilis | ✔ | ✔ | ✔ |  | NeurosyphilisCardiosyphilis ||\n",
      "|| Primarily sexually transmitted | Urogenital infections (e.g., Vaginitis, Urethritis, Cervicitis, and PID) | Mycoplasma genitalium | ✔ | ✔ | unknown | unknown | PID ||\n",
      "|| Primarily sexually transmitted | Urogenital infections (e.g., Vaginitis, Urethritis, Cervicitis, and PID) | ''Trichomonas vaginalis'' | ✔ | ✔ |  |  | PID ||\n",
      "|| Less frequently sexually transmitted | Generalized Symptoms (e.g., constitutional symptoms) | Zika Virus | ✔ |  | ✔ |  | Vertical transmission and congenital abnormalities ||\n",
      "|| Less frequently sexually transmitted | Generalized Symptoms (e.g., constitutional symptoms) | Hepatitis B | ✔ | ✔ | ✔ |  | Hepatocellular Carcinoma ||\n",
      "|| Less frequently sexually transmitted | Generalized Symptoms (e.g., constitutional symptoms) | Hepatitis C | ✔ | ✔ | ✔ |  | Liver cirrhosis, Hepatocellular Carcinoma ||\n",
      "|| Less frequently sexually transmitted | Urogenital Infections  (e.g., Vaginitis, Urethritis, Cervicitis, and PID) | ''Gardnerella vaginalis'' | ✔ | ✔ |  |  | Moderate to severe discomfort ||\n",
      "|| Less frequently sexually transmitted | Urogenital Infections  (e.g., Vaginitis, Urethritis, Cervicitis, and PID) | Candidiasis (in females) |  | ✔ |  |  | Moderate to severe pruritis/discomfort ||\n",
      "|| Less frequently sexually transmitted | Urogenital Infections  (e.g., Vaginitis, Urethritis, Cervicitis, and PID) |  Ureaplasma urealyticum | ✔ | ✔ |  |  | Moderate to severe pruritis/discomfort ||\n"
     ]
    }
   ],
   "source": [
    "print(example_table_transformer.text)"
   ]
  },
  {
   "cell_type": "markdown",
   "id": "a465b244-4259-4d29-9ee1-9caec6e4c924",
   "metadata": {},
   "source": [
    "# Test for paragraph parsing into dictionary"
   ]
  },
  {
   "cell_type": "code",
   "execution_count": null,
   "id": "f7c09087-b203-4b92-8839-642f2c998dda",
   "metadata": {},
   "outputs": [],
   "source": [
    "from mdkengineering.utils.ElementDicts import *"
   ]
  },
  {
   "cell_type": "code",
   "execution_count": null,
   "id": "5a7fd8f6-3b9c-455b-beb2-8b58469dc57b",
   "metadata": {},
   "outputs": [],
   "source": [
    "exampleText1 = TextDict(\n",
    "    level=2,\n",
    "    content=\"This is an introductory paragraph discussing the \"\n",
    ")\n",
    "exampleText2 = TextDict(\n",
    "    level=3,\n",
    "    content=\"importance of testing\"\n",
    ")\n",
    "exampleText3 = TextDict(\n",
    "    level=2,\n",
    "    content=\" in software development.\"\n",
    ")\n",
    "exampleLink1 = LinkDict(\n",
    "    level=2,\n",
    "    url=\"https://www.example.com/\",\n",
    "    content=[exampleText2]\n",
    ")\n",
    "examplePara1 = ParagraphDict(\n",
    "    level=1,\n",
    "    content=[\n",
    "        exampleText1,\n",
    "        exampleLink1,\n",
    "        exampleText3\n",
    "    ]\n",
    ")"
   ]
  },
  {
   "cell_type": "code",
   "execution_count": null,
   "id": "6cd6be55-0364-44ed-a037-2b0b02ea39f2",
   "metadata": {},
   "outputs": [],
   "source": [
    "## Test Paragraph\n",
    "\n",
    "content_, flattened_content, content_string = examplePara1.prettify()\n",
    "print(f'content:\\n{list(content_)}')\n",
    "print(f'flattened content:\\n{list(flattened_content)}')\n",
    "print(f'content string:\\n{content_string}')"
   ]
  },
  {
   "cell_type": "code",
   "execution_count": null,
   "id": "d0d69c35-500b-4c99-8eba-6f23662bfa2c",
   "metadata": {},
   "outputs": [],
   "source": [
    "## Test Link\n",
    "content_format_, content_ = exampleLink1.prettify()\n",
    "print(f'content type: {type(content_format_)}')\n",
    "# print(f'content format: {content}')\n",
    "print(f'content:\\n{content_}')"
   ]
  },
  {
   "cell_type": "code",
   "execution_count": null,
   "id": "fbb30c37-bd63-4eb6-b227-45a4906fd246",
   "metadata": {},
   "outputs": [],
   "source": [
    "## Test Text\n",
    "content_format_, content_ = exampleText1.prettify()\n",
    "print(f'content:\\n{content_}')"
   ]
  },
  {
   "cell_type": "code",
   "execution_count": null,
   "id": "6d1969aa-492b-4b60-abd3-c92fdc7f21a7",
   "metadata": {},
   "outputs": [],
   "source": [
    "exampleDescriptionText1 = TextDict(level=2, content=\"Table 1 provides an overview of key metrics.\")\n",
    "    \n",
    "exampleText1 = TextDict(level=2, content=\"Metric\")\n",
    "exampleText2 = TextDict(level=2, content=\"Value\")\n",
    "exampleText3 = TextDict(level=2, content=\"Accuracy\")\n",
    "exampleText4 = TextDict(level=2, content=\"95%\")\n",
    "exampleText5 = TextDict(level=2, content=\"Precision\")\n",
    "exampleText6 = TextDict(level=3, content=\"92%\")\n",
    "exampleText7 = TextDict(level=2, content=\"approximately\")\n",
    "exampleLink1 = LinkDict(level=2, url=\"https://example.com/precision\", content=[exampleText6])\n",
    "\n",
    "exampleTable1 = TableDict(level=1, description=[exampleDescriptionText1], content=[[[exampleText1], [exampleText2]], [[exampleText3], [exampleText4]], [[exampleText5],[exampleText7, exampleLink1]]])"
   ]
  },
  {
   "cell_type": "code",
   "execution_count": null,
   "id": "c3abe702-4a15-4755-98a1-4623612404ef",
   "metadata": {},
   "outputs": [],
   "source": [
    "## Test Table\n",
    "content_format_, content_ = exampleTable1.prettify()\n",
    "print(f'content:\\n{content_}')"
   ]
  },
  {
   "cell_type": "code",
   "execution_count": null,
   "id": "7cb182b3-640e-48a2-91a2-c88ad0771297",
   "metadata": {},
   "outputs": [],
   "source": []
  }
 ],
 "metadata": {
  "kernelspec": {
   "display_name": "Python 3 (ipykernel)",
   "language": "python",
   "name": "python3"
  },
  "language_info": {
   "codemirror_mode": {
    "name": "ipython",
    "version": 3
   },
   "file_extension": ".py",
   "mimetype": "text/x-python",
   "name": "python",
   "nbconvert_exporter": "python",
   "pygments_lexer": "ipython3",
   "version": "3.11.7"
  }
 },
 "nbformat": 4,
 "nbformat_minor": 5
}
