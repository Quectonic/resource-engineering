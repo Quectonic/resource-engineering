{
 "cells": [
  {
   "cell_type": "code",
   "execution_count": null,
   "id": "310139f9-26d0-46e0-9c27-255af0f60fe0",
   "metadata": {},
   "outputs": [],
   "source": [
    "!pwd"
   ]
  },
  {
   "cell_type": "code",
   "execution_count": 1,
   "id": "6dd23015-ab8f-4351-9e12-e27709f19e01",
   "metadata": {},
   "outputs": [],
   "source": [
    "import sys\n",
    "sys.path.append('/Users/wylliamcheng/Desktop/Quectonic/core/web-production/resource-engineering/mdkengineering')"
   ]
  },
  {
   "cell_type": "code",
   "execution_count": 2,
   "id": "f7c09087-b203-4b92-8839-642f2c998dda",
   "metadata": {},
   "outputs": [],
   "source": [
    "from mdkengineering.utils.ElementDicts import *"
   ]
  },
  {
   "cell_type": "code",
   "execution_count": 3,
   "id": "3dd6bf3e-89cb-4f34-b250-9f38b67245b6",
   "metadata": {},
   "outputs": [],
   "source": [
    "exampleText1 = TextDict(\n",
    "    level=2,\n",
    "    content=\"This is an introductory paragraph discussing the \"\n",
    ")\n",
    "exampleText2 = TextDict(\n",
    "    level=3,\n",
    "    content=\"importance of testing\"\n",
    ")\n",
    "exampleText3 = TextDict(\n",
    "    level=2,\n",
    "    content=\" in software development.\"\n",
    ")\n",
    "exampleLink1 = LinkDict(\n",
    "    level=2,\n",
    "    url=\"https://www.wikipedia.com/example\",\n",
    "    content=[exampleText2]\n",
    ")\n",
    "examplePara1 = ParagraphDict(\n",
    "    level=1,\n",
    "    content=[\n",
    "        exampleText1,\n",
    "        exampleLink1,\n",
    "        exampleText3\n",
    "    ]\n",
    ")"
   ]
  },
  {
   "cell_type": "code",
   "execution_count": 4,
   "id": "6cd6be55-0364-44ed-a037-2b0b02ea39f2",
   "metadata": {},
   "outputs": [
    {
     "ename": "StopIteration",
     "evalue": "",
     "output_type": "error",
     "traceback": [
      "\u001b[0;31m---------------------------------------------------------------------------\u001b[0m",
      "\u001b[0;31mStopIteration\u001b[0m                             Traceback (most recent call last)",
      "Cell \u001b[0;32mIn[4], line 5\u001b[0m\n\u001b[1;32m      1\u001b[0m \u001b[38;5;66;03m## Test Paragraph\u001b[39;00m\n\u001b[1;32m      3\u001b[0m content_format_, content_ \u001b[38;5;241m=\u001b[39m examplePara1\u001b[38;5;241m.\u001b[39mprettify()\n\u001b[0;32m----> 5\u001b[0m \u001b[38;5;28mprint\u001b[39m(\u001b[38;5;124mf\u001b[39m\u001b[38;5;124m'\u001b[39m\u001b[38;5;124mcontent type:\u001b[39m\u001b[38;5;130;01m\\n\u001b[39;00m\u001b[38;5;132;01m{\u001b[39;00m\u001b[38;5;28mnext\u001b[39m(content_format_)\u001b[38;5;132;01m}\u001b[39;00m\u001b[38;5;124m'\u001b[39m)\n\u001b[1;32m      6\u001b[0m \u001b[38;5;66;03m# print(f'content format: {content}')\u001b[39;00m\n\u001b[1;32m      7\u001b[0m \u001b[38;5;28mprint\u001b[39m(\u001b[38;5;124mf\u001b[39m\u001b[38;5;124m'\u001b[39m\u001b[38;5;124mcontent:\u001b[39m\u001b[38;5;130;01m\\n\u001b[39;00m\u001b[38;5;132;01m{\u001b[39;00mcontent_\u001b[38;5;132;01m}\u001b[39;00m\u001b[38;5;124m'\u001b[39m)\n",
      "\u001b[0;31mStopIteration\u001b[0m: "
     ]
    }
   ],
   "source": [
    "## Test Paragraph\n",
    "\n",
    "content_format_, content_ = examplePara1.prettify()\n",
    "\n",
    "print(f'content type:\\n{content_format_}')\n",
    "# print(f'content format: {content}')\n",
    "print(f'content:\\n{content_}')"
   ]
  },
  {
   "cell_type": "code",
   "execution_count": null,
   "id": "d0d69c35-500b-4c99-8eba-6f23662bfa2c",
   "metadata": {},
   "outputs": [],
   "source": [
    "## Test Link\n",
    "content_format_, content_ = exampleLink1.prettify()\n",
    "print(f'content type: {type(content_format_)}')\n",
    "# print(f'content format: {content}')\n",
    "print(f'content:\\n{content_}')"
   ]
  },
  {
   "cell_type": "code",
   "execution_count": null,
   "id": "fbb30c37-bd63-4eb6-b227-45a4906fd246",
   "metadata": {},
   "outputs": [],
   "source": [
    "## Test Text\n",
    "content_format_, content_ = exampleText1.prettify()\n",
    "print(f'content:\\n{content_}')"
   ]
  },
  {
   "cell_type": "code",
   "execution_count": null,
   "id": "6d1969aa-492b-4b60-abd3-c92fdc7f21a7",
   "metadata": {},
   "outputs": [],
   "source": [
    "exampleDescriptionText1 = TextDict(level=2, content=\"Table 1 provides an overview of key metrics.\")\n",
    "    \n",
    "exampleText1 = TextDict(level=2, content=\"Metric\")\n",
    "exampleText2 = TextDict(level=2, content=\"Value\")\n",
    "exampleText3 = TextDict(level=2, content=\"Accuracy\")\n",
    "exampleText4 = TextDict(level=2, content=\"95%\")\n",
    "exampleText5 = TextDict(level=2, content=\"Precision\")\n",
    "exampleText6 = TextDict(level=3, content=\"92%\")\n",
    "exampleText7 = TextDict(level=2, content=\"approximately\")\n",
    "exampleLink1 = LinkDict(level=2, url=\"https://example.com/precision\", content=[exampleText6])\n",
    "\n",
    "exampleTable1 = TableDict(level=1, description=[exampleDescriptionText1], content=[[[exampleText1], [exampleText2]], [[exampleText3], [exampleText4]], [[exampleText5],[exampleText7, exampleLink1]]])"
   ]
  },
  {
   "cell_type": "code",
   "execution_count": null,
   "id": "c3abe702-4a15-4755-98a1-4623612404ef",
   "metadata": {},
   "outputs": [],
   "source": [
    "## Test Table\n",
    "content_format_, content_ = exampleTable1.prettify()\n",
    "print(f'content:\\n{content_}')"
   ]
  },
  {
   "cell_type": "code",
   "execution_count": null,
   "id": "7cb182b3-640e-48a2-91a2-c88ad0771297",
   "metadata": {},
   "outputs": [],
   "source": []
  }
 ],
 "metadata": {
  "kernelspec": {
   "display_name": "Python 3 (ipykernel)",
   "language": "python",
   "name": "python3"
  },
  "language_info": {
   "codemirror_mode": {
    "name": "ipython",
    "version": 3
   },
   "file_extension": ".py",
   "mimetype": "text/x-python",
   "name": "python",
   "nbconvert_exporter": "python",
   "pygments_lexer": "ipython3",
   "version": "3.11.7"
  }
 },
 "nbformat": 4,
 "nbformat_minor": 5
}
