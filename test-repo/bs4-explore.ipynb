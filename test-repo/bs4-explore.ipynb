{
 "cells": [
  {
   "cell_type": "code",
   "execution_count": 1,
   "id": "af388b1c-e4b7-48ef-b556-26b6b9a16f6a",
   "metadata": {},
   "outputs": [],
   "source": [
    "from bs4 import BeautifulSoup"
   ]
  },
  {
   "cell_type": "code",
   "execution_count": 88,
   "id": "338e15fb-6061-4727-a46a-3b29bda4462a",
   "metadata": {},
   "outputs": [],
   "source": [
    "exampleHtml = \"\"\"\n",
    "    <html>\n",
    "        <body>\n",
    "            <p>text is very <a href=\"https://www.example.com\">important</a> for instruction tuning.</p>\n",
    "            <p>2nd text</p>\n",
    "            <p>3rd text</p>\n",
    "        </body>\n",
    "    </html>\n",
    "\"\"\""
   ]
  },
  {
   "cell_type": "code",
   "execution_count": 89,
   "id": "d2cd70fd-1f84-4dcc-88e0-46dc96c956fc",
   "metadata": {},
   "outputs": [],
   "source": [
    "soup = BeautifulSoup(exampleHtml, 'html.parser')"
   ]
  },
  {
   "cell_type": "code",
   "execution_count": 96,
   "id": "7028b909-72f6-460c-b47a-1d226cc7bc82",
   "metadata": {},
   "outputs": [
    {
     "name": "stdout",
     "output_type": "stream",
     "text": [
      "<class 'bs4.element.Tag'>\n",
      "<class 'bs4.element.Tag'>\n",
      "<class 'bs4.element.Tag'>\n"
     ]
    }
   ],
   "source": [
    "body_tag = soup.find('body')\n",
    "p = body_tag.find_all('p')\n",
    "for item in p:\n",
    "    print(f'{type(item)}')"
   ]
  },
  {
   "cell_type": "code",
   "execution_count": 32,
   "id": "bd659b44-06bd-428e-b3ee-134404a416b3",
   "metadata": {},
   "outputs": [],
   "source": [
    "body_tag = soup.find('body')\n",
    "p_tag = soup.find('p')"
   ]
  },
  {
   "cell_type": "code",
   "execution_count": 33,
   "id": "d3ee0520-4d3a-4a8c-a541-ccff67622c37",
   "metadata": {},
   "outputs": [
    {
     "data": {
      "text/plain": [
       "<body>\n",
       "<p>text is very <a href=\"https://www.example.com\">important</a> for instruction tuning.</p>\n",
       "</body>"
      ]
     },
     "execution_count": 33,
     "metadata": {},
     "output_type": "execute_result"
    }
   ],
   "source": [
    "body_tag"
   ]
  },
  {
   "cell_type": "code",
   "execution_count": 34,
   "id": "bbf118b6-179c-4474-8cd5-f9a4b6d31798",
   "metadata": {},
   "outputs": [
    {
     "name": "stdout",
     "output_type": "stream",
     "text": [
      "\n",
      "\n",
      "<p>text is very <a href=\"https://www.example.com\">important</a> for instruction tuning.</p>\n",
      "\n",
      "\n"
     ]
    }
   ],
   "source": [
    "for element in body_tag.children:\n",
    "    print(element)"
   ]
  },
  {
   "cell_type": "code",
   "execution_count": 35,
   "id": "2a9cce4e-880c-42a1-919d-451ec8745e27",
   "metadata": {},
   "outputs": [
    {
     "name": "stdout",
     "output_type": "stream",
     "text": [
      "\n",
      "\n",
      "<p>text is very <a href=\"https://www.example.com\">important</a> for instruction tuning.</p>\n",
      "text is very \n",
      "<a href=\"https://www.example.com\">important</a>\n",
      "important\n",
      " for instruction tuning.\n",
      "\n",
      "\n"
     ]
    }
   ],
   "source": [
    "for element in body_tag.descendants:\n",
    "    print(element)"
   ]
  },
  {
   "cell_type": "code",
   "execution_count": 36,
   "id": "94b2f1e7-c459-41c9-88f1-24511a638ec0",
   "metadata": {},
   "outputs": [
    {
     "name": "stdout",
     "output_type": "stream",
     "text": [
      "\n",
      "\n",
      "<p>text is very <a href=\"https://www.example.com\">important</a> for instruction tuning.</p>\n",
      "\n",
      "\n"
     ]
    }
   ],
   "source": [
    "for element in body_tag.contents:\n",
    "    print(element)"
   ]
  },
  {
   "cell_type": "code",
   "execution_count": 37,
   "id": "44a7ac42-09a0-4ce7-a334-008d6bdc5b4e",
   "metadata": {},
   "outputs": [
    {
     "name": "stdout",
     "output_type": "stream",
     "text": [
      "\n",
      "\n",
      "text is very \n",
      "important\n",
      " for instruction tuning.\n",
      "\n",
      "\n"
     ]
    }
   ],
   "source": [
    "for element in body_tag.strings:\n",
    "    print(element)"
   ]
  },
  {
   "cell_type": "code",
   "execution_count": 38,
   "id": "6bec8800-9369-4c1c-bdef-c951afcb7c8a",
   "metadata": {},
   "outputs": [
    {
     "name": "stdout",
     "output_type": "stream",
     "text": [
      "\n",
      "\n",
      "p\n",
      "\n",
      "\n"
     ]
    }
   ],
   "source": [
    "for element in body_tag.children:\n",
    "    if element.name:\n",
    "        print(element.name)\n",
    "    else:\n",
    "        print(element)"
   ]
  },
  {
   "cell_type": "code",
   "execution_count": 39,
   "id": "1234df1d-8f06-4e7d-ac3e-95104d8679fd",
   "metadata": {},
   "outputs": [],
   "source": [
    "def recursive_print(element, indent=0):\n",
    "    indent_str = ' ' * indent\n",
    "    if element.name:\n",
    "        print(f\"{indent_str}Tag: {element.name}, Content: {element.get_text()}\")\n",
    "        for child in element.children:\n",
    "            recursive_print(child, indent + 4)"
   ]
  },
  {
   "cell_type": "code",
   "execution_count": 40,
   "id": "a1af40e3-a2a5-4a3b-9e07-1d6a47df6d2c",
   "metadata": {},
   "outputs": [
    {
     "name": "stdout",
     "output_type": "stream",
     "text": [
      "Tag: body, Content: \n",
      "text is very important for instruction tuning.\n",
      "\n",
      "    Tag: p, Content: text is very important for instruction tuning.\n",
      "        Tag: a, Content: important\n"
     ]
    }
   ],
   "source": [
    "recursive_print(body_tag)"
   ]
  },
  {
   "cell_type": "code",
   "execution_count": 41,
   "id": "98309441-addf-4c33-a6c4-4cf7a6379e76",
   "metadata": {},
   "outputs": [
    {
     "name": "stdout",
     "output_type": "stream",
     "text": [
      "0 [None], [<class 'bs4.element.NavigableString'>]: \n",
      "\n",
      "0 [p], [<class 'bs4.element.Tag'>]: <p>text is very <a href=\"https://www.example.com\">important</a> for instruction tuning.</p>\n",
      "0 [None], [<class 'bs4.element.NavigableString'>]: \n",
      "\n"
     ]
    }
   ],
   "source": [
    "item = 0\n",
    "for element in body_tag.contents:\n",
    "    print(f'{item} [{element.name}], [{type(element)}]: {element}')"
   ]
  },
  {
   "cell_type": "code",
   "execution_count": 46,
   "id": "bd294df4-d700-4a45-ada0-b2c9145593e9",
   "metadata": {},
   "outputs": [
    {
     "name": "stdout",
     "output_type": "stream",
     "text": [
      "0 [None], [<class 'bs4.element.NavigableString'>]: text is very \n",
      "0 [a], [<class 'bs4.element.Tag'>]: <a href=\"https://www.example.com\">important</a>\n",
      "0 [None], [<class 'bs4.element.NavigableString'>]:  for instruction tuning.\n"
     ]
    }
   ],
   "source": [
    "item = 0\n",
    "for element in p_tag.contents:\n",
    "    print(f'{item} [{element.name}], [{type(element)}]: {str(element)}')"
   ]
  },
  {
   "cell_type": "code",
   "execution_count": 43,
   "id": "a929fc38-c628-43b4-b074-9d8908d42fe2",
   "metadata": {},
   "outputs": [],
   "source": [
    "from typing import List"
   ]
  },
  {
   "cell_type": "code",
   "execution_count": 44,
   "id": "5c24c810-fa17-4c68-a311-5a90a2386864",
   "metadata": {},
   "outputs": [
    {
     "ename": "TypeError",
     "evalue": "can only concatenate str (not \"int\") to str",
     "output_type": "error",
     "traceback": [
      "\u001b[0;31m---------------------------------------------------------------------------\u001b[0m",
      "\u001b[0;31mTypeError\u001b[0m                                 Traceback (most recent call last)",
      "Cell \u001b[0;32mIn[44], line 4\u001b[0m\n\u001b[1;32m      1\u001b[0m \u001b[38;5;28;01mdef\u001b[39;00m \u001b[38;5;21mf\u001b[39m(some_list: List[\u001b[38;5;28mint\u001b[39m]) \u001b[38;5;241m-\u001b[39m\u001b[38;5;241m>\u001b[39m List[\u001b[38;5;28mint\u001b[39m]:\n\u001b[1;32m      2\u001b[0m     \u001b[38;5;28;01mreturn\u001b[39;00m [i\u001b[38;5;241m+\u001b[39m\u001b[38;5;241m2\u001b[39m \u001b[38;5;28;01mfor\u001b[39;00m i \u001b[38;5;129;01min\u001b[39;00m some_list]\n\u001b[0;32m----> 4\u001b[0m f([\u001b[38;5;124m'\u001b[39m\u001b[38;5;124ma\u001b[39m\u001b[38;5;124m'\u001b[39m, \u001b[38;5;124m'\u001b[39m\u001b[38;5;124mb\u001b[39m\u001b[38;5;124m'\u001b[39m, \u001b[38;5;124m'\u001b[39m\u001b[38;5;124mc\u001b[39m\u001b[38;5;124m'\u001b[39m])\n",
      "Cell \u001b[0;32mIn[44], line 2\u001b[0m, in \u001b[0;36mf\u001b[0;34m(some_list)\u001b[0m\n\u001b[1;32m      1\u001b[0m \u001b[38;5;28;01mdef\u001b[39;00m \u001b[38;5;21mf\u001b[39m(some_list: List[\u001b[38;5;28mint\u001b[39m]) \u001b[38;5;241m-\u001b[39m\u001b[38;5;241m>\u001b[39m List[\u001b[38;5;28mint\u001b[39m]:\n\u001b[0;32m----> 2\u001b[0m     \u001b[38;5;28;01mreturn\u001b[39;00m [i\u001b[38;5;241m+\u001b[39m\u001b[38;5;241m2\u001b[39m \u001b[38;5;28;01mfor\u001b[39;00m i \u001b[38;5;129;01min\u001b[39;00m some_list]\n",
      "Cell \u001b[0;32mIn[44], line 2\u001b[0m, in \u001b[0;36m<listcomp>\u001b[0;34m(.0)\u001b[0m\n\u001b[1;32m      1\u001b[0m \u001b[38;5;28;01mdef\u001b[39;00m \u001b[38;5;21mf\u001b[39m(some_list: List[\u001b[38;5;28mint\u001b[39m]) \u001b[38;5;241m-\u001b[39m\u001b[38;5;241m>\u001b[39m List[\u001b[38;5;28mint\u001b[39m]:\n\u001b[0;32m----> 2\u001b[0m     \u001b[38;5;28;01mreturn\u001b[39;00m [i\u001b[38;5;241m+\u001b[39m\u001b[38;5;241m2\u001b[39m \u001b[38;5;28;01mfor\u001b[39;00m i \u001b[38;5;129;01min\u001b[39;00m some_list]\n",
      "\u001b[0;31mTypeError\u001b[0m: can only concatenate str (not \"int\") to str"
     ]
    }
   ],
   "source": [
    "from typing import TypeVar\n",
    "\n",
    "T = TypeVar('T')\n",
    "\n",
    "def first_element(elements: list[T]) -> T:\n",
    "    return elements[0]"
   ]
  },
  {
   "cell_type": "code",
   "execution_count": 45,
   "id": "4540091c-e5cf-423e-8b16-89cbea8fb4b8",
   "metadata": {},
   "outputs": [
    {
     "ename": "TypeError",
     "evalue": "can only concatenate str (not \"int\") to str",
     "output_type": "error",
     "traceback": [
      "\u001b[0;31m---------------------------------------------------------------------------\u001b[0m",
      "\u001b[0;31mTypeError\u001b[0m                                 Traceback (most recent call last)",
      "Cell \u001b[0;32mIn[45], line 4\u001b[0m\n\u001b[1;32m      1\u001b[0m \u001b[38;5;28;01mdef\u001b[39;00m \u001b[38;5;21mf\u001b[39m(some_list: \u001b[38;5;28mlist\u001b[39m):\n\u001b[1;32m      2\u001b[0m     \u001b[38;5;28;01mreturn\u001b[39;00m [i\u001b[38;5;241m+\u001b[39m\u001b[38;5;241m2\u001b[39m \u001b[38;5;28;01mfor\u001b[39;00m i \u001b[38;5;129;01min\u001b[39;00m some_list]\n\u001b[0;32m----> 4\u001b[0m f([\u001b[38;5;124m'\u001b[39m\u001b[38;5;124ma\u001b[39m\u001b[38;5;124m'\u001b[39m, \u001b[38;5;124m'\u001b[39m\u001b[38;5;124mb\u001b[39m\u001b[38;5;124m'\u001b[39m, \u001b[38;5;124m'\u001b[39m\u001b[38;5;124mc\u001b[39m\u001b[38;5;124m'\u001b[39m])\n",
      "Cell \u001b[0;32mIn[45], line 2\u001b[0m, in \u001b[0;36mf\u001b[0;34m(some_list)\u001b[0m\n\u001b[1;32m      1\u001b[0m \u001b[38;5;28;01mdef\u001b[39;00m \u001b[38;5;21mf\u001b[39m(some_list: \u001b[38;5;28mlist\u001b[39m):\n\u001b[0;32m----> 2\u001b[0m     \u001b[38;5;28;01mreturn\u001b[39;00m [i\u001b[38;5;241m+\u001b[39m\u001b[38;5;241m2\u001b[39m \u001b[38;5;28;01mfor\u001b[39;00m i \u001b[38;5;129;01min\u001b[39;00m some_list]\n",
      "Cell \u001b[0;32mIn[45], line 2\u001b[0m, in \u001b[0;36m<listcomp>\u001b[0;34m(.0)\u001b[0m\n\u001b[1;32m      1\u001b[0m \u001b[38;5;28;01mdef\u001b[39;00m \u001b[38;5;21mf\u001b[39m(some_list: \u001b[38;5;28mlist\u001b[39m):\n\u001b[0;32m----> 2\u001b[0m     \u001b[38;5;28;01mreturn\u001b[39;00m [i\u001b[38;5;241m+\u001b[39m\u001b[38;5;241m2\u001b[39m \u001b[38;5;28;01mfor\u001b[39;00m i \u001b[38;5;129;01min\u001b[39;00m some_list]\n",
      "\u001b[0;31mTypeError\u001b[0m: can only concatenate str (not \"int\") to str"
     ]
    }
   ],
   "source": [
    "def f(some_list: list):\n",
    "    return [i+2 for i in some_list]\n",
    "\n",
    "f(['a', 'b', 'c'])"
   ]
  },
  {
   "cell_type": "markdown",
   "id": "4f327590-3713-4800-98dd-6e3b961c9763",
   "metadata": {},
   "source": [
    "# Testing for special cases"
   ]
  },
  {
   "cell_type": "code",
   "execution_count": 47,
   "id": "b4eb6b82-06ea-43bb-93a5-922e63e6307a",
   "metadata": {},
   "outputs": [],
   "source": [
    "exampleHtml = \"\"\"\n",
    "<figcaption>DNA replication. The double helix is unwound by a <a href=\"/index.php/Helicase\" title=\"Helicase\">helicase</a> and <a href=\"/index.php/Topoisomerase\" title=\"Topoisomerase\">topoisomerase</a>. Next, one <a href=\"/index.php/DNA_polymerase\" title=\"DNA polymerase\">DNA polymerase</a> produces the <a href=\"/index.php/Replication_fork\" title=\"Replication fork\">leading strand</a> copy. Another DNA polymerase binds to the <a href=\"/index.php/Replication_fork\" title=\"Replication fork\">lagging strand</a>. This enzyme makes discontinuous segments (called <a href=\"/index.php/Okazaki_fragment\" title=\"Okazaki fragment\">Okazaki fragments</a>) before <a href=\"/index.php/DNA_ligase\" title=\"DNA ligase\">DNA ligase</a> joins them together.</figcaption>\n",
    "\"\"\""
   ]
  },
  {
   "cell_type": "code",
   "execution_count": 48,
   "id": "ef43a331-1b19-448a-8c86-e8bf9ac249da",
   "metadata": {},
   "outputs": [],
   "source": [
    "soup2 = BeautifulSoup(exampleHtml, 'html.parser')"
   ]
  },
  {
   "cell_type": "code",
   "execution_count": 49,
   "id": "71af2a03-509c-41c5-b2d0-eab108c68e4f",
   "metadata": {},
   "outputs": [
    {
     "name": "stdout",
     "output_type": "stream",
     "text": [
      "\n",
      "   <class 'bs4.element.NavigableString'>   None\n",
      "<figcaption>DNA replication. The double helix is unwound by a <a href=\"/index.php/Helicase\" title=\"Helicase\">helicase</a> and <a href=\"/index.php/Topoisomerase\" title=\"Topoisomerase\">topoisomerase</a>. Next, one <a href=\"/index.php/DNA_polymerase\" title=\"DNA polymerase\">DNA polymerase</a> produces the <a href=\"/index.php/Replication_fork\" title=\"Replication fork\">leading strand</a> copy. Another DNA polymerase binds to the <a href=\"/index.php/Replication_fork\" title=\"Replication fork\">lagging strand</a>. This enzyme makes discontinuous segments (called <a href=\"/index.php/Okazaki_fragment\" title=\"Okazaki fragment\">Okazaki fragments</a>) before <a href=\"/index.php/DNA_ligase\" title=\"DNA ligase\">DNA ligase</a> joins them together.</figcaption>   <class 'bs4.element.Tag'>   figcaption\n",
      "\n",
      "   <class 'bs4.element.NavigableString'>   None\n"
     ]
    }
   ],
   "source": [
    "for item in soup2.contents:\n",
    "    print(item, \" \", type(item), \" \", item.name)"
   ]
  },
  {
   "cell_type": "markdown",
   "id": "2e1fc8ba-e8db-49ac-ad9b-e4d072d4ddd8",
   "metadata": {},
   "source": [
    "# Testing for recursive field access"
   ]
  },
  {
   "cell_type": "code",
   "execution_count": 52,
   "id": "30c04cc5-f407-42ab-878c-591fc026f71b",
   "metadata": {},
   "outputs": [],
   "source": [
    "iteming4 = {\n",
    "    \"idx\": 1,\n",
    "    \"children\": \"child\"\n",
    "}\n",
    "\n",
    "iteming3 = {\n",
    "    \"idx\": 1,\n",
    "    \"children\": iteming4\n",
    "}\n",
    "\n",
    "iteming2 = {\n",
    "    \"idx\": 1,\n",
    "    \"children\": iteming3\n",
    "}\n",
    "\n",
    "iteming1 = {\n",
    "    \"idx\": 1,\n",
    "    \"children\": iteming2\n",
    "}"
   ]
  },
  {
   "cell_type": "code",
   "execution_count": 65,
   "id": "d5126330-da4f-46d9-bc22-005d6240db1f",
   "metadata": {},
   "outputs": [
    {
     "name": "stdout",
     "output_type": "stream",
     "text": [
      "changing value\n",
      "{'idx': 1, 'children': {'idx': 1, 'children': {'idx': 1, 'children': 'parent'}}}\n"
     ]
    }
   ],
   "source": [
    "# Start from the outermost dictionary\n",
    "current_item = iteming1\n",
    "\n",
    "# Assume we know the number of nested levels\n",
    "num_of_levels = 4  # Based on your example\n",
    "\n",
    "# Use a loop to access the deepest child\n",
    "for _ in range(num_of_levels - 2):  # We subtract 1 because the last \"children\" is a string\n",
    "    current_item = current_item[\"children\"]\n",
    "    if (type(current_item[\"children\"]) == str):\n",
    "        print(f'changing value')\n",
    "        current_item[\"children\"] = \"parent\"\n",
    "\n",
    "print(iteming1)\n"
   ]
  },
  {
   "cell_type": "code",
   "execution_count": 62,
   "id": "8cb144dc-8d22-4e55-81b5-1c4487bd6a0c",
   "metadata": {},
   "outputs": [
    {
     "name": "stdout",
     "output_type": "stream",
     "text": [
      "{'idx': 1, 'children': {'idx': 1, 'children': {'idx': 1, 'children': 'new_value'}}}\n"
     ]
    }
   ],
   "source": [
    "iteming1 = {\n",
    "    \"idx\": 1,\n",
    "    \"children\": {\n",
    "        \"idx\": 1,\n",
    "        \"children\": {\n",
    "            \"idx\": 1,\n",
    "            \"children\": {\n",
    "                \"idx\": 1,\n",
    "                \"children\": \"child\"\n",
    "            }\n",
    "        }\n",
    "    }\n",
    "}\n",
    "\n",
    "# Start from the outermost dictionary\n",
    "current_item = iteming1\n",
    "\n",
    "# Assume we know the number of nested levels\n",
    "num_of_levels = 4  # Based on your example\n",
    "\n",
    "# Use a loop to navigate to the second-to-last level\n",
    "for _ in range(num_of_levels - 2):  # We stop one level before the deepest\n",
    "    current_item = current_item[\"children\"]\n",
    "\n",
    "# Now we can update the deepest 'children' value\n",
    "current_item[\"children\"] = \"new_value\"\n",
    "\n",
    "# Verify the change\n",
    "print(iteming1)"
   ]
  },
  {
   "cell_type": "code",
   "execution_count": 74,
   "id": "f12c14da-4a3b-404d-8585-6b1de12a71a0",
   "metadata": {},
   "outputs": [
    {
     "name": "stdout",
     "output_type": "stream",
     "text": [
      "h1\n"
     ]
    }
   ],
   "source": [
    "for tmp_support_level in range(1, 0, -1):\n",
    "    print(f\"h{tmp_support_level}\")"
   ]
  },
  {
   "cell_type": "markdown",
   "id": "74b79bd9-096a-4d50-a7bc-0962f48acbdb",
   "metadata": {},
   "source": [
    "# Dictionary Iteration Test"
   ]
  },
  {
   "cell_type": "code",
   "execution_count": 75,
   "id": "d91d1b68-9786-4512-ae25-782351ae9b75",
   "metadata": {},
   "outputs": [],
   "source": [
    "exampleDict = {\n",
    "    'field1': 'value1',\n",
    "    'field2': 'value2',\n",
    "    'field3': 'value3'\n",
    "}"
   ]
  },
  {
   "cell_type": "code",
   "execution_count": 76,
   "id": "53a88189-2022-4c06-8ab5-80beaa3a9e9c",
   "metadata": {},
   "outputs": [
    {
     "name": "stdout",
     "output_type": "stream",
     "text": [
      "field1\n",
      "field2\n",
      "field3\n"
     ]
    }
   ],
   "source": [
    "for item in exampleDict:\n",
    "    print(item)"
   ]
  },
  {
   "cell_type": "markdown",
   "id": "96a05a52-d39d-48d5-ac56-25f493cfd9c4",
   "metadata": {},
   "source": [
    "# Link Extraction Test"
   ]
  },
  {
   "cell_type": "code",
   "execution_count": 97,
   "id": "2b4cbbbe-c249-4c09-9178-a0da4c4e0afc",
   "metadata": {},
   "outputs": [],
   "source": [
    "html_media = \"\"\"<a href=\"/index.php/File:HIV_Life_Cycle.jpg\" class=\"mw-file-description\"><img src=\"/images/0/0b/HIV_Life_Cycle.jpg\" decoding=\"async\" width=\"600\" height=\"777\"></a>\"\"\""
   ]
  },
  {
   "cell_type": "code",
   "execution_count": 101,
   "id": "be7ab69c-9c62-4a2e-9ff4-12819130598c",
   "metadata": {},
   "outputs": [
    {
     "data": {
      "text/plain": [
       "<img decoding=\"async\" height=\"777\" src=\"/images/0/0b/HIV_Life_Cycle.jpg\" width=\"600\"/>"
      ]
     },
     "execution_count": 101,
     "metadata": {},
     "output_type": "execute_result"
    }
   ],
   "source": [
    "soup = BeautifulSoup(html_media, 'html.parser')\n",
    "link = soup.find('img', attrs={'src': '/images/0/0b/HIV_Life_Cycle.jpg'})\n",
    "link"
   ]
  },
  {
   "cell_type": "code",
   "execution_count": null,
   "id": "df0c9058-bf71-4f34-9840-76cf4dedfdb1",
   "metadata": {},
   "outputs": [],
   "source": []
  }
 ],
 "metadata": {
  "kernelspec": {
   "display_name": "Python 3 (ipykernel)",
   "language": "python",
   "name": "python3"
  },
  "language_info": {
   "codemirror_mode": {
    "name": "ipython",
    "version": 3
   },
   "file_extension": ".py",
   "mimetype": "text/x-python",
   "name": "python",
   "nbconvert_exporter": "python",
   "pygments_lexer": "ipython3",
   "version": "3.11.7"
  }
 },
 "nbformat": 4,
 "nbformat_minor": 5
}
